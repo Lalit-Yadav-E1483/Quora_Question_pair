{
 "cells": [
  {
   "cell_type": "markdown",
   "metadata": {},
   "source": [
    "<p style=\"font-size:32px\"> \n",
    "    <b>Personalized cancer diagnosis</b> \n",
    "</p>"
   ]
  },
  {
   "cell_type": "markdown",
   "metadata": {},
   "source": [
    "## Description"
   ]
  },
  {
   "cell_type": "markdown",
   "metadata": {},
   "source": [
    "<p> Source: https://www.kaggle.com/c/msk-redefining-cancer-treatment/ </p>"
   ]
  },
  {
   "cell_type": "markdown",
   "metadata": {},
   "source": [
    "## Data"
   ]
  },
  {
   "cell_type": "markdown",
   "metadata": {},
   "source": [
    "<p> :: Memorial Sloan Kettering Cancer Center (MSKCC) :: </p>\n",
    "\n",
    "There are nine different classes a genetic mutation can be classified on.\n",
    "\n",
    "Both, training and test, data sets are provided via two different files. One (training/test_variants) provides the information about the genetic mutations, whereas the other (training/test_text) provides the clinical evidence (text) that our human experts used to classify the genetic mutations. Both are linked via the ID field.\n",
    "\n",
    "Therefore the genetic mutation (row) with ID=15 in the file training_variants, was classified using the clinical evidence (text) from the row with ID=15 in the file training_text\n",
    "\n",
    "> <b> Some of the test data is machine-generated to prevent hand labeling.</b>\n",
    "\n",
    "\n",
    "- We have two data files: one conatins the information about the genetic mutations and the other contains the clinical evidence (text) that  human experts/pathologists use to classify the genetic mutations. \n",
    "- Both these data files are have a common column called ID\n",
    "- <p> \n",
    "    Data file's information:\n",
    "    <ul> \n",
    "        <li>\n",
    "        training_variants (ID , Gene, Variations, Class)\n",
    "        </li>\n",
    "        <li>\n",
    "        training_text (ID, Text)\n",
    "        </li>\n",
    "    </ul>\n",
    "</p>"
   ]
  },
  {
   "cell_type": "markdown",
   "metadata": {},
   "source": [
    "## Real-world/Business objectives and constraints"
   ]
  },
  {
   "cell_type": "markdown",
   "metadata": {},
   "source": [
    "* No low-latency requirement.\n",
    "* Interpretability is important.\n",
    "* Errors can be very costly.\n",
    "* Probability of a data-point belonging to each class is needed."
   ]
  },
  {
   "cell_type": "code",
   "execution_count": 10,
   "metadata": {},
   "outputs": [],
   "source": [
    "import pandas as pd\n",
    "import matplotlib.pyplot as plt\n",
    "import re\n",
    "import time\n",
    "import warnings\n",
    "import numpy as np\n",
    "from nltk.corpus import stopwords\n",
    "from sklearn.decomposition import TruncatedSVD\n",
    "from sklearn.preprocessing import normalize\n",
    "from sklearn.feature_extraction.text import CountVectorizer\n",
    "from sklearn.manifold import TSNE\n",
    "import seaborn as sns\n",
    "from sklearn.neighbors import KNeighborsClassifier\n",
    "from sklearn.metrics import confusion_matrix\n",
    "from sklearn.metrics.classification import accuracy_score, log_loss\n",
    "from sklearn.feature_extraction.text import TfidfVectorizer\n",
    "from sklearn.linear_model import SGDClassifier\n",
    "from imblearn.over_sampling import SMOTE\n",
    "from collections import Counter\n",
    "from scipy.sparse import hstack\n",
    "from sklearn.multiclass import OneVsRestClassifier\n",
    "from sklearn.svm import SVC\n",
    "from sklearn.model_selection import StratifiedKFold \n",
    "from collections import Counter, defaultdict\n",
    "from sklearn.calibration import CalibratedClassifierCV\n",
    "from sklearn.naive_bayes import MultinomialNB\n",
    "from sklearn.naive_bayes import GaussianNB\n",
    "from sklearn.model_selection import train_test_split\n",
    "from sklearn.model_selection import GridSearchCV\n",
    "import math\n",
    "from sklearn.metrics import normalized_mutual_info_score\n",
    "from sklearn.ensemble import RandomForestClassifier\n",
    "warnings.filterwarnings(\"ignore\")\n",
    "\n",
    "from mlxtend.classifier import StackingClassifier\n",
    "\n",
    "from sklearn import model_selection\n",
    "from sklearn.linear_model import LogisticRegression\n",
    "from pathlib import Path"
   ]
  },
  {
   "cell_type": "markdown",
   "metadata": {},
   "source": [
    "<h2> Reading Data</h2>"
   ]
  },
  {
   "cell_type": "markdown",
   "metadata": {},
   "source": [
    "<h3> Reading Gene and Variation Data</h3>"
   ]
  },
  {
   "cell_type": "code",
   "execution_count": 50,
   "metadata": {},
   "outputs": [
    {
     "data": {
      "text/plain": [
       "[PosixPath('../data/cancer_diagnosis/msk-redefining-cancer-treatment.zip'),\n",
       " PosixPath('../data/cancer_diagnosis/stage1_solution_filtered.csv.7z'),\n",
       " PosixPath('../data/cancer_diagnosis/stage2_sample_submission.csv.7z'),\n",
       " PosixPath('../data/cancer_diagnosis/stage2_test_text.csv.7z'),\n",
       " PosixPath('../data/cancer_diagnosis/stage2_test_variants.csv.7z'),\n",
       " PosixPath('../data/cancer_diagnosis/stage_2_private_solution.csv.7z'),\n",
       " PosixPath('../data/cancer_diagnosis/test_text'),\n",
       " PosixPath('../data/cancer_diagnosis/test_text.zip'),\n",
       " PosixPath('../data/cancer_diagnosis/test_variants'),\n",
       " PosixPath('../data/cancer_diagnosis/test_variants.zip'),\n",
       " PosixPath('../data/cancer_diagnosis/training_text'),\n",
       " PosixPath('../data/cancer_diagnosis/training_text.zip'),\n",
       " PosixPath('../data/cancer_diagnosis/training_variants'),\n",
       " PosixPath('../data/cancer_diagnosis/training_variants.zip')]"
      ]
     },
     "execution_count": 50,
     "metadata": {},
     "output_type": "execute_result"
    }
   ],
   "source": [
    "path = Path('../data/cancer_diagnosis')\n",
    "list(path.iterdir())"
   ]
  },
  {
   "cell_type": "markdown",
   "metadata": {},
   "source": [
    "<h3> Reading the variants Data</h3>"
   ]
  },
  {
   "cell_type": "code",
   "execution_count": 51,
   "metadata": {},
   "outputs": [
    {
     "name": "stdout",
     "output_type": "stream",
     "text": [
      "Number of data points and features:: (3321, 4)\n"
     ]
    },
    {
     "data": {
      "text/html": [
       "<div>\n",
       "<style scoped>\n",
       "    .dataframe tbody tr th:only-of-type {\n",
       "        vertical-align: middle;\n",
       "    }\n",
       "\n",
       "    .dataframe tbody tr th {\n",
       "        vertical-align: top;\n",
       "    }\n",
       "\n",
       "    .dataframe thead th {\n",
       "        text-align: right;\n",
       "    }\n",
       "</style>\n",
       "<table border=\"1\" class=\"dataframe\">\n",
       "  <thead>\n",
       "    <tr style=\"text-align: right;\">\n",
       "      <th></th>\n",
       "      <th>ID</th>\n",
       "      <th>Gene</th>\n",
       "      <th>Variation</th>\n",
       "      <th>Class</th>\n",
       "    </tr>\n",
       "  </thead>\n",
       "  <tbody>\n",
       "    <tr>\n",
       "      <th>0</th>\n",
       "      <td>0</td>\n",
       "      <td>FAM58A</td>\n",
       "      <td>Truncating Mutations</td>\n",
       "      <td>1</td>\n",
       "    </tr>\n",
       "    <tr>\n",
       "      <th>1</th>\n",
       "      <td>1</td>\n",
       "      <td>CBL</td>\n",
       "      <td>W802*</td>\n",
       "      <td>2</td>\n",
       "    </tr>\n",
       "    <tr>\n",
       "      <th>2</th>\n",
       "      <td>2</td>\n",
       "      <td>CBL</td>\n",
       "      <td>Q249E</td>\n",
       "      <td>2</td>\n",
       "    </tr>\n",
       "    <tr>\n",
       "      <th>3</th>\n",
       "      <td>3</td>\n",
       "      <td>CBL</td>\n",
       "      <td>N454D</td>\n",
       "      <td>3</td>\n",
       "    </tr>\n",
       "    <tr>\n",
       "      <th>4</th>\n",
       "      <td>4</td>\n",
       "      <td>CBL</td>\n",
       "      <td>L399V</td>\n",
       "      <td>4</td>\n",
       "    </tr>\n",
       "  </tbody>\n",
       "</table>\n",
       "</div>"
      ],
      "text/plain": [
       "   ID    Gene             Variation  Class\n",
       "0   0  FAM58A  Truncating Mutations      1\n",
       "1   1     CBL                 W802*      2\n",
       "2   2     CBL                 Q249E      2\n",
       "3   3     CBL                 N454D      3\n",
       "4   4     CBL                 L399V      4"
      ]
     },
     "execution_count": 51,
     "metadata": {},
     "output_type": "execute_result"
    }
   ],
   "source": [
    "df_variants = pd.read_csv(path/'training_variants')\n",
    "print(f\"Number of data points and features:: {df_variants.shape}\")\n",
    "df_variants.head()"
   ]
  },
  {
   "cell_type": "markdown",
   "metadata": {},
   "source": [
    "<p>\n",
    "    training_variants is a comma separated file containing the description of the genetic mutations used for training. <br>\n",
    "    Fields are \n",
    "    <ul>\n",
    "        <li><b>ID : </b>the id of the row used to link the mutation to the clinical evidence</li>\n",
    "        <li><b>Gene : </b>the gene where this genetic mutation is located </li>\n",
    "        <li><b>Variation : </b>the aminoacid change for this mutations </li>\n",
    "        <li><b>Class :</b> 1-9 the class this genetic mutation has been classified on</li>\n",
    "    </ul>\n",
    "</p>"
   ]
  },
  {
   "cell_type": "markdown",
   "metadata": {},
   "source": [
    "<h3> Reading the text Data</h3>"
   ]
  },
  {
   "cell_type": "code",
   "execution_count": 52,
   "metadata": {},
   "outputs": [],
   "source": [
    "# !head -n 2 {path/'training_text'}"
   ]
  },
  {
   "cell_type": "code",
   "execution_count": 53,
   "metadata": {},
   "outputs": [
    {
     "name": "stdout",
     "output_type": "stream",
     "text": [
      "Number of data points and features:: (3321, 2)\n"
     ]
    },
    {
     "data": {
      "text/html": [
       "<div>\n",
       "<style scoped>\n",
       "    .dataframe tbody tr th:only-of-type {\n",
       "        vertical-align: middle;\n",
       "    }\n",
       "\n",
       "    .dataframe tbody tr th {\n",
       "        vertical-align: top;\n",
       "    }\n",
       "\n",
       "    .dataframe thead th {\n",
       "        text-align: right;\n",
       "    }\n",
       "</style>\n",
       "<table border=\"1\" class=\"dataframe\">\n",
       "  <thead>\n",
       "    <tr style=\"text-align: right;\">\n",
       "      <th></th>\n",
       "      <th>ID</th>\n",
       "      <th>TEXT</th>\n",
       "    </tr>\n",
       "  </thead>\n",
       "  <tbody>\n",
       "    <tr>\n",
       "      <th>0</th>\n",
       "      <td>0</td>\n",
       "      <td>Cyclin-dependent kinases (CDKs) regulate a var...</td>\n",
       "    </tr>\n",
       "    <tr>\n",
       "      <th>1</th>\n",
       "      <td>1</td>\n",
       "      <td>Abstract Background  Non-small cell lung canc...</td>\n",
       "    </tr>\n",
       "    <tr>\n",
       "      <th>2</th>\n",
       "      <td>2</td>\n",
       "      <td>Abstract Background  Non-small cell lung canc...</td>\n",
       "    </tr>\n",
       "    <tr>\n",
       "      <th>3</th>\n",
       "      <td>3</td>\n",
       "      <td>Recent evidence has demonstrated that acquired...</td>\n",
       "    </tr>\n",
       "    <tr>\n",
       "      <th>4</th>\n",
       "      <td>4</td>\n",
       "      <td>Oncogenic mutations in the monomeric Casitas B...</td>\n",
       "    </tr>\n",
       "  </tbody>\n",
       "</table>\n",
       "</div>"
      ],
      "text/plain": [
       "   ID                                               TEXT\n",
       "0   0  Cyclin-dependent kinases (CDKs) regulate a var...\n",
       "1   1   Abstract Background  Non-small cell lung canc...\n",
       "2   2   Abstract Background  Non-small cell lung canc...\n",
       "3   3  Recent evidence has demonstrated that acquired...\n",
       "4   4  Oncogenic mutations in the monomeric Casitas B..."
      ]
     },
     "execution_count": 53,
     "metadata": {},
     "output_type": "execute_result"
    }
   ],
   "source": [
    "df_text = pd.read_csv(path/'training_text', sep=\"\\|\\|\", engine=\"python\", names=['ID', 'TEXT'], skiprows=1)\n",
    "print(f\"Number of data points and features:: {df_text.shape}\")\n",
    "df_text.head()\n"
   ]
  },
  {
   "cell_type": "code",
   "execution_count": 54,
   "metadata": {},
   "outputs": [],
   "source": [
    "# loading stop words from nltk library\n",
    "stop_words = set(stopwords.words('english'))\n",
    "\n",
    "def text_preprocessing(total_text, index, column):\n",
    "    if type(total_text) is not int:\n",
    "        string = \"\"\n",
    "        total_text = re.sub('[^a-zA-Z0-9\\n]', ' ', total_text)\n",
    "        total_text = re.sub('\\s+', ' ', total_text)\n",
    "        total_text = total_text.lower()\n",
    "        \n",
    "        for word in total_text.split():\n",
    "            if word not in stop_words:\n",
    "                string += word + \" \"\n",
    "        df_text[column][index] = string"
   ]
  },
  {
   "cell_type": "code",
   "execution_count": 55,
   "metadata": {},
   "outputs": [
    {
     "name": "stdout",
     "output_type": "stream",
     "text": [
      "There is no test for row:: 1109\n",
      "There is no test for row:: 1277\n",
      "There is no test for row:: 1407\n",
      "There is no test for row:: 1639\n",
      "There is no test for row:: 2755\n",
      "Time took for preprocessing the text:: 671.928035\n"
     ]
    }
   ],
   "source": [
    "#text processing stage.\n",
    "start_time = time.clock()\n",
    "for index, row in df_text.iterrows():\n",
    "    if type(row['TEXT']) is str:\n",
    "        text_preprocessing(row['TEXT'], index, 'TEXT')\n",
    "    else:\n",
    "        print(f'There is no test for row:: {index}')\n",
    "print(f\"Time took for preprocessing the text:: {time.clock() - start_time}\")"
   ]
  },
  {
   "cell_type": "code",
   "execution_count": 89,
   "metadata": {},
   "outputs": [
    {
     "name": "stdout",
     "output_type": "stream",
     "text": [
      "Number of data points and features:: (3321, 5)\n"
     ]
    },
    {
     "data": {
      "text/html": [
       "<div>\n",
       "<style scoped>\n",
       "    .dataframe tbody tr th:only-of-type {\n",
       "        vertical-align: middle;\n",
       "    }\n",
       "\n",
       "    .dataframe tbody tr th {\n",
       "        vertical-align: top;\n",
       "    }\n",
       "\n",
       "    .dataframe thead th {\n",
       "        text-align: right;\n",
       "    }\n",
       "</style>\n",
       "<table border=\"1\" class=\"dataframe\">\n",
       "  <thead>\n",
       "    <tr style=\"text-align: right;\">\n",
       "      <th></th>\n",
       "      <th>ID</th>\n",
       "      <th>Gene</th>\n",
       "      <th>Variation</th>\n",
       "      <th>Class</th>\n",
       "      <th>TEXT</th>\n",
       "    </tr>\n",
       "  </thead>\n",
       "  <tbody>\n",
       "    <tr>\n",
       "      <th>0</th>\n",
       "      <td>0</td>\n",
       "      <td>FAM58A</td>\n",
       "      <td>Truncating Mutations</td>\n",
       "      <td>1</td>\n",
       "      <td>cyclin dependent kinases cdks regulate variety...</td>\n",
       "    </tr>\n",
       "    <tr>\n",
       "      <th>1</th>\n",
       "      <td>1</td>\n",
       "      <td>CBL</td>\n",
       "      <td>W802*</td>\n",
       "      <td>2</td>\n",
       "      <td>abstract background non small cell lung cancer...</td>\n",
       "    </tr>\n",
       "    <tr>\n",
       "      <th>2</th>\n",
       "      <td>2</td>\n",
       "      <td>CBL</td>\n",
       "      <td>Q249E</td>\n",
       "      <td>2</td>\n",
       "      <td>abstract background non small cell lung cancer...</td>\n",
       "    </tr>\n",
       "    <tr>\n",
       "      <th>3</th>\n",
       "      <td>3</td>\n",
       "      <td>CBL</td>\n",
       "      <td>N454D</td>\n",
       "      <td>3</td>\n",
       "      <td>recent evidence demonstrated acquired uniparen...</td>\n",
       "    </tr>\n",
       "    <tr>\n",
       "      <th>4</th>\n",
       "      <td>4</td>\n",
       "      <td>CBL</td>\n",
       "      <td>L399V</td>\n",
       "      <td>4</td>\n",
       "      <td>oncogenic mutations monomeric casitas b lineag...</td>\n",
       "    </tr>\n",
       "  </tbody>\n",
       "</table>\n",
       "</div>"
      ],
      "text/plain": [
       "   ID    Gene             Variation  Class  \\\n",
       "0   0  FAM58A  Truncating Mutations      1   \n",
       "1   1     CBL                 W802*      2   \n",
       "2   2     CBL                 Q249E      2   \n",
       "3   3     CBL                 N454D      3   \n",
       "4   4     CBL                 L399V      4   \n",
       "\n",
       "                                                TEXT  \n",
       "0  cyclin dependent kinases cdks regulate variety...  \n",
       "1  abstract background non small cell lung cancer...  \n",
       "2  abstract background non small cell lung cancer...  \n",
       "3  recent evidence demonstrated acquired uniparen...  \n",
       "4  oncogenic mutations monomeric casitas b lineag...  "
      ]
     },
     "execution_count": 89,
     "metadata": {},
     "output_type": "execute_result"
    }
   ],
   "source": [
    "df_final = pd.merge(df_variants, df_text, on='ID', how='left')\n",
    "print(f\"Number of data points and features:: {df_final.shape}\")\n",
    "df_final.head()"
   ]
  },
  {
   "cell_type": "code",
   "execution_count": 90,
   "metadata": {},
   "outputs": [
    {
     "data": {
      "text/html": [
       "<div>\n",
       "<style scoped>\n",
       "    .dataframe tbody tr th:only-of-type {\n",
       "        vertical-align: middle;\n",
       "    }\n",
       "\n",
       "    .dataframe tbody tr th {\n",
       "        vertical-align: top;\n",
       "    }\n",
       "\n",
       "    .dataframe thead th {\n",
       "        text-align: right;\n",
       "    }\n",
       "</style>\n",
       "<table border=\"1\" class=\"dataframe\">\n",
       "  <thead>\n",
       "    <tr style=\"text-align: right;\">\n",
       "      <th></th>\n",
       "      <th>ID</th>\n",
       "      <th>Gene</th>\n",
       "      <th>Variation</th>\n",
       "      <th>Class</th>\n",
       "      <th>TEXT</th>\n",
       "    </tr>\n",
       "  </thead>\n",
       "  <tbody>\n",
       "    <tr>\n",
       "      <th>1109</th>\n",
       "      <td>1109</td>\n",
       "      <td>FANCA</td>\n",
       "      <td>S1088F</td>\n",
       "      <td>1</td>\n",
       "      <td>NaN</td>\n",
       "    </tr>\n",
       "    <tr>\n",
       "      <th>1277</th>\n",
       "      <td>1277</td>\n",
       "      <td>ARID5B</td>\n",
       "      <td>Truncating Mutations</td>\n",
       "      <td>1</td>\n",
       "      <td>NaN</td>\n",
       "    </tr>\n",
       "    <tr>\n",
       "      <th>1407</th>\n",
       "      <td>1407</td>\n",
       "      <td>FGFR3</td>\n",
       "      <td>K508M</td>\n",
       "      <td>6</td>\n",
       "      <td>NaN</td>\n",
       "    </tr>\n",
       "    <tr>\n",
       "      <th>1639</th>\n",
       "      <td>1639</td>\n",
       "      <td>FLT1</td>\n",
       "      <td>Amplification</td>\n",
       "      <td>6</td>\n",
       "      <td>NaN</td>\n",
       "    </tr>\n",
       "    <tr>\n",
       "      <th>2755</th>\n",
       "      <td>2755</td>\n",
       "      <td>BRAF</td>\n",
       "      <td>G596C</td>\n",
       "      <td>7</td>\n",
       "      <td>NaN</td>\n",
       "    </tr>\n",
       "  </tbody>\n",
       "</table>\n",
       "</div>"
      ],
      "text/plain": [
       "        ID    Gene             Variation  Class TEXT\n",
       "1109  1109   FANCA                S1088F      1  NaN\n",
       "1277  1277  ARID5B  Truncating Mutations      1  NaN\n",
       "1407  1407   FGFR3                 K508M      6  NaN\n",
       "1639  1639    FLT1         Amplification      6  NaN\n",
       "2755  2755    BRAF                 G596C      7  NaN"
      ]
     },
     "execution_count": 90,
     "metadata": {},
     "output_type": "execute_result"
    }
   ],
   "source": [
    "df_final[df_final.isnull().any(axis=1)]"
   ]
  },
  {
   "cell_type": "code",
   "execution_count": 91,
   "metadata": {},
   "outputs": [
    {
     "name": "stdout",
     "output_type": "stream",
     "text": [
      "<class 'pandas.core.frame.DataFrame'>\n",
      "Int64Index: 3321 entries, 0 to 3320\n",
      "Data columns (total 5 columns):\n",
      "ID           3321 non-null int64\n",
      "Gene         3321 non-null object\n",
      "Variation    3321 non-null object\n",
      "Class        3321 non-null int64\n",
      "TEXT         3316 non-null object\n",
      "dtypes: int64(2), object(3)\n",
      "memory usage: 155.7+ KB\n"
     ]
    }
   ],
   "source": [
    "df_final.info()"
   ]
  },
  {
   "cell_type": "code",
   "execution_count": 92,
   "metadata": {},
   "outputs": [
    {
     "data": {
      "text/html": [
       "<div>\n",
       "<style scoped>\n",
       "    .dataframe tbody tr th:only-of-type {\n",
       "        vertical-align: middle;\n",
       "    }\n",
       "\n",
       "    .dataframe tbody tr th {\n",
       "        vertical-align: top;\n",
       "    }\n",
       "\n",
       "    .dataframe thead th {\n",
       "        text-align: right;\n",
       "    }\n",
       "</style>\n",
       "<table border=\"1\" class=\"dataframe\">\n",
       "  <thead>\n",
       "    <tr style=\"text-align: right;\">\n",
       "      <th></th>\n",
       "      <th>count</th>\n",
       "      <th>unique</th>\n",
       "      <th>top</th>\n",
       "      <th>freq</th>\n",
       "      <th>mean</th>\n",
       "      <th>std</th>\n",
       "      <th>min</th>\n",
       "      <th>25%</th>\n",
       "      <th>50%</th>\n",
       "      <th>75%</th>\n",
       "      <th>max</th>\n",
       "    </tr>\n",
       "  </thead>\n",
       "  <tbody>\n",
       "    <tr>\n",
       "      <th>ID</th>\n",
       "      <td>3321</td>\n",
       "      <td>NaN</td>\n",
       "      <td>NaN</td>\n",
       "      <td>NaN</td>\n",
       "      <td>1660</td>\n",
       "      <td>958.834</td>\n",
       "      <td>0</td>\n",
       "      <td>830</td>\n",
       "      <td>1660</td>\n",
       "      <td>2490</td>\n",
       "      <td>3320</td>\n",
       "    </tr>\n",
       "    <tr>\n",
       "      <th>Gene</th>\n",
       "      <td>3321</td>\n",
       "      <td>264</td>\n",
       "      <td>BRCA1</td>\n",
       "      <td>264</td>\n",
       "      <td>NaN</td>\n",
       "      <td>NaN</td>\n",
       "      <td>NaN</td>\n",
       "      <td>NaN</td>\n",
       "      <td>NaN</td>\n",
       "      <td>NaN</td>\n",
       "      <td>NaN</td>\n",
       "    </tr>\n",
       "    <tr>\n",
       "      <th>Variation</th>\n",
       "      <td>3321</td>\n",
       "      <td>2996</td>\n",
       "      <td>Truncating Mutations</td>\n",
       "      <td>93</td>\n",
       "      <td>NaN</td>\n",
       "      <td>NaN</td>\n",
       "      <td>NaN</td>\n",
       "      <td>NaN</td>\n",
       "      <td>NaN</td>\n",
       "      <td>NaN</td>\n",
       "      <td>NaN</td>\n",
       "    </tr>\n",
       "    <tr>\n",
       "      <th>Class</th>\n",
       "      <td>3321</td>\n",
       "      <td>NaN</td>\n",
       "      <td>NaN</td>\n",
       "      <td>NaN</td>\n",
       "      <td>4.36585</td>\n",
       "      <td>2.30978</td>\n",
       "      <td>1</td>\n",
       "      <td>2</td>\n",
       "      <td>4</td>\n",
       "      <td>7</td>\n",
       "      <td>9</td>\n",
       "    </tr>\n",
       "    <tr>\n",
       "      <th>TEXT</th>\n",
       "      <td>3316</td>\n",
       "      <td>1920</td>\n",
       "      <td>pten phosphatase tensin homolog phosphatase un...</td>\n",
       "      <td>53</td>\n",
       "      <td>NaN</td>\n",
       "      <td>NaN</td>\n",
       "      <td>NaN</td>\n",
       "      <td>NaN</td>\n",
       "      <td>NaN</td>\n",
       "      <td>NaN</td>\n",
       "      <td>NaN</td>\n",
       "    </tr>\n",
       "  </tbody>\n",
       "</table>\n",
       "</div>"
      ],
      "text/plain": [
       "          count unique                                                top  \\\n",
       "ID         3321    NaN                                                NaN   \n",
       "Gene       3321    264                                              BRCA1   \n",
       "Variation  3321   2996                               Truncating Mutations   \n",
       "Class      3321    NaN                                                NaN   \n",
       "TEXT       3316   1920  pten phosphatase tensin homolog phosphatase un...   \n",
       "\n",
       "          freq     mean      std  min  25%   50%   75%   max  \n",
       "ID         NaN     1660  958.834    0  830  1660  2490  3320  \n",
       "Gene       264      NaN      NaN  NaN  NaN   NaN   NaN   NaN  \n",
       "Variation   93      NaN      NaN  NaN  NaN   NaN   NaN   NaN  \n",
       "Class      NaN  4.36585  2.30978    1    2     4     7     9  \n",
       "TEXT        53      NaN      NaN  NaN  NaN   NaN   NaN   NaN  "
      ]
     },
     "execution_count": 92,
     "metadata": {},
     "output_type": "execute_result"
    }
   ],
   "source": [
    "df_final.describe(include='all').T"
   ]
  },
  {
   "cell_type": "code",
   "execution_count": null,
   "metadata": {},
   "outputs": [],
   "source": []
  },
  {
   "cell_type": "code",
   "execution_count": 94,
   "metadata": {},
   "outputs": [],
   "source": [
    "df_final.loc[df_final['TEXT'].isnull(), 'TEXT'] = df_final.Gene + ' ' + df_final.Variation\n"
   ]
  },
  {
   "cell_type": "code",
   "execution_count": 96,
   "metadata": {},
   "outputs": [
    {
     "data": {
      "text/html": [
       "<div>\n",
       "<style scoped>\n",
       "    .dataframe tbody tr th:only-of-type {\n",
       "        vertical-align: middle;\n",
       "    }\n",
       "\n",
       "    .dataframe tbody tr th {\n",
       "        vertical-align: top;\n",
       "    }\n",
       "\n",
       "    .dataframe thead th {\n",
       "        text-align: right;\n",
       "    }\n",
       "</style>\n",
       "<table border=\"1\" class=\"dataframe\">\n",
       "  <thead>\n",
       "    <tr style=\"text-align: right;\">\n",
       "      <th></th>\n",
       "      <th>ID</th>\n",
       "      <th>Gene</th>\n",
       "      <th>Variation</th>\n",
       "      <th>Class</th>\n",
       "      <th>TEXT</th>\n",
       "    </tr>\n",
       "  </thead>\n",
       "  <tbody>\n",
       "    <tr>\n",
       "      <th>2755</th>\n",
       "      <td>2755</td>\n",
       "      <td>BRAF</td>\n",
       "      <td>G596C</td>\n",
       "      <td>7</td>\n",
       "      <td>BRAF G596C</td>\n",
       "    </tr>\n",
       "  </tbody>\n",
       "</table>\n",
       "</div>"
      ],
      "text/plain": [
       "        ID  Gene Variation  Class        TEXT\n",
       "2755  2755  BRAF     G596C      7  BRAF G596C"
      ]
     },
     "execution_count": 96,
     "metadata": {},
     "output_type": "execute_result"
    }
   ],
   "source": [
    "df_final[df_final.ID == 2755]"
   ]
  },
  {
   "cell_type": "code",
   "execution_count": 97,
   "metadata": {},
   "outputs": [
    {
     "data": {
      "text/html": [
       "<div>\n",
       "<style scoped>\n",
       "    .dataframe tbody tr th:only-of-type {\n",
       "        vertical-align: middle;\n",
       "    }\n",
       "\n",
       "    .dataframe tbody tr th {\n",
       "        vertical-align: top;\n",
       "    }\n",
       "\n",
       "    .dataframe thead th {\n",
       "        text-align: right;\n",
       "    }\n",
       "</style>\n",
       "<table border=\"1\" class=\"dataframe\">\n",
       "  <thead>\n",
       "    <tr style=\"text-align: right;\">\n",
       "      <th></th>\n",
       "      <th>ID</th>\n",
       "      <th>Gene</th>\n",
       "      <th>Variation</th>\n",
       "      <th>Class</th>\n",
       "      <th>TEXT</th>\n",
       "    </tr>\n",
       "  </thead>\n",
       "  <tbody>\n",
       "    <tr>\n",
       "      <th>2808</th>\n",
       "      <td>2808</td>\n",
       "      <td>BRCA2</td>\n",
       "      <td>K2411T</td>\n",
       "      <td>6</td>\n",
       "      <td>mutation screening breast ovarian cancer predi...</td>\n",
       "    </tr>\n",
       "    <tr>\n",
       "      <th>895</th>\n",
       "      <td>895</td>\n",
       "      <td>PDGFRA</td>\n",
       "      <td>Y375_K455del</td>\n",
       "      <td>7</td>\n",
       "      <td>gene rearrangement form intragenic deletion pr...</td>\n",
       "    </tr>\n",
       "    <tr>\n",
       "      <th>2047</th>\n",
       "      <td>2047</td>\n",
       "      <td>SOS1</td>\n",
       "      <td>R552G</td>\n",
       "      <td>7</td>\n",
       "      <td>noonan syndrome common single gene cause conge...</td>\n",
       "    </tr>\n",
       "    <tr>\n",
       "      <th>794</th>\n",
       "      <td>794</td>\n",
       "      <td>ERBB4</td>\n",
       "      <td>N181S</td>\n",
       "      <td>3</td>\n",
       "      <td>recent efforts comprehensively characterize mu...</td>\n",
       "    </tr>\n",
       "    <tr>\n",
       "      <th>665</th>\n",
       "      <td>665</td>\n",
       "      <td>CDKN2A</td>\n",
       "      <td>G35R</td>\n",
       "      <td>4</td>\n",
       "      <td>inherited mutations affecting ink4a arf locus ...</td>\n",
       "    </tr>\n",
       "    <tr>\n",
       "      <th>2895</th>\n",
       "      <td>2895</td>\n",
       "      <td>BRCA2</td>\n",
       "      <td>M2676T</td>\n",
       "      <td>6</td>\n",
       "      <td>twenty percent individuals strong family perso...</td>\n",
       "    </tr>\n",
       "    <tr>\n",
       "      <th>44</th>\n",
       "      <td>44</td>\n",
       "      <td>PTPRT</td>\n",
       "      <td>T1365M</td>\n",
       "      <td>4</td>\n",
       "      <td>tyrosine phosphorylation regulated protein tyr...</td>\n",
       "    </tr>\n",
       "    <tr>\n",
       "      <th>3005</th>\n",
       "      <td>3005</td>\n",
       "      <td>KIT</td>\n",
       "      <td>D816V</td>\n",
       "      <td>7</td>\n",
       "      <td>introduction mastocytosis comprises spectrum d...</td>\n",
       "    </tr>\n",
       "    <tr>\n",
       "      <th>250</th>\n",
       "      <td>250</td>\n",
       "      <td>EGFR</td>\n",
       "      <td>I853T</td>\n",
       "      <td>4</td>\n",
       "      <td>purpose epidermal growth factor receptor egfr ...</td>\n",
       "    </tr>\n",
       "    <tr>\n",
       "      <th>1229</th>\n",
       "      <td>1229</td>\n",
       "      <td>PIK3CB</td>\n",
       "      <td>D1067A</td>\n",
       "      <td>7</td>\n",
       "      <td>activation pi3k pathway occurs commonly wide v...</td>\n",
       "    </tr>\n",
       "  </tbody>\n",
       "</table>\n",
       "</div>"
      ],
      "text/plain": [
       "        ID    Gene     Variation  Class  \\\n",
       "2808  2808   BRCA2        K2411T      6   \n",
       "895    895  PDGFRA  Y375_K455del      7   \n",
       "2047  2047    SOS1         R552G      7   \n",
       "794    794   ERBB4         N181S      3   \n",
       "665    665  CDKN2A          G35R      4   \n",
       "2895  2895   BRCA2        M2676T      6   \n",
       "44      44   PTPRT        T1365M      4   \n",
       "3005  3005     KIT         D816V      7   \n",
       "250    250    EGFR         I853T      4   \n",
       "1229  1229  PIK3CB        D1067A      7   \n",
       "\n",
       "                                                   TEXT  \n",
       "2808  mutation screening breast ovarian cancer predi...  \n",
       "895   gene rearrangement form intragenic deletion pr...  \n",
       "2047  noonan syndrome common single gene cause conge...  \n",
       "794   recent efforts comprehensively characterize mu...  \n",
       "665   inherited mutations affecting ink4a arf locus ...  \n",
       "2895  twenty percent individuals strong family perso...  \n",
       "44    tyrosine phosphorylation regulated protein tyr...  \n",
       "3005  introduction mastocytosis comprises spectrum d...  \n",
       "250   purpose epidermal growth factor receptor egfr ...  \n",
       "1229  activation pi3k pathway occurs commonly wide v...  "
      ]
     },
     "execution_count": 97,
     "metadata": {},
     "output_type": "execute_result"
    }
   ],
   "source": [
    "df_final.sample(10)"
   ]
  },
  {
   "cell_type": "markdown",
   "metadata": {},
   "source": [
    "<h3> Test, Train and Cross Validation Split</h3>"
   ]
  },
  {
   "cell_type": "markdown",
   "metadata": {},
   "source": [
    "<h4> Splitting data into train, test and cross validation [64:20:16] </h4>"
   ]
  },
  {
   "cell_type": "code",
   "execution_count": 101,
   "metadata": {},
   "outputs": [],
   "source": [
    "y_true = df_final['Class'].values\n",
    "df_final.Gene = df_final.Gene.str.replace('\\s+', '_')\n",
    "df_final.Variation = df_final.Variation.str.replace('\\s+', '_')\n",
    "\n",
    "X_train, test_df, y_train, y_test = train_test_split(df_final, y_true, stratify=y_true, test_size=0.2)\n",
    "train_df, cv_df, y_train, y_cv = train_test_split(X_train, y_train, stratify=y_train, test_size=0.2)\n"
   ]
  },
  {
   "cell_type": "code",
   "execution_count": 102,
   "metadata": {},
   "outputs": [
    {
     "name": "stdout",
     "output_type": "stream",
     "text": [
      "Number of data points in train data: 2124\n",
      "Number of data points in test data: 665\n",
      "Number of data points in cross validation data: 532\n"
     ]
    }
   ],
   "source": [
    "print('Number of data points in train data:', train_df.shape[0])\n",
    "print('Number of data points in test data:', test_df.shape[0])\n",
    "print('Number of data points in cross validation data:', cv_df.shape[0])"
   ]
  },
  {
   "cell_type": "markdown",
   "metadata": {},
   "source": [
    "<h4> Distribution of y_i's in Train, Test and Cross Validation datasets</h4>"
   ]
  },
  {
   "cell_type": "code",
   "execution_count": 106,
   "metadata": {},
   "outputs": [
    {
     "data": {
      "image/png": "[encoded data removed]",
      "text/plain": [
       "<Figure size 432x288 with 1 Axes>"
      ]
     },
     "metadata": {
      "needs_background": "light"
     },
     "output_type": "display_data"
    },
    {
     "name": "stdout",
     "output_type": "stream",
     "text": [
      "Number of data points in class 7 : 609 ( 28.672 %)\n",
      "Number of data points in class 4 : 439 ( 20.669 %)\n",
      "Number of data points in class 1 : 363 ( 17.09 %)\n",
      "Number of data points in class 2 : 289 ( 13.606 %)\n",
      "Number of data points in class 6 : 176 ( 8.286 %)\n",
      "Number of data points in class 5 : 155 ( 7.298 %)\n",
      "Number of data points in class 3 : 57 ( 2.684 %)\n",
      "Number of data points in class 9 : 24 ( 1.13 %)\n",
      "Number of data points in class 8 : 12 ( 0.565 %)\n",
      "====================================================================================================\n"
     ]
    },
    {
     "data": {
      "image/png": "[encoded data removed]",
      "text/plain": [
       "<Figure size 432x288 with 1 Axes>"
      ]
     },
     "metadata": {
      "needs_background": "light"
     },
     "output_type": "display_data"
    },
    {
     "name": "stdout",
     "output_type": "stream",
     "text": [
      "Number of data points in class 7 : 191 ( 28.722 %)\n",
      "Number of data points in class 4 : 137 ( 20.602 %)\n",
      "Number of data points in class 1 : 114 ( 17.143 %)\n",
      "Number of data points in class 2 : 91 ( 13.684 %)\n",
      "Number of data points in class 6 : 55 ( 8.271 %)\n",
      "Number of data points in class 5 : 48 ( 7.218 %)\n",
      "Number of data points in class 3 : 18 ( 2.707 %)\n",
      "Number of data points in class 9 : 7 ( 1.053 %)\n",
      "Number of data points in class 8 : 4 ( 0.602 %)\n",
      "====================================================================================================\n"
     ]
    },
    {
     "data": {
      "image/png": "[encoded data removed]",
      "text/plain": [
       "<Figure size 432x288 with 1 Axes>"
      ]
     },
     "metadata": {
      "needs_background": "light"
     },
     "output_type": "display_data"
    },
    {
     "name": "stdout",
     "output_type": "stream",
     "text": [
      "Number of data points in class 7 : 153 ( 28.759 %)\n",
      "Number of data points in class 4 : 110 ( 20.677 %)\n",
      "Number of data points in class 1 : 91 ( 17.105 %)\n",
      "Number of data points in class 2 : 72 ( 13.534 %)\n",
      "Number of data points in class 6 : 44 ( 8.271 %)\n",
      "Number of data points in class 5 : 39 ( 7.331 %)\n",
      "Number of data points in class 3 : 14 ( 2.632 %)\n",
      "Number of data points in class 9 : 6 ( 1.128 %)\n",
      "Number of data points in class 8 : 3 ( 0.564 %)\n",
      "====================================================================================================\n"
     ]
    }
   ],
   "source": [
    "train_class_distribution = train_df['Class'].value_counts().sortlevel()\n",
    "test_class_distribution = test_df['Class'].value_counts().sortlevel()\n",
    "cv_class_distribution = cv_df['Class'].value_counts().sortlevel()\n",
    "\n",
    "\n",
    "my_colors = 'rgbkymc'\n",
    "\n",
    "train_class_distribution.plot(kind='bar')\n",
    "plt.xlabel('Class')\n",
    "plt.ylabel('Data points per Class')\n",
    "plt.title('Distribution of yi in train data')\n",
    "plt.grid()\n",
    "plt.show()\n",
    "\n",
    "sorted_yi = np.argsort(-train_class_distribution.values)\n",
    "for i in sorted_yi:\n",
    "    print('Number of data points in class', i+1, ':',train_class_distribution.values[i], '(', np.round((train_class_distribution.values[i]/train_df.shape[0]*100), 3), '%)')\n",
    "print(\"=\" * 100)\n",
    "\n",
    "\n",
    "test_class_distribution.plot(kind='bar')\n",
    "plt.xlabel('Class')\n",
    "plt.ylabel('Data points per Class')\n",
    "plt.title('Distribution of yi in train data')\n",
    "plt.grid()\n",
    "plt.show()\n",
    "\n",
    "sorted_yi = np.argsort(-test_class_distribution.values)\n",
    "for i in sorted_yi:\n",
    "    print('Number of data points in class', i+1, ':',test_class_distribution.values[i], '(', np.round((test_class_distribution.values[i]/test_df.shape[0]*100), 3), '%)')\n",
    "print(\"=\" * 100)\n",
    "\n",
    "cv_class_distribution.plot(kind='bar')\n",
    "plt.xlabel('Class')\n",
    "plt.ylabel('Data points per Class')\n",
    "plt.title('Distribution of yi in train data')\n",
    "plt.grid()\n",
    "plt.show()\n",
    "\n",
    "sorted_yi = np.argsort(-cv_class_distribution.values)\n",
    "for i in sorted_yi:\n",
    "    print('Number of data points in class', i+1, ':',cv_class_distribution.values[i], '(', np.round((cv_class_distribution.values[i]/cv_df.shape[0]*100), 3), '%)')\n",
    "print(\"=\" * 100)"
   ]
  },
  {
   "cell_type": "markdown",
   "metadata": {},
   "source": [
    "<h3> Prediction using a <span style=\"color:blue\">Random</span> Model</h3>"
   ]
  },
  {
   "cell_type": "markdown",
   "metadata": {},
   "source": [
    "<p style=\"font-size:16px\"> In a 'Random' Model, we generate the NINE class probabilites randomly such that they sum to 1. </p>"
   ]
  },
  {
   "cell_type": "code",
   "execution_count": 107,
   "metadata": {},
   "outputs": [],
   "source": [
    "def plot_confusion_matrix(test_y, predict_y):\n",
    "    C = confusion_matrix(test_y, predict_y)\n",
    "    \n",
    "    A = (C.T / C.sum(axis=1)).T\n",
    "    \n",
    "    B = C / C.sum(axis=0)\n",
    "    \n",
    "    labels = [1,2,3,4,5,6,7,8,9]\n",
    "    \n",
    "    print(\":\"*20, \"Confusion matrix\", \":\"*20)\n",
    "    plt.figure(figsize=(20,7))\n",
    "    sns.heatmap(C, annot=True, cmap=\"YlGnBu\", fmt=\".3f\", xticklabels=labels, yticklabels=labels)\n",
    "    plt.xlabel('Predicted Class')\n",
    "    plt.ylabel('Original Class')\n",
    "    plt.show()\n",
    "    \n",
    "    print(\":\"*20, \"Precision matrix\", \":\"*20)\n",
    "    plt.figure(figsize=(20,7))\n",
    "    sns.heatmap(B, annot=True, cmap=\"YlGnBu\", fmt=\".3f\", xticklabels=labels, yticklabels=labels)\n",
    "    plt.xlabel('Predicted Class')\n",
    "    plt.ylabel('Original Class')\n",
    "    plt.show()\n",
    "    \n",
    "    print(\":\"*20, \"Recall matrix\", \":\"*20)\n",
    "    plt.figure(figsize=(20,7))\n",
    "    sns.heatmap(A, annot=True, cmap=\"YlGnBu\", fmt=\".3f\", xticklabels=labels, yticklabels=labels)\n",
    "    plt.xlabel('Predicted Class')\n",
    "    plt.ylabel('Original Class')\n",
    "    plt.show()\n",
    "                "
   ]
  },
  {
   "cell_type": "code",
   "execution_count": 108,
   "metadata": {},
   "outputs": [
    {
     "name": "stdout",
     "output_type": "stream",
     "text": [
      "Log loss on Cross Validation Data using Random Model 2.47640907898673\n",
      "Log loss on Test Validation Data using Random Model 2.4703634454425085\n",
      ":::::::::::::::::::: Confusion matrix ::::::::::::::::::::\n"
     ]
    },
    {
     "data": {
      "image/png": "[encoded data removed]",
      "text/plain": [
       "<Figure size 1440x504 with 2 Axes>"
      ]
     },
     "metadata": {
      "needs_background": "light"
     },
     "output_type": "display_data"
    },
    {
     "name": "stdout",
     "output_type": "stream",
     "text": [
      ":::::::::::::::::::: Precision matrix ::::::::::::::::::::\n"
     ]
    },
    {
     "data": {
      "image/png": "[encoded data removed]",
      "text/plain": [
       "<Figure size 1440x504 with 2 Axes>"
      ]
     },
     "metadata": {
      "needs_background": "light"
     },
     "output_type": "display_data"
    },
    {
     "name": "stdout",
     "output_type": "stream",
     "text": [
      ":::::::::::::::::::: Recall matrix ::::::::::::::::::::\n"
     ]
    },
    {
     "data": {
      "image/png": "[encoded data removed]",
      "text/plain": [
       "<Figure size 1440x504 with 2 Axes>"
      ]
     },
     "metadata": {
      "needs_background": "light"
     },
     "output_type": "display_data"
    }
   ],
   "source": [
    "# we need to generate 9 numbers and the sum of numbers should be 1\n",
    "# one solution is to genarate 9 numbers and divide each of the numbers by their sum\n",
    "# ref: https://stackoverflow.com/a/18662466/4084039\n",
    "\n",
    "test_data_len = test_df.shape[0]\n",
    "cv_data_len = cv_df.shape[0]\n",
    "\n",
    "cv_predicted_y = np.zeros((cv_data_len, 9))\n",
    "\n",
    "for i in range(cv_data_len):\n",
    "    rand_probs = np.random.rand(1, 9)\n",
    "    cv_predicted_y[i] = ((rand_probs / sum(sum(rand_probs)))[0])\n",
    "print(\"Log loss on Cross Validation Data using Random Model\",log_loss(y_cv, cv_predicted_y, eps=1e-15))\n",
    "\n",
    "    \n",
    "test_predicted_y = np.zeros((test_data_len, 9))\n",
    "\n",
    "for i in range(test_data_len):\n",
    "    rand_probs = np.random.rand(1, 9)\n",
    "    test_predicted_y[i] = ((rand_probs / sum(sum(rand_probs)))[0])\n",
    "print(\"Log loss on Test Validation Data using Random Model\",log_loss(y_test, test_predicted_y, eps=1e-15))\n",
    "\n",
    "\n",
    "predicted_y =np.argmax(test_predicted_y, axis=1)\n",
    "plot_confusion_matrix(y_test, predicted_y+1)\n",
    "\n"
   ]
  },
  {
   "cell_type": "markdown",
   "metadata": {},
   "source": [
    "### Submission"
   ]
  },
  {
   "cell_type": "code",
   "execution_count": 114,
   "metadata": {},
   "outputs": [
    {
     "name": "stdout",
     "output_type": "stream",
     "text": [
      "Number of data points and features:: (368, 4)\n"
     ]
    },
    {
     "data": {
      "text/html": [
       "<div>\n",
       "<style scoped>\n",
       "    .dataframe tbody tr th:only-of-type {\n",
       "        vertical-align: middle;\n",
       "    }\n",
       "\n",
       "    .dataframe tbody tr th {\n",
       "        vertical-align: top;\n",
       "    }\n",
       "\n",
       "    .dataframe thead th {\n",
       "        text-align: right;\n",
       "    }\n",
       "</style>\n",
       "<table border=\"1\" class=\"dataframe\">\n",
       "  <thead>\n",
       "    <tr style=\"text-align: right;\">\n",
       "      <th></th>\n",
       "      <th>ID</th>\n",
       "      <th>Gene</th>\n",
       "      <th>Variation</th>\n",
       "      <th>Class</th>\n",
       "    </tr>\n",
       "  </thead>\n",
       "  <tbody>\n",
       "    <tr>\n",
       "      <th>0</th>\n",
       "      <td>0</td>\n",
       "      <td>CBL</td>\n",
       "      <td>H398Q</td>\n",
       "      <td>4</td>\n",
       "    </tr>\n",
       "    <tr>\n",
       "      <th>1</th>\n",
       "      <td>1</td>\n",
       "      <td>CBL</td>\n",
       "      <td>S80N</td>\n",
       "      <td>6</td>\n",
       "    </tr>\n",
       "    <tr>\n",
       "      <th>2</th>\n",
       "      <td>2</td>\n",
       "      <td>SHOC2</td>\n",
       "      <td>M173I</td>\n",
       "      <td>4</td>\n",
       "    </tr>\n",
       "    <tr>\n",
       "      <th>3</th>\n",
       "      <td>3</td>\n",
       "      <td>DICER1</td>\n",
       "      <td>D1709N</td>\n",
       "      <td>4</td>\n",
       "    </tr>\n",
       "    <tr>\n",
       "      <th>4</th>\n",
       "      <td>4</td>\n",
       "      <td>PTPRT</td>\n",
       "      <td>S492F</td>\n",
       "      <td>1</td>\n",
       "    </tr>\n",
       "  </tbody>\n",
       "</table>\n",
       "</div>"
      ],
      "text/plain": [
       "   ID    Gene Variation  Class\n",
       "0   0     CBL     H398Q      4\n",
       "1   1     CBL      S80N      6\n",
       "2   2   SHOC2     M173I      4\n",
       "3   3  DICER1    D1709N      4\n",
       "4   4   PTPRT     S492F      1"
      ]
     },
     "execution_count": 114,
     "metadata": {},
     "output_type": "execute_result"
    }
   ],
   "source": [
    "df_variants_test = pd.read_csv(path/'test_variants', names=df_variants.columns)\n",
    "print(f\"Number of data points and features:: {df_variants_test.shape}\")\n",
    "df_variants_test.head()"
   ]
  },
  {
   "cell_type": "code",
   "execution_count": 115,
   "metadata": {},
   "outputs": [
    {
     "name": "stdout",
     "output_type": "stream",
     "text": [
      "Number of data points and features:: (368, 2)\n"
     ]
    },
    {
     "data": {
      "text/html": [
       "<div>\n",
       "<style scoped>\n",
       "    .dataframe tbody tr th:only-of-type {\n",
       "        vertical-align: middle;\n",
       "    }\n",
       "\n",
       "    .dataframe tbody tr th {\n",
       "        vertical-align: top;\n",
       "    }\n",
       "\n",
       "    .dataframe thead th {\n",
       "        text-align: right;\n",
       "    }\n",
       "</style>\n",
       "<table border=\"1\" class=\"dataframe\">\n",
       "  <thead>\n",
       "    <tr style=\"text-align: right;\">\n",
       "      <th></th>\n",
       "      <th>ID</th>\n",
       "      <th>TEXT</th>\n",
       "    </tr>\n",
       "  </thead>\n",
       "  <tbody>\n",
       "    <tr>\n",
       "      <th>0</th>\n",
       "      <td>0</td>\n",
       "      <td>Oncogenic mutations in the monomeric Casitas B...</td>\n",
       "    </tr>\n",
       "    <tr>\n",
       "      <th>1</th>\n",
       "      <td>1</td>\n",
       "      <td>Abstract Background  Non-small cell lung canc...</td>\n",
       "    </tr>\n",
       "    <tr>\n",
       "      <th>2</th>\n",
       "      <td>2</td>\n",
       "      <td>Rasopathies are phenotypically similar syndrom...</td>\n",
       "    </tr>\n",
       "    <tr>\n",
       "      <th>3</th>\n",
       "      <td>3</td>\n",
       "      <td>Abstract  DICER1 plays a critical role in mic...</td>\n",
       "    </tr>\n",
       "    <tr>\n",
       "      <th>4</th>\n",
       "      <td>4</td>\n",
       "      <td>The receptor protein tyrosine phosphatase T (P...</td>\n",
       "    </tr>\n",
       "  </tbody>\n",
       "</table>\n",
       "</div>"
      ],
      "text/plain": [
       "   ID                                               TEXT\n",
       "0   0  Oncogenic mutations in the monomeric Casitas B...\n",
       "1   1   Abstract Background  Non-small cell lung canc...\n",
       "2   2  Rasopathies are phenotypically similar syndrom...\n",
       "3   3   Abstract  DICER1 plays a critical role in mic...\n",
       "4   4  The receptor protein tyrosine phosphatase T (P..."
      ]
     },
     "execution_count": 115,
     "metadata": {},
     "output_type": "execute_result"
    }
   ],
   "source": [
    "df_text_test = pd.read_csv(path/'test_text', sep=\"\\|\\|\", engine=\"python\", names=['ID', 'TEXT'], skiprows=0)\n",
    "print(f\"Number of data points and features:: {df_text_test.shape}\")\n",
    "df_text_test.head()"
   ]
  },
  {
   "cell_type": "code",
   "execution_count": 116,
   "metadata": {},
   "outputs": [
    {
     "data": {
      "text/plain": [
       "(368, 5)"
      ]
     },
     "execution_count": 116,
     "metadata": {},
     "output_type": "execute_result"
    }
   ],
   "source": [
    "df_final_test = pd.merge(df_variants_test, df_text_test, on='ID', how='left')\n",
    "df_final_test.shape"
   ]
  },
  {
   "cell_type": "markdown",
   "metadata": {},
   "source": [
    "## Helper Functions"
   ]
  },
  {
   "cell_type": "code",
   "execution_count": 130,
   "metadata": {},
   "outputs": [],
   "source": [
    "def get_gv_fea_dict(alpha, feature, df):\n",
    "    value_count = train_df[feature].value_counts()\n",
    "    gv_dict = dict()\n",
    "    \n",
    "    for i, denominator in value_count.items():\n",
    "        vec = []\n",
    "        for k in range(1, 10):\n",
    "            cls_cnt = train_df.loc[(train_df['Class']==k) & (train_df[feature]==i)]\n",
    "            vec.append((cls_cnt.shape[0] + alpha*10)/ (denominator + 90*alpha))\n",
    "        gv_dict[i]=vec\n",
    "    return gv_dict\n",
    "\n",
    "def get_gv_feature(alpha, feature, df):\n",
    "    gv_dict = get_gv_fea_dict(alpha, feature, df)\n",
    "    value_count = train_df[feature].value_counts()\n",
    "    \n",
    "    gv_fea = []\n",
    "    for index, row in df.iterrows():\n",
    "        if row[feature] in dict(value_count).keys():\n",
    "            gv_fea.append(gv_dict[row[feature]])\n",
    "        else:\n",
    "            gv_fea.append([1/9,1/9,1/9,1/9,1/9,1/9,1/9,1/9,1/9])\n",
    "    return gv_fea\n",
    "            "
   ]
  },
  {
   "cell_type": "markdown",
   "metadata": {},
   "source": [
    "<h2> Univariate Analysis</h2>"
   ]
  },
  {
   "cell_type": "markdown",
   "metadata": {},
   "source": [
    "<h3>1. Univariate Analysis on Gene Feature</h3>"
   ]
  },
  {
   "cell_type": "markdown",
   "metadata": {},
   "source": [
    "<p style=\"font-size:18px;\"> <b>Q1.</b> Gene, What type of feature it is ?</p>\n",
    "<p style=\"font-size:16px;\"><b>Ans.</b> Gene is a categorical variable </p>\n",
    "<p style=\"font-size:18px;\"> <b>Q2.</b> How many categories are there and How they are distributed?</p>"
   ]
  },
  {
   "cell_type": "code",
   "execution_count": 118,
   "metadata": {},
   "outputs": [
    {
     "name": "stdout",
     "output_type": "stream",
     "text": [
      "Number of unique Genes:: 228\n"
     ]
    },
    {
     "data": {
      "text/plain": [
       "BRCA1     173\n",
       "TP53      105\n",
       "EGFR       85\n",
       "PTEN       82\n",
       "BRCA2      80\n",
       "KIT        69\n",
       "BRAF       56\n",
       "ERBB2      50\n",
       "ALK        41\n",
       "PIK3CA     41\n",
       "Name: Gene, dtype: int64"
      ]
     },
     "execution_count": 118,
     "metadata": {},
     "output_type": "execute_result"
    }
   ],
   "source": [
    "unique_genes = train_df.Gene.value_counts()\n",
    "print(f\"Number of unique Genes:: {unique_genes.shape[0]}\")\n",
    "unique_genes.head(10)"
   ]
  },
  {
   "cell_type": "code",
   "execution_count": 119,
   "metadata": {},
   "outputs": [
    {
     "name": "stdout",
     "output_type": "stream",
     "text": [
      "Ans: There are 228 different categories of genes in the train data, and they are distibuted as follows\n"
     ]
    }
   ],
   "source": [
    "print(\"Ans: There are\", unique_genes.shape[0] ,\"different categories of genes in the train data, and they are distibuted as follows\",)"
   ]
  },
  {
   "cell_type": "code",
   "execution_count": 127,
   "metadata": {},
   "outputs": [
    {
     "data": {
      "image/png": "[encoded data removed]",
      "text/plain": [
       "<Figure size 432x288 with 1 Axes>"
      ]
     },
     "metadata": {
      "needs_background": "light"
     },
     "output_type": "display_data"
    }
   ],
   "source": [
    "s = np.sum(unique_genes.values)\n",
    "h = unique_genes.values / s\n",
    "plt.plot(h, label=\"Histrogram of Genes\")\n",
    "plt.xlabel('Index of a Gene')\n",
    "plt.ylabel('Number of Occurances')\n",
    "plt.legend()\n",
    "plt.grid()\n",
    "plt.show()\n"
   ]
  },
  {
   "cell_type": "code",
   "execution_count": 128,
   "metadata": {},
   "outputs": [
    {
     "data": {
      "image/png": "[encoded data removed]",
      "text/plain": [
       "<Figure size 432x288 with 1 Axes>"
      ]
     },
     "metadata": {
      "needs_background": "light"
     },
     "output_type": "display_data"
    }
   ],
   "source": [
    "c = np.cumsum(h)\n",
    "plt.plot(c, label=\"Cummulative distribution of Genes\")\n",
    "plt.xlabel('Index of a Gene')\n",
    "plt.ylabel('Number of Occurances')\n",
    "plt.legend()\n",
    "plt.grid()\n",
    "plt.show()"
   ]
  },
  {
   "cell_type": "markdown",
   "metadata": {},
   "source": [
    "<p style=\"font-size:18px;\"> <b>Q3.</b> How to featurize this Gene feature ?</p>\n",
    "\n",
    "<p style=\"font-size:16px;\"><b>Ans.</b>there are two ways we can featurize this variable\n",
    "check out this video: https://www.appliedaicourse.com/course/applied-ai-course-online/lessons/handling-categorical-and-numerical-features/\n",
    "<ol><li>One hot Encoding</li><li>Response coding</li></ol></p>\n",
    "<p> We will choose the appropriate featurization based on the ML model we use.  For this problem of multi-class classification with categorical features, one-hot encoding is better for Logistic regression while response coding is better for Random Forests. </p>"
   ]
  },
  {
   "cell_type": "code",
   "execution_count": 131,
   "metadata": {},
   "outputs": [],
   "source": [
    "#response-coding of the Gene feature\n",
    "# alpha is used for laplace smoothing\n",
    "alpha = 1\n",
    "# train gene feature\n",
    "train_gene_feature_responseCoding = np.array(get_gv_feature(alpha, \"Gene\", train_df))\n",
    "# test gene feature\n",
    "test_gene_feature_responseCoding = np.array(get_gv_feature(alpha, \"Gene\", test_df))\n",
    "# cross validation gene feature\n",
    "cv_gene_feature_responseCoding = np.array(get_gv_feature(alpha, \"Gene\", cv_df))"
   ]
  },
  {
   "cell_type": "code",
   "execution_count": 133,
   "metadata": {},
   "outputs": [
    {
     "data": {
      "text/plain": [
       "(2124, 9)"
      ]
     },
     "execution_count": 133,
     "metadata": {},
     "output_type": "execute_result"
    }
   ],
   "source": [
    "train_gene_feature_responseCoding.shape"
   ]
  },
  {
   "cell_type": "code",
   "execution_count": 134,
   "metadata": {},
   "outputs": [],
   "source": [
    "# one-hot encoding of Gene feature\n",
    "gene_vectorizer = CountVectorizer()\n",
    "train_gene_feature_onehotCoding = gene_vectorizer.fit_transform(train_df['Gene'])\n",
    "test_gene_feature_onehotCoding = gene_vectorizer.transform(test_df['Gene'])\n",
    "cv_gene_feature_onehotCoding = gene_vectorizer.transform(cv_df['Gene'])"
   ]
  },
  {
   "cell_type": "code",
   "execution_count": 135,
   "metadata": {},
   "outputs": [
    {
     "data": {
      "text/plain": [
       "(2124, 228)"
      ]
     },
     "execution_count": 135,
     "metadata": {},
     "output_type": "execute_result"
    }
   ],
   "source": [
    "train_gene_feature_onehotCoding.shape"
   ]
  },
  {
   "cell_type": "code",
   "execution_count": 136,
   "metadata": {},
   "outputs": [
    {
     "data": {
      "text/plain": [
       "1912     FOXP1\n",
       "798      ERBB4\n",
       "1982    CTNNB1\n",
       "1194    PIK3CA\n",
       "725      ERBB2\n",
       "Name: Gene, dtype: object"
      ]
     },
     "execution_count": 136,
     "metadata": {},
     "output_type": "execute_result"
    }
   ],
   "source": [
    "train_df['Gene'].head()"
   ]
  },
  {
   "cell_type": "code",
   "execution_count": 137,
   "metadata": {
    "scrolled": true
   },
   "outputs": [
    {
     "data": {
      "text/plain": [
       "['abl1',\n",
       " 'acvr1',\n",
       " 'ago2',\n",
       " 'akt1',\n",
       " 'akt2',\n",
       " 'akt3',\n",
       " 'alk',\n",
       " 'apc',\n",
       " 'ar',\n",
       " 'araf',\n",
       " 'arid1a',\n",
       " 'arid1b',\n",
       " 'arid5b',\n",
       " 'asxl1',\n",
       " 'atm',\n",
       " 'atr',\n",
       " 'atrx',\n",
       " 'aurka',\n",
       " 'aurkb',\n",
       " 'b2m',\n",
       " 'bap1',\n",
       " 'bard1',\n",
       " 'bcl10',\n",
       " 'bcl2',\n",
       " 'bcl2l11',\n",
       " 'bcor',\n",
       " 'braf',\n",
       " 'brca1',\n",
       " 'brca2',\n",
       " 'brd4',\n",
       " 'brip1',\n",
       " 'btk',\n",
       " 'card11',\n",
       " 'carm1',\n",
       " 'casp8',\n",
       " 'cbl',\n",
       " 'ccnd1',\n",
       " 'ccnd2',\n",
       " 'ccnd3',\n",
       " 'ccne1',\n",
       " 'cdh1',\n",
       " 'cdk12',\n",
       " 'cdk4',\n",
       " 'cdk6',\n",
       " 'cdkn1a',\n",
       " 'cdkn1b',\n",
       " 'cdkn2a',\n",
       " 'cdkn2b',\n",
       " 'cebpa',\n",
       " 'chek2',\n",
       " 'cic',\n",
       " 'crebbp',\n",
       " 'ctcf',\n",
       " 'ctnnb1',\n",
       " 'ddr2',\n",
       " 'dicer1',\n",
       " 'dnmt3a',\n",
       " 'dusp4',\n",
       " 'egfr',\n",
       " 'eif1ax',\n",
       " 'elf3',\n",
       " 'ep300',\n",
       " 'epas1',\n",
       " 'epcam',\n",
       " 'erbb2',\n",
       " 'erbb3',\n",
       " 'erbb4',\n",
       " 'ercc2',\n",
       " 'ercc3',\n",
       " 'ercc4',\n",
       " 'erg',\n",
       " 'errfi1',\n",
       " 'esr1',\n",
       " 'etv1',\n",
       " 'etv6',\n",
       " 'ewsr1',\n",
       " 'ezh2',\n",
       " 'fanca',\n",
       " 'fat1',\n",
       " 'fbxw7',\n",
       " 'fgf19',\n",
       " 'fgfr1',\n",
       " 'fgfr2',\n",
       " 'fgfr3',\n",
       " 'fgfr4',\n",
       " 'flt1',\n",
       " 'flt3',\n",
       " 'foxa1',\n",
       " 'foxl2',\n",
       " 'foxp1',\n",
       " 'fubp1',\n",
       " 'gata3',\n",
       " 'gli1',\n",
       " 'gnaq',\n",
       " 'gnas',\n",
       " 'h3f3a',\n",
       " 'hist1h1c',\n",
       " 'hla',\n",
       " 'hnf1a',\n",
       " 'hras',\n",
       " 'idh1',\n",
       " 'idh2',\n",
       " 'igf1r',\n",
       " 'ikbke',\n",
       " 'inpp4b',\n",
       " 'jak1',\n",
       " 'jak2',\n",
       " 'jun',\n",
       " 'kdm5c',\n",
       " 'kdm6a',\n",
       " 'kdr',\n",
       " 'keap1',\n",
       " 'kit',\n",
       " 'klf4',\n",
       " 'kmt2b',\n",
       " 'kmt2c',\n",
       " 'kmt2d',\n",
       " 'knstrn',\n",
       " 'kras',\n",
       " 'map2k1',\n",
       " 'map2k2',\n",
       " 'map2k4',\n",
       " 'map3k1',\n",
       " 'mapk1',\n",
       " 'mdm2',\n",
       " 'med12',\n",
       " 'mef2b',\n",
       " 'met',\n",
       " 'mlh1',\n",
       " 'mpl',\n",
       " 'msh2',\n",
       " 'msh6',\n",
       " 'mtor',\n",
       " 'myc',\n",
       " 'mycn',\n",
       " 'myd88',\n",
       " 'myod1',\n",
       " 'ncor1',\n",
       " 'nf1',\n",
       " 'nf2',\n",
       " 'nfe2l2',\n",
       " 'nfkbia',\n",
       " 'nkx2',\n",
       " 'notch1',\n",
       " 'notch2',\n",
       " 'npm1',\n",
       " 'nras',\n",
       " 'nsd1',\n",
       " 'ntrk1',\n",
       " 'ntrk2',\n",
       " 'ntrk3',\n",
       " 'nup93',\n",
       " 'pak1',\n",
       " 'pax8',\n",
       " 'pbrm1',\n",
       " 'pdgfra',\n",
       " 'pdgfrb',\n",
       " 'pik3ca',\n",
       " 'pik3cb',\n",
       " 'pik3cd',\n",
       " 'pik3r1',\n",
       " 'pik3r2',\n",
       " 'pik3r3',\n",
       " 'pim1',\n",
       " 'pms1',\n",
       " 'pms2',\n",
       " 'pole',\n",
       " 'ppp2r1a',\n",
       " 'ppp6c',\n",
       " 'prdm1',\n",
       " 'ptch1',\n",
       " 'pten',\n",
       " 'ptpn11',\n",
       " 'ptprd',\n",
       " 'ptprt',\n",
       " 'rab35',\n",
       " 'rac1',\n",
       " 'rad50',\n",
       " 'rad51b',\n",
       " 'rad51c',\n",
       " 'rad51d',\n",
       " 'rad54l',\n",
       " 'raf1',\n",
       " 'rasa1',\n",
       " 'rb1',\n",
       " 'rbm10',\n",
       " 'ret',\n",
       " 'rheb',\n",
       " 'rhoa',\n",
       " 'rit1',\n",
       " 'ros1',\n",
       " 'rras2',\n",
       " 'runx1',\n",
       " 'rxra',\n",
       " 'rybp',\n",
       " 'sdhb',\n",
       " 'sdhc',\n",
       " 'setd2',\n",
       " 'sf3b1',\n",
       " 'shq1',\n",
       " 'smad2',\n",
       " 'smad3',\n",
       " 'smad4',\n",
       " 'smarca4',\n",
       " 'smo',\n",
       " 'sos1',\n",
       " 'sox9',\n",
       " 'spop',\n",
       " 'srsf2',\n",
       " 'stag2',\n",
       " 'stat3',\n",
       " 'stk11',\n",
       " 'tcf3',\n",
       " 'tcf7l2',\n",
       " 'tert',\n",
       " 'tet1',\n",
       " 'tet2',\n",
       " 'tgfbr1',\n",
       " 'tgfbr2',\n",
       " 'tmprss2',\n",
       " 'tp53',\n",
       " 'tp53bp1',\n",
       " 'tsc1',\n",
       " 'tsc2',\n",
       " 'u2af1',\n",
       " 'vhl',\n",
       " 'whsc1l1',\n",
       " 'xpo1']"
      ]
     },
     "execution_count": 137,
     "metadata": {},
     "output_type": "execute_result"
    }
   ],
   "source": [
    "gene_vectorizer.get_feature_names()"
   ]
  },
  {
   "cell_type": "markdown",
   "metadata": {},
   "source": [
    "<p style=\"font-size:18px;\"> <b>Q4.</b> How good is this gene feature  in predicting y_i?</p>"
   ]
  },
  {
   "cell_type": "markdown",
   "metadata": {},
   "source": [
    "There are many ways to estimate how good a feature is, in predicting y_i. One of the good methods is to build a proper ML model using just this feature. In this case, we will build a logistic regression model using only Gene feature (one hot encoded) to predict y_i."
   ]
  },
  {
   "cell_type": "code",
   "execution_count": 145,
   "metadata": {},
   "outputs": [
    {
     "name": "stdout",
     "output_type": "stream",
     "text": [
      "For values of alpha =  1e-05 The log loss is: 1.1716160678017016\n",
      "For values of alpha =  0.0001 The log loss is: 1.1542719928297684\n",
      "For values of alpha =  0.001 The log loss is: 1.2064541698244815\n",
      "For values of alpha =  0.01 The log loss is: 1.326671769344707\n",
      "For values of alpha =  0.1 The log loss is: 1.4358188873253246\n",
      "For values of alpha =  1 The log loss is: 1.469956109425218\n"
     ]
    },
    {
     "data": {
      "image/png": "[encoded data removed]",
      "text/plain": [
       "<Figure size 432x288 with 1 Axes>"
      ]
     },
     "metadata": {
      "needs_background": "light"
     },
     "output_type": "display_data"
    },
    {
     "name": "stdout",
     "output_type": "stream",
     "text": [
      "For values of alpha:: 0.0001, the train log loss is:: 0.9974588212297509\n",
      "For values of alpha:: 0.0001, the cv log loss is:: 1.1542719928297684\n",
      "For values of alpha:: 0.0001, the test log loss is:: 1.2256169298420392\n"
     ]
    }
   ],
   "source": [
    "alpha = [10 ** x for x in range(-5, 1)]\n",
    "\n",
    "cv_log_error = []\n",
    "\n",
    "for i in alpha:\n",
    "    clf = SGDClassifier(alpha=i, penalty=\"l2\", loss=\"log\", random_state=42)\n",
    "    clf.fit(train_gene_feature_onehotCoding, y_train)\n",
    "    calib_clf = CalibratedClassifierCV(clf, method='sigmoid')\n",
    "    calib_clf.fit(train_gene_feature_onehotCoding, y_train)\n",
    "    predicted_y = calib_clf.predict_proba(cv_gene_feature_onehotCoding)\n",
    "    cv_log_error.append(log_loss(y_cv, predicted_y, labels=clf.classes_, eps=1e-15))\n",
    "    print('For values of alpha = ', i, \"The log loss is:\",log_loss(y_cv, predicted_y, labels=clf.classes_, eps=1e-15))\n",
    "\n",
    "fig, ax = plt.subplots()\n",
    "ax.plot(alpha, cv_log_error, c='b')\n",
    "for i, txt in enumerate(np.round(cv_log_error, 3)):\n",
    "    ax.annotate((alpha[i], np.round(txt, 3)), (alpha[i], cv_log_error[i]))\n",
    "plt.grid()\n",
    "plt.title(\"Cross Validation Error for each alpha\")\n",
    "plt.xlabel(\"Alpha i's\")\n",
    "plt.ylabel(\"Error measure\")\n",
    "plt.show()\n",
    "\n",
    "\n",
    "best_alpha = np.argmin(cv_log_error)\n",
    "clf = SGDClassifier(alpha=alpha[best_alpha], penalty=\"l2\", loss=\"log\", random_state=42)\n",
    "clf.fit(train_gene_feature_onehotCoding, y_train)\n",
    "calib_clf = CalibratedClassifierCV(clf, method='sigmoid')\n",
    "calib_clf.fit(train_gene_feature_onehotCoding, y_train)\n",
    "\n",
    "predicted_y = calib_clf.predict_proba(train_gene_feature_onehotCoding)\n",
    "print(f\"For values of alpha:: {alpha[best_alpha]}, the train log loss is:: {log_loss(y_train, predicted_y, labels=clf.classes_, eps=1e-15)}\")\n",
    "predicted_y = calib_clf.predict_proba(cv_gene_feature_onehotCoding)\n",
    "print(f\"For values of alpha:: {alpha[best_alpha]}, the cv log loss is:: {log_loss(y_cv, predicted_y, labels=clf.classes_, eps=1e-15)}\")\n",
    "predicted_y = calib_clf.predict_proba(test_gene_feature_onehotCoding)\n",
    "print(f\"For values of alpha:: {alpha[best_alpha]}, the test log loss is:: {log_loss(y_test, predicted_y, labels=clf.classes_, eps=1e-15)}\")\n",
    "\n",
    "\n"
   ]
  },
  {
   "cell_type": "markdown",
   "metadata": {},
   "source": [
    "<p style=\"font-size:18px;\"> <b>Q5.</b> Is the Gene feature stable across all the data sets (Test, Train, Cross validation)?</p>\n",
    "<p style=\"font-size:16px;\"> <b>Ans.</b> Yes, it is. Otherwise, the CV and Test errors would be significantly more than train error. </p>"
   ]
  },
  {
   "cell_type": "markdown",
   "metadata": {},
   "source": [
    "<p style=\"font-size:18px;\"> <b> Q6. </b> How many data points in Test and CV datasets are covered by the genes in train dataset?\" </p>"
   ]
  },
  {
   "cell_type": "code",
   "execution_count": 146,
   "metadata": {},
   "outputs": [
    {
     "name": "stdout",
     "output_type": "stream",
     "text": [
      "Ans\n",
      "1. In test data 638 out of 665 : 95.93984962406014\n",
      "2. In cross validation data 511 out of  532 : 96.05263157894737\n"
     ]
    }
   ],
   "source": [
    "test_coverage=test_df[test_df['Gene'].isin(list(set(train_df['Gene'])))].shape[0]\n",
    "cv_coverage=cv_df[cv_df['Gene'].isin(list(set(train_df['Gene'])))].shape[0]\n",
    "\n",
    "print('Ans\\n1. In test data',test_coverage, 'out of',test_df.shape[0], \":\",(test_coverage/test_df.shape[0])*100)\n",
    "print('2. In cross validation data',cv_coverage, 'out of ',cv_df.shape[0],\":\" ,(cv_coverage/cv_df.shape[0])*100)"
   ]
  },
  {
   "cell_type": "markdown",
   "metadata": {},
   "source": [
    "<h3> Univariate Analysis on Variation Feature</h3>"
   ]
  },
  {
   "cell_type": "markdown",
   "metadata": {},
   "source": [
    "<p style=\"font-size:18px;\"> <b>Q7.</b> Variation, What type of feature is it ?</p>\n",
    "<p style=\"font-size:16px;\"><b>Ans.</b> Variation is a categorical variable </p>\n",
    "<p style=\"font-size:18px;\"> <b>Q8.</b> How many categories are there?</p>"
   ]
  },
  {
   "cell_type": "code",
   "execution_count": 148,
   "metadata": {},
   "outputs": [
    {
     "name": "stdout",
     "output_type": "stream",
     "text": [
      "Number of unique variation:: 1937\n"
     ]
    },
    {
     "data": {
      "text/plain": [
       "Truncating_Mutations    62\n",
       "Deletion                42\n",
       "Amplification           38\n",
       "Fusions                 22\n",
       "Overexpression           4\n",
       "E17K                     3\n",
       "T58I                     3\n",
       "Q61R                     2\n",
       "K117N                    2\n",
       "R170W                    2\n",
       "Name: Variation, dtype: int64"
      ]
     },
     "execution_count": 148,
     "metadata": {},
     "output_type": "execute_result"
    }
   ],
   "source": [
    "unique_variation = train_df['Variation'].value_counts()\n",
    "print(f\"Number of unique variation:: {unique_variation.shape[0]}\")\n",
    "unique_variation.head(10)"
   ]
  },
  {
   "cell_type": "code",
   "execution_count": 149,
   "metadata": {},
   "outputs": [
    {
     "name": "stdout",
     "output_type": "stream",
     "text": [
      "Ans: There are 1937 different categories of variation in the train data, and they are distibuted as follows\n"
     ]
    }
   ],
   "source": [
    "print(\"Ans: There are\", unique_variation.shape[0] ,\"different categories of variation in the train data, and they are distibuted as follows\",)\n"
   ]
  },
  {
   "cell_type": "code",
   "execution_count": 151,
   "metadata": {},
   "outputs": [
    {
     "data": {
      "image/png": "[encoded data removed]",
      "text/plain": [
       "<Figure size 432x288 with 1 Axes>"
      ]
     },
     "metadata": {
      "needs_background": "light"
     },
     "output_type": "display_data"
    }
   ],
   "source": [
    "s = np.sum(unique_variation.values)\n",
    "h = unique_variation.values / s\n",
    "\n",
    "plt.plot(h, label=\"Histogram of variation\")\n",
    "plt.xlabel('Index of a variation')\n",
    "plt.ylabel('Number of occurances')\n",
    "plt.legend()\n",
    "plt.grid()\n",
    "plt.show()"
   ]
  },
  {
   "cell_type": "code",
   "execution_count": 153,
   "metadata": {},
   "outputs": [
    {
     "name": "stdout",
     "output_type": "stream",
     "text": [
      "[0.02919021 0.04896422 0.06685499 ... 0.99905838 0.99952919 1.        ]\n"
     ]
    },
    {
     "data": {
      "image/png": "[encoded data removed]",
      "text/plain": [
       "<Figure size 432x288 with 1 Axes>"
      ]
     },
     "metadata": {
      "needs_background": "light"
     },
     "output_type": "display_data"
    }
   ],
   "source": [
    "c = np.cumsum(h)\n",
    "print(c)\n",
    "\n",
    "plt.plot(c, label=\"Cummulative distributuion of variations\")\n",
    "plt.legend()\n",
    "plt.grid()\n",
    "plt.show()"
   ]
  },
  {
   "cell_type": "markdown",
   "metadata": {},
   "source": [
    "<p style=\"font-size:18px;\"> <b>Q9.</b> How to featurize this Variation feature ?</p>\n",
    "\n",
    "<p style=\"font-size:16px;\"><b>Ans.</b>There are two ways we can featurize this variable\n",
    "check out this video: https://www.appliedaicourse.com/course/applied-ai-course-online/lessons/handling-categorical-and-numerical-features/\n",
    "<ol><li>One hot Encoding</li><li>Response coding</li></ol></p>\n",
    "<p> We will be using both these methods to featurize the Variation Feature </p>"
   ]
  },
  {
   "cell_type": "code",
   "execution_count": 154,
   "metadata": {},
   "outputs": [
    {
     "data": {
      "text/plain": [
       "((2124, 9), (665, 9), (532, 9))"
      ]
     },
     "execution_count": 154,
     "metadata": {},
     "output_type": "execute_result"
    }
   ],
   "source": [
    "alpha = 1\n",
    "\n",
    "train_variation_feature_responseCoding = np.array(get_gv_feature(alpha, 'Variation', train_df))\n",
    "test_variation_feature_responseCoding = np.array(get_gv_feature(alpha, 'Variation', test_df))\n",
    "cv_variation_feature_responseCoding = np.array(get_gv_feature(alpha, 'Variation', cv_df))\n",
    "\n",
    "train_variation_feature_responseCoding.shape, test_variation_feature_responseCoding.shape, cv_variation_feature_responseCoding.shape\n",
    "\n"
   ]
  },
  {
   "cell_type": "code",
   "execution_count": 155,
   "metadata": {},
   "outputs": [
    {
     "data": {
      "text/plain": [
       "((2124, 1968), (665, 1968), (532, 1968))"
      ]
     },
     "execution_count": 155,
     "metadata": {},
     "output_type": "execute_result"
    }
   ],
   "source": [
    "variation_vectorizer = CountVectorizer()\n",
    "\n",
    "train_variation_feature_onehotCoding = variation_vectorizer.fit_transform(train_df.Variation)\n",
    "test_variation_feature_onehotCoding = variation_vectorizer.transform(test_df.Variation)\n",
    "cv_variation_feature_onehotCoding = variation_vectorizer.transform(cv_df.Variation)\n",
    "\n",
    "train_variation_feature_onehotCoding.shape, test_variation_feature_onehotCoding.shape, cv_variation_feature_onehotCoding.shape\n"
   ]
  },
  {
   "cell_type": "code",
   "execution_count": 156,
   "metadata": {},
   "outputs": [
    {
     "data": {
      "text/plain": [
       "['17',\n",
       " '1_fusion',\n",
       " '2010_2471trunc',\n",
       " '51',\n",
       " '533_534del',\n",
       " '560_561inser',\n",
       " '596_619splice',\n",
       " '6a',\n",
       " '963_d1010splice',\n",
       " '_baiap2l1_fusion',\n",
       " '_deletion',\n",
       " '_fusion',\n",
       " 'a1022e',\n",
       " 'a1066v',\n",
       " 'a1099t',\n",
       " 'a111p',\n",
       " 'a113_splice',\n",
       " 'a1170v',\n",
       " 'a1200v',\n",
       " 'a120s',\n",
       " 'a121e',\n",
       " 'a121p',\n",
       " 'a121v',\n",
       " 'a122',\n",
       " 'a1234t',\n",
       " 'a126d',\n",
       " 'a126g',\n",
       " 'a126s',\n",
       " 'a134d',\n",
       " 'a1374v',\n",
       " 'a1459p',\n",
       " 'a146t',\n",
       " 'a146v',\n",
       " 'a148t',\n",
       " 'a149p',\n",
       " 'a1519t',\n",
       " 'a161s',\n",
       " 'a161t',\n",
       " 'a1669s',\n",
       " 'a1685s',\n",
       " 'a1708e',\n",
       " 'a1752p',\n",
       " 'a1789s',\n",
       " 'a1789t',\n",
       " 'a1830t',\n",
       " 'a1843p',\n",
       " 'a18d',\n",
       " 'a197t',\n",
       " 'a2034v',\n",
       " 'a205t',\n",
       " 'a209t',\n",
       " 'a23e',\n",
       " 'a246p',\n",
       " 'a263v',\n",
       " 'a2643g',\n",
       " 'a2770t',\n",
       " 'a290t',\n",
       " 'a298t',\n",
       " 'a339v',\n",
       " 'a349p',\n",
       " 'a36p',\n",
       " 'a391e',\n",
       " 'a39p',\n",
       " 'a41p',\n",
       " 'a4419s',\n",
       " 'a459v',\n",
       " 'a500t',\n",
       " 'a502_y503dup',\n",
       " 'a504_y505ins',\n",
       " 'a532h',\n",
       " 'a546d',\n",
       " 'a57v',\n",
       " 'a598v',\n",
       " 'a59t',\n",
       " 'a627t',\n",
       " 'a633v',\n",
       " 'a634d',\n",
       " 'a634v',\n",
       " 'a648t',\n",
       " 'a677g',\n",
       " 'a723d',\n",
       " 'a728v',\n",
       " 'a72s',\n",
       " 'a72v',\n",
       " 'a750_e758del',\n",
       " 'a750_e758delinsp',\n",
       " 'a750p',\n",
       " 'a75p',\n",
       " 'a763_y764insfqea',\n",
       " 'a767_v769del',\n",
       " 'a767_v769dup',\n",
       " 'a77p',\n",
       " 'a77s',\n",
       " 'a77t',\n",
       " 'a829p',\n",
       " 'a859_l883delinsv',\n",
       " 'a883f',\n",
       " 'a919v',\n",
       " 'a95d',\n",
       " 'abl1_fusion',\n",
       " 'acpp',\n",
       " 'agk',\n",
       " 'ahcyl1_fusion',\n",
       " 'akap9',\n",
       " 'alk_fusion',\n",
       " 'amplification',\n",
       " 'ar',\n",
       " 'atf7ip',\n",
       " 'atg7',\n",
       " 'bcl2_fusion',\n",
       " 'bcor',\n",
       " 'bcor_fusion',\n",
       " 'bcr',\n",
       " 'bicc1_fusion',\n",
       " 'braf_fusion',\n",
       " 'brd4',\n",
       " 'btbd1',\n",
       " 'c124n',\n",
       " 'c124r',\n",
       " 'c125s',\n",
       " 'c1265s',\n",
       " 'c135s',\n",
       " 'c135y',\n",
       " 'c136r',\n",
       " 'c1385',\n",
       " 'c141y',\n",
       " 'c1483f',\n",
       " 'c1483w',\n",
       " 'c1483y',\n",
       " 'c157y',\n",
       " 'c176f',\n",
       " 'c1787s',\n",
       " 'c18y',\n",
       " 'c2060g',\n",
       " 'c238f',\n",
       " 'c242f',\n",
       " 'c242s',\n",
       " 'c248t',\n",
       " 'c24r',\n",
       " 'c250t',\n",
       " 'c275s',\n",
       " 'c277w',\n",
       " 'c278f',\n",
       " 'c27a',\n",
       " 'c311r',\n",
       " 'c378r',\n",
       " 'c381a',\n",
       " 'c382r',\n",
       " 'c396r',\n",
       " 'c41y',\n",
       " 'c44f',\n",
       " 'c44y',\n",
       " 'c450_k451insmiewmi',\n",
       " 'c456_n468del',\n",
       " 'c47g',\n",
       " 'c47s',\n",
       " 'c481s',\n",
       " 'c482r',\n",
       " 'c49y',\n",
       " 'c528s',\n",
       " 'c554w',\n",
       " 'c609y',\n",
       " 'c611y',\n",
       " 'c618r',\n",
       " 'c620r',\n",
       " 'c620y',\n",
       " 'c628y',\n",
       " 'c630r',\n",
       " 'c630y',\n",
       " 'c634r',\n",
       " 'c634w',\n",
       " 'c634y',\n",
       " 'c696y',\n",
       " 'c706f',\n",
       " 'c712r',\n",
       " 'c71y',\n",
       " 'c77f',\n",
       " 'c809g',\n",
       " 'c91s',\n",
       " 'ccdc170_fusion',\n",
       " 'ccdc6',\n",
       " 'ccdc6_fusion',\n",
       " 'ccnb3_fusion',\n",
       " 'cep110',\n",
       " 'cep85l',\n",
       " 'chtop',\n",
       " 'cic',\n",
       " 'copy_number_loss',\n",
       " 'cpeb1',\n",
       " 'creb1_fusion',\n",
       " 'cux1',\n",
       " 'd1010n',\n",
       " 'd101y',\n",
       " 'd1029y',\n",
       " 'd1067a',\n",
       " 'd1067v',\n",
       " 'd1067y',\n",
       " 'd106a',\n",
       " 'd1071n',\n",
       " 'd107y',\n",
       " 'd108n',\n",
       " 'd1091n',\n",
       " 'd119n',\n",
       " 'd1203n',\n",
       " 'd121g',\n",
       " 'd1280v',\n",
       " 'd130a',\n",
       " 'd1344h',\n",
       " 'd1349h',\n",
       " 'd1352y',\n",
       " 'd1384v',\n",
       " 'd1399y',\n",
       " 'd1709e',\n",
       " 'd171g',\n",
       " 'd171n',\n",
       " 'd1733g',\n",
       " 'd1739e',\n",
       " 'd1739g',\n",
       " 'd1739v',\n",
       " 'd1778g',\n",
       " 'd1778h',\n",
       " 'd1778n',\n",
       " 'd1778y',\n",
       " 'd186a',\n",
       " 'd194y',\n",
       " 'd245v',\n",
       " 'd24y',\n",
       " 'd2512y',\n",
       " 'd252g',\n",
       " 'd254n',\n",
       " 'd257n',\n",
       " 'd258n',\n",
       " 'd2665g',\n",
       " 'd2723g',\n",
       " 'd277h',\n",
       " 'd289del',\n",
       " 'd29y',\n",
       " 'd300h',\n",
       " 'd3170g',\n",
       " 'd323h',\n",
       " 'd324n',\n",
       " 'd326n',\n",
       " 'd32a',\n",
       " 'd32n',\n",
       " 'd331g',\n",
       " 'd350g',\n",
       " 'd351h',\n",
       " 'd384n',\n",
       " 'd390y',\n",
       " 'd401n',\n",
       " 'd402y',\n",
       " 'd404g',\n",
       " 'd408h',\n",
       " 'd419del',\n",
       " 'd423n',\n",
       " 'd473h',\n",
       " 'd493a',\n",
       " 'd520n',\n",
       " 'd537e',\n",
       " 'd537y',\n",
       " 'd557h',\n",
       " 'd579del',\n",
       " 'd594e',\n",
       " 'd594n',\n",
       " 'd594v',\n",
       " 'd594y',\n",
       " 'd603g',\n",
       " 'd603n',\n",
       " 'd609e',\n",
       " 'd61n',\n",
       " 'd61y',\n",
       " 'd631a',\n",
       " 'd631g',\n",
       " 'd641g',\n",
       " 'd641n',\n",
       " 'd646y',\n",
       " 'd65n',\n",
       " 'd661v',\n",
       " 'd661y',\n",
       " 'd67n',\n",
       " 'd737n',\n",
       " 'd74y',\n",
       " 'd761y',\n",
       " 'd769a',\n",
       " 'd769h',\n",
       " 'd770_n771insd',\n",
       " 'd770_p772dup',\n",
       " 'd808n',\n",
       " 'd814v',\n",
       " 'd816a',\n",
       " 'd816e',\n",
       " 'd816f',\n",
       " 'd816h',\n",
       " 'd816v',\n",
       " 'd816y',\n",
       " 'd820e',\n",
       " 'd820g',\n",
       " 'd821n',\n",
       " 'd835e',\n",
       " 'd835h',\n",
       " 'd835n',\n",
       " 'd835y',\n",
       " 'd83v',\n",
       " 'd842_h845del',\n",
       " 'd842i',\n",
       " 'd842v',\n",
       " 'd842y',\n",
       " 'd845a',\n",
       " 'd84h',\n",
       " 'd84y',\n",
       " 'd86n',\n",
       " 'd887n',\n",
       " 'd927g',\n",
       " 'd92a',\n",
       " 'd92h',\n",
       " 'd92n',\n",
       " 'd92v',\n",
       " 'd935n',\n",
       " 'd96n',\n",
       " 'ddit3_fusion',\n",
       " 'deletion',\n",
       " 'deletions',\n",
       " 'dna_binding_domain_deletions',\n",
       " 'dna_binding_domain_missense_mutations',\n",
       " 'dux4_fusion',\n",
       " 'e1021k',\n",
       " 'e102_i103del',\n",
       " 'e1051k',\n",
       " 'e1060a',\n",
       " 'e106g',\n",
       " 'e1071w',\n",
       " 'e116k',\n",
       " 'e120q',\n",
       " 'e1214k',\n",
       " 'e124q',\n",
       " 'e127g',\n",
       " 'e1282v',\n",
       " 'e1286v',\n",
       " 'e1356g',\n",
       " 'e137k',\n",
       " 'e139d',\n",
       " 'e14',\n",
       " 'e143k',\n",
       " 'e144k',\n",
       " 'e157g',\n",
       " 'e1586g',\n",
       " 'e161del',\n",
       " 'e1660g',\n",
       " 'e168d',\n",
       " 'e172k',\n",
       " 'e1735k',\n",
       " 'e1799k',\n",
       " 'e17k',\n",
       " 'e1836k',\n",
       " 'e190k',\n",
       " 'e1935g',\n",
       " 'e1978',\n",
       " 'e2014k',\n",
       " 'e203k',\n",
       " 'e207k',\n",
       " 'e218',\n",
       " 'e239a',\n",
       " 'e23fs',\n",
       " 'e255k',\n",
       " 'e255v',\n",
       " 'e258v',\n",
       " 'e265k',\n",
       " 'e2663v',\n",
       " 'e267g',\n",
       " 'e275k',\n",
       " 'e2856a',\n",
       " 'e29v',\n",
       " 'e3002k',\n",
       " 'e311_k312del',\n",
       " 'e317k',\n",
       " 'e31k',\n",
       " 'e321g',\n",
       " 'e322k',\n",
       " 'e326l',\n",
       " 'e330k',\n",
       " 'e35',\n",
       " 'e355a',\n",
       " 'e362h',\n",
       " 'e380q',\n",
       " 'e40k',\n",
       " 'e40n',\n",
       " 'e40w',\n",
       " 'e41a',\n",
       " 'e439del',\n",
       " 'e453a',\n",
       " 'e466k',\n",
       " 'e475k',\n",
       " 'e483',\n",
       " 'e490k',\n",
       " 'e49k',\n",
       " 'e501g',\n",
       " 'e50k',\n",
       " 'e525k',\n",
       " 'e541k',\n",
       " 'e542g',\n",
       " 'e542k',\n",
       " 'e542v',\n",
       " 'e545a',\n",
       " 'e552k',\n",
       " 'e554_i571del',\n",
       " 'e554_k558del',\n",
       " 'e554_v559del',\n",
       " 'e563k',\n",
       " 'e565g',\n",
       " 'e579k',\n",
       " 'e586k',\n",
       " 'e5k',\n",
       " 'e622d',\n",
       " 'e622q',\n",
       " 'e626k',\n",
       " 'e633k',\n",
       " 'e636k',\n",
       " 'e664k',\n",
       " 'e69g',\n",
       " 'e709_t710delinsd',\n",
       " 'e709a',\n",
       " 'e709g',\n",
       " 'e709k',\n",
       " 'e709v',\n",
       " 'e70k',\n",
       " 'e717k',\n",
       " 'e719g',\n",
       " 'e719k',\n",
       " 'e746_a750del',\n",
       " 'e746_a750delinsq',\n",
       " 'e746_s752delinsa',\n",
       " 'e746_s752delinsi',\n",
       " 'e746_t751delinsa',\n",
       " 'e746_t751delinsva',\n",
       " 'e746_t751insip',\n",
       " 'e746q',\n",
       " 'e746v',\n",
       " 'e75g',\n",
       " 'e76k',\n",
       " 'e77k',\n",
       " 'e78k',\n",
       " 'e79k',\n",
       " 'e812k',\n",
       " 'e81k',\n",
       " 'e82g',\n",
       " 'e836k',\n",
       " 'e839k',\n",
       " 'e846k',\n",
       " 'e866k',\n",
       " 'e868g',\n",
       " 'e88k',\n",
       " 'e921k',\n",
       " 'e996k',\n",
       " 'egfr',\n",
       " 'egfrvii',\n",
       " 'egfrviii',\n",
       " 'egfrviv',\n",
       " 'ep300',\n",
       " 'erg_fusion',\n",
       " 'erlin2',\n",
       " 'esr1',\n",
       " 'etv1_fusion',\n",
       " 'etv4_fusion',\n",
       " 'etv5_fusion',\n",
       " 'etv6',\n",
       " 'evi1_fusion',\n",
       " 'ewsr1',\n",
       " 'exon_13_deletion',\n",
       " 'exon_19_deletion',\n",
       " 'exon_1_mutations',\n",
       " 'exon_20_insertion',\n",
       " 'exon_20_insertions',\n",
       " 'exon_2_mutations',\n",
       " 'ezr',\n",
       " 'f1088lfs',\n",
       " 'f1174i',\n",
       " 'f1174l',\n",
       " 'f1200i',\n",
       " 'f123i',\n",
       " 'f1245c',\n",
       " 'f1245v',\n",
       " 'f133l',\n",
       " 'f133v',\n",
       " 'f134y',\n",
       " 'f154l',\n",
       " 'f1592s',\n",
       " 'f161l',\n",
       " 'f1662s',\n",
       " 'f1695l',\n",
       " 'f1704s',\n",
       " 'f170i',\n",
       " 'f1734s',\n",
       " 'f1761s',\n",
       " 'f1888i',\n",
       " 'f1888v',\n",
       " 'f241s',\n",
       " 'f248s',\n",
       " 'f28l',\n",
       " 'f311l',\n",
       " 'f31i',\n",
       " 'f328v',\n",
       " 'f341c',\n",
       " 'f341v',\n",
       " 'f347l',\n",
       " 'f354l',\n",
       " 'f359c',\n",
       " 'f367s',\n",
       " 'f384l',\n",
       " 'f384v',\n",
       " 'f384y',\n",
       " 'f468c',\n",
       " 'f537_k539delinsl',\n",
       " 'f53c',\n",
       " 'f53l',\n",
       " 'f53s',\n",
       " 'f57c',\n",
       " 'f57v',\n",
       " 'f594_r595inssdneyfyvdf',\n",
       " 'f594l',\n",
       " 'f615s',\n",
       " 'f71i',\n",
       " 'f79s',\n",
       " 'f808l',\n",
       " 'f877l',\n",
       " 'f893l',\n",
       " 'f958s',\n",
       " 'f958v',\n",
       " 'fam76a_fusion',\n",
       " 'fev_fusion',\n",
       " 'fgfr1_fusion',\n",
       " 'fgfr1op1',\n",
       " 'fgfr2',\n",
       " 'fgfr3_',\n",
       " 'fgfr3_fusion',\n",
       " 'fig',\n",
       " 'flt3_fusion',\n",
       " 'flt3_internal_tandem_duplications',\n",
       " 'fus',\n",
       " 'fusions',\n",
       " 'g101s',\n",
       " 'g1035s',\n",
       " 'g106_r108del',\n",
       " 'g106d',\n",
       " 'g106v',\n",
       " 'g1079d',\n",
       " 'g1123s',\n",
       " 'g1125a',\n",
       " 'g1128s',\n",
       " 'g114r',\n",
       " 'g118d',\n",
       " 'g1194d',\n",
       " 'g1232d',\n",
       " 'g123r',\n",
       " 'g1269a',\n",
       " 'g1269s',\n",
       " 'g127n',\n",
       " 'g129e',\n",
       " 'g12a',\n",
       " 'g12d',\n",
       " 'g12f',\n",
       " 'g12r',\n",
       " 'g12s',\n",
       " 'g12v',\n",
       " 'g13c',\n",
       " 'g13d',\n",
       " 'g13r',\n",
       " 'g13v',\n",
       " 'g1529r',\n",
       " 'g1567d',\n",
       " 'g1596v',\n",
       " 'g161v',\n",
       " 'g163d',\n",
       " 'g1656d',\n",
       " 'g165e',\n",
       " 'g165r',\n",
       " 'g165v',\n",
       " 'g1706a',\n",
       " 'g1706e',\n",
       " 'g1738e',\n",
       " 'g1738r',\n",
       " 'g1763v',\n",
       " 'g1770v',\n",
       " 'g1788d',\n",
       " 'g1788v',\n",
       " 'g17a',\n",
       " 'g17e',\n",
       " 'g17v',\n",
       " 'g1809k',\n",
       " 'g1971e',\n",
       " 'g199r',\n",
       " 'g2032r',\n",
       " 'g207e',\n",
       " 'g2101a',\n",
       " 'g2430a',\n",
       " 'g244d',\n",
       " 'g244s',\n",
       " 'g245a',\n",
       " 'g245s',\n",
       " 'g248v',\n",
       " 'g250e',\n",
       " 'g251c',\n",
       " 'g253c',\n",
       " 'g266e',\n",
       " 'g271e',\n",
       " 'g2748d',\n",
       " 'g305w',\n",
       " 'g309a',\n",
       " 'g309e',\n",
       " 'g311d',\n",
       " 'g31a',\n",
       " 'g31r',\n",
       " 'g31v',\n",
       " 'g322s',\n",
       " 'g325r',\n",
       " 'g328e',\n",
       " 'g34e',\n",
       " 'g356a',\n",
       " 'g35a',\n",
       " 'g373r',\n",
       " 'g375c',\n",
       " 'g375p',\n",
       " 'g380r',\n",
       " 'g39e',\n",
       " 'g419v',\n",
       " 'g423r',\n",
       " 'g423v',\n",
       " 'g430c',\n",
       " 'g44s',\n",
       " 'g464r',\n",
       " 'g466a',\n",
       " 'g466r',\n",
       " 'g466v',\n",
       " 'g469a',\n",
       " 'g469del',\n",
       " 'g469e',\n",
       " 'g478c',\n",
       " 'g480w',\n",
       " 'g508s',\n",
       " 'g52r',\n",
       " 'g591v',\n",
       " 'g596v',\n",
       " 'g602r',\n",
       " 'g60d',\n",
       " 'g60e',\n",
       " 'g60r',\n",
       " 'g660d',\n",
       " 'g665a',\n",
       " 'g67r',\n",
       " 'g67s',\n",
       " 'g697c',\n",
       " 'g719a',\n",
       " 'g719s',\n",
       " 'g724s',\n",
       " 'g751r',\n",
       " 'g75r',\n",
       " 'g774v',\n",
       " 'g776_v777insyvma',\n",
       " 'g776delinsvc',\n",
       " 'g776s',\n",
       " 'g778_p780dup',\n",
       " 'g785s',\n",
       " 'g796s',\n",
       " 'g81r',\n",
       " 'g853d',\n",
       " 'g857a',\n",
       " 'g863d',\n",
       " 'g881d',\n",
       " 'g914r',\n",
       " 'g936r',\n",
       " 'g93w',\n",
       " 'git2',\n",
       " 'golga4',\n",
       " 'gpiap1',\n",
       " 'h1047l',\n",
       " 'h1047r',\n",
       " 'h105r',\n",
       " 'h1094l',\n",
       " 'h118p',\n",
       " 'h123d',\n",
       " 'h123q',\n",
       " 'h123y',\n",
       " 'h133q',\n",
       " 'h1382y',\n",
       " 'h1402y',\n",
       " 'h1620r',\n",
       " 'h1686q',\n",
       " 'h168n',\n",
       " 'h1746n',\n",
       " 'h179l',\n",
       " 'h179n',\n",
       " 'h179r',\n",
       " 'h179y',\n",
       " 'h1862l',\n",
       " 'h1904r',\n",
       " 'h1918y',\n",
       " 'h191d',\n",
       " 'h193p',\n",
       " 'h206d',\n",
       " 'h2074n',\n",
       " 'h214n',\n",
       " 'h214q',\n",
       " 'h214r',\n",
       " 'h231r',\n",
       " 'h233n',\n",
       " 'h2428q',\n",
       " 'h284n',\n",
       " 'h284p',\n",
       " 'h297n',\n",
       " 'h355m',\n",
       " 'h410r',\n",
       " 'h412y',\n",
       " 'h41r',\n",
       " 'h538q',\n",
       " 'h570r',\n",
       " 'h597y',\n",
       " 'h61r',\n",
       " 'h65y',\n",
       " 'h662q',\n",
       " 'h662r',\n",
       " 'h68r',\n",
       " 'h68y',\n",
       " 'h694r',\n",
       " 'h773dup',\n",
       " 'h773inslgnp',\n",
       " 'h773l',\n",
       " 'h78q',\n",
       " 'h83n',\n",
       " 'h845_n848delinsp',\n",
       " 'h845y',\n",
       " 'h870r',\n",
       " 'h876q',\n",
       " 'h93d',\n",
       " 'h93q',\n",
       " 'h93r',\n",
       " 'h94y',\n",
       " 'hip1',\n",
       " 'hmga2',\n",
       " 'hypermethylation',\n",
       " 'i1018f',\n",
       " 'i103n',\n",
       " 'i111a',\n",
       " 'i111p',\n",
       " 'i111r',\n",
       " 'i1170n',\n",
       " 'i1171n',\n",
       " 'i1183t',\n",
       " 'i122l',\n",
       " 'i122v',\n",
       " 'i1250t',\n",
       " 'i130m',\n",
       " 'i1349t',\n",
       " 'i151s',\n",
       " 'i15t',\n",
       " 'i1807s',\n",
       " 'i18v',\n",
       " 'i195t',\n",
       " 'i219v',\n",
       " 'i21v',\n",
       " 'i2285v',\n",
       " 'i251s',\n",
       " 'i255f',\n",
       " 'i2627f',\n",
       " 'i2675v',\n",
       " 'i26n',\n",
       " 'i279p',\n",
       " 'i289m',\n",
       " 'i290r',\n",
       " 'i31m',\n",
       " 'i326v',\n",
       " 'i32del',\n",
       " 'i33del',\n",
       " 'i35s',\n",
       " 'i391m',\n",
       " 'i42v',\n",
       " 'i448v',\n",
       " 'i562m',\n",
       " 'i563_l576del',\n",
       " 'i668v',\n",
       " 'i68k',\n",
       " 'i744_k745delinskipvai',\n",
       " 'i834v',\n",
       " 'i836del',\n",
       " 'i843_d846del',\n",
       " 'i843del',\n",
       " 'i89t',\n",
       " 'igh',\n",
       " 'igk',\n",
       " 'igl',\n",
       " 'insertion',\n",
       " 'jak2_fusion',\n",
       " 'k101m',\n",
       " 'k1026e',\n",
       " 'k1062m',\n",
       " 'k111e',\n",
       " 'k117n',\n",
       " 'k11r',\n",
       " 'k120e',\n",
       " 'k120m',\n",
       " 'k120n',\n",
       " 'k125e',\n",
       " 'k128q',\n",
       " 'k1299e',\n",
       " 'k1434i',\n",
       " 'k1436q',\n",
       " 'k1452n',\n",
       " 'k1690n',\n",
       " 'k1702e',\n",
       " 'k179m',\n",
       " 'k181m',\n",
       " 'k189n',\n",
       " 'k218t',\n",
       " 'k2472t',\n",
       " 'k2729n',\n",
       " 'k288q',\n",
       " 'k28m',\n",
       " 'k291e',\n",
       " 'k291q',\n",
       " 'k2950n',\n",
       " 'k310r',\n",
       " 'k320e',\n",
       " 'k342n',\n",
       " 'k373e',\n",
       " 'k375a',\n",
       " 'k382e',\n",
       " 'k38n',\n",
       " 'k398a',\n",
       " 'k409q',\n",
       " 'k420a',\n",
       " 'k428a',\n",
       " 'k442nfs',\n",
       " 'k45t',\n",
       " 'k467t',\n",
       " 'k483m',\n",
       " 'k499e',\n",
       " 'k507a',\n",
       " 'k508m',\n",
       " 'k50e',\n",
       " 'k50l',\n",
       " 'k513r',\n",
       " 'k517r',\n",
       " 'k52r',\n",
       " 'k550_k558del',\n",
       " 'k550_v555delinsi',\n",
       " 'k550_w557del',\n",
       " 'k558_v559del',\n",
       " 'k558delinsnp',\n",
       " 'k558n',\n",
       " 'k56n',\n",
       " 'k590r',\n",
       " 'k59del',\n",
       " 'k5n',\n",
       " 'k601n',\n",
       " 'k603q',\n",
       " 'k607t',\n",
       " 'k62r',\n",
       " 'k648n',\n",
       " 'k650e',\n",
       " 'k650n',\n",
       " 'k650q',\n",
       " 'k650r',\n",
       " 'k650t',\n",
       " 'k656e',\n",
       " 'k659n',\n",
       " 'k65m',\n",
       " 'k666n',\n",
       " 'k666r',\n",
       " 'k666t',\n",
       " 'k700e',\n",
       " 'k700r',\n",
       " 'k745m',\n",
       " 'k753a',\n",
       " 'k753e',\n",
       " 'k765r',\n",
       " 'k78a',\n",
       " 'k78i',\n",
       " 'k79e',\n",
       " 'k82t',\n",
       " 'k830r',\n",
       " 'k83e',\n",
       " 'k83n',\n",
       " 'k935i',\n",
       " 'k975e',\n",
       " 'kank1',\n",
       " 'kdd',\n",
       " 'kdelr2',\n",
       " 'kdr',\n",
       " 'kiaa1509',\n",
       " 'kiaa1967_fusion',\n",
       " 'kif5b',\n",
       " 'l1019v',\n",
       " 'l1026f',\n",
       " 'l108p',\n",
       " 'l112p',\n",
       " 'l112r',\n",
       " 'l1152p',\n",
       " 'l1152r',\n",
       " 'l115r',\n",
       " 'l117p',\n",
       " 'l118p',\n",
       " 'l1196m',\n",
       " 'l1198p',\n",
       " 'l1224f',\n",
       " 'l122r',\n",
       " 'l1240v',\n",
       " 'l128f',\n",
       " 'l1301r',\n",
       " 'l1407p',\n",
       " 'l142p',\n",
       " 'l145r',\n",
       " 'l1460p',\n",
       " 'l146r',\n",
       " 'l147f',\n",
       " 'l1574p',\n",
       " 'l1584r',\n",
       " 'l158p',\n",
       " 'l158v',\n",
       " 'l1593p',\n",
       " 'l1596h',\n",
       " 'l1657p',\n",
       " 'l165p',\n",
       " 'l1678p',\n",
       " 'l1764p',\n",
       " 'l1844r',\n",
       " 'l1854p',\n",
       " 'l188q',\n",
       " 'l1904v',\n",
       " 'l193f',\n",
       " 'l19f',\n",
       " 'l209f',\n",
       " 'l2106p',\n",
       " 'l210r',\n",
       " 'l225li',\n",
       " 'l230p',\n",
       " 'l232li',\n",
       " 'l234fs',\n",
       " 'l2396f',\n",
       " 'l239r',\n",
       " 'l2431p',\n",
       " 'l248v',\n",
       " 'l251p',\n",
       " 'l265p',\n",
       " 'l274p',\n",
       " 'l2865v',\n",
       " 'l30f',\n",
       " 'l344p',\n",
       " 'l344r',\n",
       " 'l345q',\n",
       " 'l348f',\n",
       " 'l348s',\n",
       " 'l358r',\n",
       " 'l362r',\n",
       " 'l37p',\n",
       " 'l384m',\n",
       " 'l387m',\n",
       " 'l388m',\n",
       " 'l390f',\n",
       " 'l399v',\n",
       " 'l410r',\n",
       " 'l412f',\n",
       " 'l43v',\n",
       " 'l455m',\n",
       " 'l469v',\n",
       " 'l46f',\n",
       " 'l481f',\n",
       " 'l485f',\n",
       " 'l493v',\n",
       " 'l49h',\n",
       " 'l507p',\n",
       " 'l52f',\n",
       " 'l52r',\n",
       " 'l536p',\n",
       " 'l536q',\n",
       " 'l559r',\n",
       " 'l576del',\n",
       " 'l576p',\n",
       " 'l57del',\n",
       " 'l57v',\n",
       " 'l584f',\n",
       " 'l597v',\n",
       " 'l601_k602insreyeydl',\n",
       " 'l607i',\n",
       " 'l611v',\n",
       " 'l617f',\n",
       " 'l63f',\n",
       " 'l63p',\n",
       " 'l668f',\n",
       " 'l67p',\n",
       " 'l692f',\n",
       " 'l702h',\n",
       " 'l708p',\n",
       " 'l726f',\n",
       " 'l726i',\n",
       " 'l747_a750delinsp',\n",
       " 'l747_e749del',\n",
       " 'l747_p753del',\n",
       " 'l747_p753delinss',\n",
       " 'l747_t751delinsp',\n",
       " 'l747p',\n",
       " 'l747v',\n",
       " 'l755p',\n",
       " ...]"
      ]
     },
     "execution_count": 156,
     "metadata": {},
     "output_type": "execute_result"
    }
   ],
   "source": [
    "variation_vectorizer.get_feature_names()"
   ]
  },
  {
   "cell_type": "markdown",
   "metadata": {},
   "source": [
    "<p style=\"font-size:18px;\"> <b>Q10.</b> How good is this Variation feature  in predicting y_i?</p>"
   ]
  },
  {
   "cell_type": "markdown",
   "metadata": {},
   "source": [
    "Let's build a model just like the earlier!"
   ]
  },
  {
   "cell_type": "code",
   "execution_count": 157,
   "metadata": {},
   "outputs": [
    {
     "name": "stdout",
     "output_type": "stream",
     "text": [
      "For values of alpha =  1e-05 The log loss is: 1.7061185799308998\n",
      "For values of alpha =  0.0001 The log loss is: 1.7067070211544948\n",
      "For values of alpha =  0.001 The log loss is: 1.7102702886145764\n",
      "For values of alpha =  0.01 The log loss is: 1.7086381040551182\n",
      "For values of alpha =  0.1 The log loss is: 1.7140404643633735\n",
      "For values of alpha =  1 The log loss is: 1.7167620374620816\n"
     ]
    },
    {
     "data": {
      "image/png": "[encoded data removed]",
      "text/plain": [
       "<Figure size 432x288 with 1 Axes>"
      ]
     },
     "metadata": {
      "needs_background": "light"
     },
     "output_type": "display_data"
    },
    {
     "name": "stdout",
     "output_type": "stream",
     "text": [
      "For values of alpha:: 1e-05, the train log loss is:: 0.6975034965783736\n",
      "For values of alpha:: 1e-05, the cv log loss is:: 1.7061185799308998\n",
      "For values of alpha:: 1e-05, the test log loss is:: 1.7036504230852156\n"
     ]
    }
   ],
   "source": [
    "alpha = [10 ** x for x in range(-5, 1)]\n",
    "\n",
    "cv_log_error = []\n",
    "\n",
    "for i in alpha:\n",
    "    clf = SGDClassifier(alpha=i, penalty=\"l2\", loss=\"log\", random_state=42)\n",
    "    clf.fit(train_variation_feature_onehotCoding, y_train)\n",
    "    calib_clf = CalibratedClassifierCV(clf, method='sigmoid')\n",
    "    calib_clf.fit(train_variation_feature_onehotCoding, y_train)\n",
    "    predicted_y = calib_clf.predict_proba(cv_variation_feature_onehotCoding)\n",
    "    cv_log_error.append(log_loss(y_cv, predicted_y, labels=clf.classes_, eps=1e-15))\n",
    "    print('For values of alpha = ', i, \"The log loss is:\",log_loss(y_cv, predicted_y, labels=clf.classes_, eps=1e-15))\n",
    "\n",
    "fig, ax = plt.subplots()\n",
    "ax.plot(alpha, cv_log_error, c='b')\n",
    "for i, txt in enumerate(np.round(cv_log_error, 3)):\n",
    "    ax.annotate((alpha[i], np.round(txt, 3)), (alpha[i], cv_log_error[i]))\n",
    "plt.grid()\n",
    "plt.title(\"Cross Validation Error for each alpha\")\n",
    "plt.xlabel(\"Alpha i's\")\n",
    "plt.ylabel(\"Error measure\")\n",
    "plt.show()\n",
    "\n",
    "\n",
    "best_alpha = np.argmin(cv_log_error)\n",
    "clf = SGDClassifier(alpha=alpha[best_alpha], penalty=\"l2\", loss=\"log\", random_state=42)\n",
    "clf.fit(train_variation_feature_onehotCoding, y_train)\n",
    "calib_clf = CalibratedClassifierCV(clf, method='sigmoid')\n",
    "calib_clf.fit(train_variation_feature_onehotCoding, y_train)\n",
    "\n",
    "predicted_y = calib_clf.predict_proba(train_variation_feature_onehotCoding)\n",
    "print(f\"For values of alpha:: {alpha[best_alpha]}, the train log loss is:: {log_loss(y_train, predicted_y, labels=clf.classes_, eps=1e-15)}\")\n",
    "predicted_y = calib_clf.predict_proba(cv_variation_feature_onehotCoding)\n",
    "print(f\"For values of alpha:: {alpha[best_alpha]}, the cv log loss is:: {log_loss(y_cv, predicted_y, labels=clf.classes_, eps=1e-15)}\")\n",
    "predicted_y = calib_clf.predict_proba(test_variation_feature_onehotCoding)\n",
    "print(f\"For values of alpha:: {alpha[best_alpha]}, the test log loss is:: {log_loss(y_test, predicted_y, labels=clf.classes_, eps=1e-15)}\")\n",
    "\n",
    "\n"
   ]
  },
  {
   "cell_type": "markdown",
   "metadata": {},
   "source": [
    "<p style=\"font-size:18px;\"> <b>Q11.</b> Is the Variation feature stable across all the data sets (Test, Train, Cross validation)?</p>\n",
    "<p style=\"font-size:16px;\"> <b>Ans.</b> Not sure! But lets be very sure using the below analysis. </p>"
   ]
  },
  {
   "cell_type": "markdown",
   "metadata": {},
   "source": [
    "<p style=\"font-size:18px;\"> <b> Q6. </b> How many data points in Test and CV datasets are covered by the variation in train dataset?\" </p>"
   ]
  },
  {
   "cell_type": "code",
   "execution_count": null,
   "metadata": {},
   "outputs": [],
   "source": [
    "test_coverage= test_df[test_df['Variation'].isin(list(set(train_df['Variation'])))].shape[0]\n",
    "cv_coverage= cv_df[cv_df['Variation'].isin(list(set(train_df['Variation'])))].shape[0]\n",
    "\n",
    "print('Ans\\n1. In test data',test_coverage, 'out of',test_df.shape[0], \":\",(test_coverage/test_df.shape[0])*100)\n",
    "print('2. In cross validation data',cv_coverage, 'out of ',cv_df.shape[0],\":\" ,(cv_coverage/cv_df.shape[0])*100)"
   ]
  },
  {
   "cell_type": "code",
   "execution_count": 163,
   "metadata": {},
   "outputs": [
    {
     "name": "stdout",
     "output_type": "stream",
     "text": [
      "Ans::\n",
      "In test data:: 68 out of 665 :: 10.225563909774436\n",
      "In test data:: 66 out of 532 :: 12.406015037593985\n"
     ]
    }
   ],
   "source": [
    "test_coverage = test_df[test_df.Variation.isin(list(set(train_df.Variation)))].shape[0]\n",
    "cv_coverage = cv_df[cv_df.Variation.isin(list(set(train_df.Variation)))].shape[0]\n",
    "\n",
    "print('Ans::')\n",
    "print(f'In test data:: {test_coverage} out of {test_df.shape[0]} :: {(test_coverage/test_df.shape[0])*100}')\n",
    "print(f'In test data:: {cv_coverage} out of {cv_df.shape[0]} :: {(cv_coverage/cv_df.shape[0])*100}')\n"
   ]
  },
  {
   "cell_type": "markdown",
   "metadata": {},
   "source": [
    "<h3> Univariate Analysis on Text Feature</h3>"
   ]
  },
  {
   "cell_type": "markdown",
   "metadata": {},
   "source": [
    "1. How many unique words are present in train data?\n",
    "2. How are word frequencies distributed?\n",
    "3. How to featurize text field?\n",
    "4. Is the text feature useful in predicitng y_i?\n",
    "5. Is the text feature stable across train, test and CV datasets?"
   ]
  },
  {
   "cell_type": "code",
   "execution_count": 164,
   "metadata": {},
   "outputs": [],
   "source": [
    "def extract_dictionary_paddle(cls_text):\n",
    "    dictionary = defaultdict(int)\n",
    "    for index, row in cls_text.iterrows():\n",
    "        for word in row['TEXT'].split():\n",
    "            dictionary[word] += 1\n",
    "    return dictionary"
   ]
  },
  {
   "cell_type": "code",
   "execution_count": 165,
   "metadata": {},
   "outputs": [],
   "source": [
    "import math \n",
    "\n",
    "def get_text_responsecoding(df):\n",
    "    text_feature_responseCoding = np.zeros((df.shape[0],9))\n",
    "    for i in range(9):\n",
    "        row_index = 0\n",
    "        for index, row in df.iterrows():\n",
    "            sum_prob = 0\n",
    "            for word in row['TEXT'].split():\n",
    "                sum_prob += math.log(((dict_list[i].get(word,0)+10 )/(total_dict.get(word,0)+90)))\n",
    "            text_feature_responseCoding[row_index][i] = math.exp(sum_prob/len(row['TEXT'].split()))\n",
    "            row_index += 1\n",
    "    return text_feature_responseCoding"
   ]
  },
  {
   "cell_type": "code",
   "execution_count": 167,
   "metadata": {},
   "outputs": [],
   "source": [
    "dict_list = []\n",
    "for i in range(1, 10):\n",
    "    cls_text = train_df[train_df.Class == i]\n",
    "    dict_list.append(extract_dictionary_paddle(cls_text))\n",
    "    \n",
    "total_dict = extract_dictionary_paddle(train_df)\n",
    "\n",
    "confuse_array = []\n",
    "for i in train_text_features:\n",
    "    ratios = []\n",
    "    max_val = -1\n",
    "    for j in range(9):\n",
    "        ratios.append((dict_list[j][i]+10 )/(total_dict[i]+90))\n",
    "    confuse_array.append(ratios)\n",
    "confuse_array = np.array(confuse_array)"
   ]
  },
  {
   "cell_type": "code",
   "execution_count": 166,
   "metadata": {},
   "outputs": [
    {
     "name": "stdout",
     "output_type": "stream",
     "text": [
      "Total number of unique words in train data :: 53256\n"
     ]
    }
   ],
   "source": [
    "text_vectorizer = CountVectorizer(min_df=3)\n",
    "train_text_feature_onehotCoding = text_vectorizer.fit_transform(train_df['TEXT'])\n",
    "train_text_features = text_vectorizer.get_feature_names()\n",
    "\n",
    "# train_text_feature_onehotCoding.sum(axis=0).A1 will sum every row and returns (1*number of features) vector\n",
    "train_text_fea_counts = train_text_feature_onehotCoding.sum(axis=0).A1\n",
    "\n",
    "# zip(list(text_features),text_fea_counts) will zip a word with its number of times it occured\n",
    "text_fea_dict = dict(zip(list(train_text_features), train_text_fea_counts))\n",
    "\n",
    "print(f\"Total number of unique words in train data :: {len(train_text_features)}\")\n"
   ]
  },
  {
   "cell_type": "code",
   "execution_count": 168,
   "metadata": {},
   "outputs": [],
   "source": [
    "#response coding of text features\n",
    "train_text_feature_responseCoding  = get_text_responsecoding(train_df)\n",
    "test_text_feature_responseCoding  = get_text_responsecoding(test_df)\n",
    "cv_text_feature_responseCoding  = get_text_responsecoding(cv_df)"
   ]
  },
  {
   "cell_type": "code",
   "execution_count": 169,
   "metadata": {},
   "outputs": [],
   "source": [
    "# https://stackoverflow.com/a/16202486\n",
    "# we convert each row values such that they sum to 1  \n",
    "train_text_feature_responseCoding = (train_text_feature_responseCoding.T/train_text_feature_responseCoding.sum(axis=1)).T\n",
    "test_text_feature_responseCoding = (test_text_feature_responseCoding.T/test_text_feature_responseCoding.sum(axis=1)).T\n",
    "cv_text_feature_responseCoding = (cv_text_feature_responseCoding.T/cv_text_feature_responseCoding.sum(axis=1)).T"
   ]
  },
  {
   "cell_type": "code",
   "execution_count": 170,
   "metadata": {},
   "outputs": [],
   "source": [
    "# don't forget to normalize every feature\n",
    "train_text_feature_onehotCoding = normalize(train_text_feature_onehotCoding, axis=0)\n",
    "\n",
    "# we use the same vectorizer that was trained on train data\n",
    "test_text_feature_onehotCoding = text_vectorizer.transform(test_df['TEXT'])\n",
    "# don't forget to normalize every feature\n",
    "test_text_feature_onehotCoding = normalize(test_text_feature_onehotCoding, axis=0)\n",
    "\n",
    "# we use the same vectorizer that was trained on train data\n",
    "cv_text_feature_onehotCoding = text_vectorizer.transform(cv_df['TEXT'])\n",
    "# don't forget to normalize every feature\n",
    "cv_text_feature_onehotCoding = normalize(cv_text_feature_onehotCoding, axis=0)"
   ]
  },
  {
   "cell_type": "code",
   "execution_count": 171,
   "metadata": {},
   "outputs": [],
   "source": [
    "#https://stackoverflow.com/a/2258273/4084039\n",
    "sorted_text_fea_dict = dict(sorted(text_fea_dict.items(), key=lambda x: x[1] , reverse=True))\n",
    "sorted_text_occur = np.array(list(sorted_text_fea_dict.values()))"
   ]
  },
  {
   "cell_type": "code",
   "execution_count": 172,
   "metadata": {},
   "outputs": [
    {
     "name": "stdout",
     "output_type": "stream",
     "text": [
      "Counter({3: 5064, 4: 3759, 6: 2751, 5: 2730, 7: 2490, 8: 2125, 10: 1582, 9: 1582, 12: 1386, 11: 1048, 13: 994, 14: 914, 16: 867, 15: 795, 18: 782, 20: 615, 17: 557, 24: 548, 19: 544, 21: 511, 30: 431, 22: 421, 25: 420, 28: 366, 23: 358, 27: 335, 26: 321, 43: 315, 29: 297, 34: 291, 32: 276, 31: 270, 33: 257, 36: 253, 53: 244, 42: 240, 37: 237, 40: 235, 35: 234, 48: 209, 38: 197, 44: 191, 45: 178, 39: 177, 41: 172, 54: 161, 50: 160, 60: 158, 51: 155, 52: 140, 46: 137, 49: 133, 47: 132, 56: 129, 65: 121, 64: 121, 63: 121, 58: 120, 55: 120, 57: 117, 66: 116, 61: 114, 67: 110, 59: 106, 84: 103, 62: 101, 69: 100, 78: 94, 68: 90, 81: 86, 72: 86, 73: 85, 70: 84, 71: 83, 80: 81, 74: 80, 86: 79, 75: 77, 77: 76, 90: 74, 76: 74, 95: 73, 100: 72, 88: 72, 79: 72, 87: 70, 89: 69, 83: 69, 94: 68, 106: 65, 99: 61, 92: 61, 82: 61, 97: 59, 85: 59, 98: 58, 91: 57, 103: 56, 102: 56, 107: 55, 93: 54, 104: 52, 126: 50, 117: 50, 115: 50, 110: 50, 108: 50, 105: 50, 136: 49, 128: 47, 96: 46, 180: 42, 135: 42, 120: 42, 160: 41, 133: 41, 131: 41, 118: 41, 112: 41, 111: 41, 121: 40, 116: 40, 125: 39, 140: 38, 130: 38, 123: 37, 113: 37, 101: 37, 148: 36, 137: 36, 124: 36, 114: 36, 109: 36, 152: 35, 143: 35, 119: 35, 159: 34, 154: 34, 153: 34, 134: 34, 127: 34, 122: 34, 151: 33, 142: 33, 171: 32, 149: 32, 144: 32, 167: 31, 186: 30, 173: 30, 162: 30, 150: 30, 138: 30, 132: 30, 139: 29, 163: 28, 147: 28, 185: 27, 158: 27, 219: 26, 179: 26, 240: 25, 217: 25, 214: 25, 193: 25, 155: 25, 145: 25, 129: 25, 211: 24, 207: 24, 164: 24, 146: 24, 141: 24, 230: 23, 192: 23, 178: 23, 175: 23, 248: 22, 212: 22, 190: 22, 168: 22, 156: 22, 255: 21, 228: 21, 224: 21, 215: 21, 209: 21, 191: 21, 181: 21, 176: 21, 169: 21, 161: 21, 234: 20, 210: 20, 208: 20, 206: 20, 200: 20, 198: 20, 189: 20, 188: 20, 183: 20, 182: 20, 283: 19, 265: 19, 244: 19, 204: 19, 202: 19, 199: 19, 187: 19, 284: 18, 267: 18, 266: 18, 227: 18, 221: 18, 220: 18, 197: 18, 174: 18, 170: 18, 166: 18, 165: 18, 301: 17, 285: 17, 258: 17, 242: 17, 222: 17, 203: 17, 196: 17, 195: 17, 184: 17, 177: 17, 365: 16, 352: 16, 305: 16, 279: 16, 254: 16, 241: 16, 231: 16, 157: 16, 339: 15, 327: 15, 294: 15, 245: 15, 229: 15, 205: 15, 385: 14, 320: 14, 311: 14, 270: 14, 268: 14, 264: 14, 251: 14, 235: 14, 232: 14, 226: 14, 216: 14, 380: 13, 324: 13, 310: 13, 304: 13, 297: 13, 293: 13, 282: 13, 280: 13, 274: 13, 256: 13, 252: 13, 249: 13, 246: 13, 399: 12, 371: 12, 308: 12, 296: 12, 289: 12, 286: 12, 261: 12, 259: 12, 243: 12, 237: 12, 201: 12, 194: 12, 172: 12, 437: 11, 420: 11, 354: 11, 330: 11, 328: 11, 326: 11, 317: 11, 309: 11, 288: 11, 287: 11, 281: 11, 277: 11, 271: 11, 238: 11, 236: 11, 233: 11, 489: 10, 446: 10, 427: 10, 391: 10, 382: 10, 372: 10, 370: 10, 348: 10, 345: 10, 332: 10, 319: 10, 318: 10, 315: 10, 314: 10, 300: 10, 292: 10, 276: 10, 275: 10, 273: 10, 263: 10, 260: 10, 253: 10, 247: 10, 239: 10, 225: 10, 223: 10, 665: 9, 573: 9, 562: 9, 480: 9, 469: 9, 443: 9, 436: 9, 424: 9, 390: 9, 375: 9, 364: 9, 344: 9, 323: 9, 312: 9, 303: 9, 302: 9, 299: 9, 295: 9, 291: 9, 290: 9, 262: 9, 250: 9, 218: 9, 213: 9, 652: 8, 605: 8, 545: 8, 520: 8, 513: 8, 500: 8, 498: 8, 485: 8, 454: 8, 450: 8, 434: 8, 429: 8, 412: 8, 411: 8, 402: 8, 396: 8, 394: 8, 389: 8, 358: 8, 351: 8, 343: 8, 342: 8, 340: 8, 338: 8, 337: 8, 335: 8, 333: 8, 331: 8, 329: 8, 321: 8, 313: 8, 298: 8, 278: 8, 257: 8, 633: 7, 614: 7, 613: 7, 592: 7, 588: 7, 541: 7, 529: 7, 503: 7, 468: 7, 467: 7, 451: 7, 435: 7, 426: 7, 423: 7, 418: 7, 407: 7, 406: 7, 401: 7, 400: 7, 395: 7, 386: 7, 384: 7, 381: 7, 378: 7, 376: 7, 360: 7, 357: 7, 356: 7, 347: 7, 346: 7, 341: 7, 336: 7, 334: 7, 307: 7, 306: 7, 272: 7, 712: 6, 690: 6, 680: 6, 670: 6, 666: 6, 645: 6, 624: 6, 599: 6, 583: 6, 582: 6, 581: 6, 570: 6, 563: 6, 559: 6, 549: 6, 547: 6, 534: 6, 530: 6, 524: 6, 521: 6, 517: 6, 512: 6, 499: 6, 487: 6, 481: 6, 478: 6, 475: 6, 474: 6, 463: 6, 459: 6, 445: 6, 442: 6, 439: 6, 430: 6, 421: 6, 415: 6, 414: 6, 405: 6, 404: 6, 393: 6, 379: 6, 374: 6, 369: 6, 367: 6, 363: 6, 362: 6, 355: 6, 350: 6, 349: 6, 322: 6, 1288: 5, 1161: 5, 1158: 5, 1066: 5, 1048: 5, 1012: 5, 875: 5, 867: 5, 832: 5, 823: 5, 817: 5, 797: 5, 793: 5, 792: 5, 789: 5, 776: 5, 747: 5, 733: 5, 730: 5, 723: 5, 722: 5, 720: 5, 710: 5, 704: 5, 700: 5, 688: 5, 682: 5, 681: 5, 672: 5, 661: 5, 649: 5, 642: 5, 638: 5, 623: 5, 617: 5, 612: 5, 602: 5, 596: 5, 593: 5, 590: 5, 579: 5, 574: 5, 569: 5, 548: 5, 537: 5, 536: 5, 526: 5, 516: 5, 508: 5, 504: 5, 502: 5, 497: 5, 496: 5, 483: 5, 479: 5, 471: 5, 465: 5, 460: 5, 458: 5, 455: 5, 452: 5, 449: 5, 447: 5, 438: 5, 432: 5, 419: 5, 417: 5, 416: 5, 413: 5, 408: 5, 403: 5, 388: 5, 383: 5, 377: 5, 353: 5, 325: 5, 316: 5, 2999: 4, 1853: 4, 1784: 4, 1645: 4, 1429: 4, 1361: 4, 1306: 4, 1256: 4, 1228: 4, 1202: 4, 1200: 4, 1141: 4, 1110: 4, 1089: 4, 1082: 4, 1072: 4, 1059: 4, 1052: 4, 1049: 4, 1029: 4, 1013: 4, 1007: 4, 1005: 4, 983: 4, 946: 4, 931: 4, 927: 4, 917: 4, 912: 4, 910: 4, 903: 4, 898: 4, 893: 4, 891: 4, 874: 4, 873: 4, 859: 4, 854: 4, 852: 4, 847: 4, 845: 4, 843: 4, 842: 4, 836: 4, 834: 4, 833: 4, 831: 4, 819: 4, 807: 4, 798: 4, 781: 4, 770: 4, 760: 4, 758: 4, 740: 4, 725: 4, 721: 4, 718: 4, 715: 4, 703: 4, 697: 4, 695: 4, 686: 4, 676: 4, 662: 4, 660: 4, 656: 4, 655: 4, 648: 4, 644: 4, 641: 4, 636: 4, 632: 4, 628: 4, 620: 4, 611: 4, 603: 4, 598: 4, 587: 4, 586: 4, 575: 4, 572: 4, 568: 4, 567: 4, 561: 4, 557: 4, 556: 4, 554: 4, 550: 4, 542: 4, 539: 4, 528: 4, 527: 4, 525: 4, 515: 4, 514: 4, 509: 4, 507: 4, 506: 4, 491: 4, 484: 4, 477: 4, 472: 4, 466: 4, 461: 4, 453: 4, 440: 4, 428: 4, 425: 4, 410: 4, 409: 4, 387: 4, 368: 4, 361: 4, 269: 4, 3370: 3, 3321: 3, 2919: 3, 2511: 3, 2366: 3, 2070: 3, 2038: 3, 1875: 3, 1871: 3, 1746: 3, 1745: 3, 1742: 3, 1672: 3, 1669: 3, 1648: 3, 1607: 3, 1581: 3, 1562: 3, 1554: 3, 1538: 3, 1524: 3, 1520: 3, 1505: 3, 1494: 3, 1481: 3, 1472: 3, 1471: 3, 1468: 3, 1446: 3, 1442: 3, 1437: 3, 1406: 3, 1396: 3, 1392: 3, 1372: 3, 1339: 3, 1321: 3, 1315: 3, 1312: 3, 1300: 3, 1287: 3, 1281: 3, 1268: 3, 1263: 3, 1250: 3, 1248: 3, 1239: 3, 1238: 3, 1233: 3, 1230: 3, 1220: 3, 1217: 3, 1210: 3, 1185: 3, 1183: 3, 1180: 3, 1163: 3, 1160: 3, 1157: 3, 1133: 3, 1127: 3, 1121: 3, 1116: 3, 1107: 3, 1088: 3, 1078: 3, 1050: 3, 1046: 3, 1044: 3, 1041: 3, 1026: 3, 1024: 3, 1023: 3, 1022: 3, 1015: 3, 1006: 3, 1000: 3, 991: 3, 989: 3, 988: 3, 981: 3, 972: 3, 968: 3, 965: 3, 956: 3, 953: 3, 945: 3, 937: 3, 932: 3, 930: 3, 926: 3, 913: 3, 905: 3, 904: 3, 895: 3, 892: 3, 888: 3, 876: 3, 871: 3, 866: 3, 864: 3, 863: 3, 862: 3, 860: 3, 849: 3, 848: 3, 837: 3, 814: 3, 809: 3, 805: 3, 796: 3, 795: 3, 788: 3, 778: 3, 773: 3, 757: 3, 756: 3, 753: 3, 749: 3, 746: 3, 743: 3, 742: 3, 739: 3, 736: 3, 734: 3, 732: 3, 717: 3, 714: 3, 713: 3, 711: 3, 709: 3, 705: 3, 696: 3, 689: 3, 685: 3, 684: 3, 683: 3, 677: 3, 675: 3, 669: 3, 668: 3, 667: 3, 658: 3, 657: 3, 654: 3, 651: 3, 643: 3, 635: 3, 634: 3, 627: 3, 610: 3, 609: 3, 607: 3, 604: 3, 601: 3, 595: 3, 589: 3, 580: 3, 578: 3, 577: 3, 564: 3, 560: 3, 555: 3, 553: 3, 546: 3, 544: 3, 540: 3, 532: 3, 511: 3, 510: 3, 495: 3, 494: 3, 493: 3, 488: 3, 482: 3, 476: 3, 473: 3, 470: 3, 464: 3, 456: 3, 448: 3, 444: 3, 441: 3, 431: 3, 422: 3, 398: 3, 397: 3, 392: 3, 373: 3, 366: 3, 17380: 2, 8085: 2, 7169: 2, 6440: 2, 6355: 2, 5969: 2, 5403: 2, 5311: 2, 5224: 2, 4849: 2, 4794: 2, 4779: 2, 4636: 2, 4442: 2, 4374: 2, 4307: 2, 4275: 2, 4243: 2, 4111: 2, 4109: 2, 4094: 2, 4072: 2, 4032: 2, 3947: 2, 3786: 2, 3752: 2, 3672: 2, 3518: 2, 3500: 2, 3383: 2, 3296: 2, 3234: 2, 3178: 2, 3168: 2, 3052: 2, 2963: 2, 2956: 2, 2921: 2, 2903: 2, 2855: 2, 2773: 2, 2771: 2, 2719: 2, 2707: 2, 2683: 2, 2630: 2, 2624: 2, 2579: 2, 2575: 2, 2562: 2, 2557: 2, 2556: 2, 2555: 2, 2542: 2, 2525: 2, 2470: 2, 2447: 2, 2432: 2, 2411: 2, 2402: 2, 2377: 2, 2349: 2, 2309: 2, 2308: 2, 2295: 2, 2272: 2, 2185: 2, 2168: 2, 2145: 2, 2143: 2, 2135: 2, 2122: 2, 2121: 2, 2113: 2, 2112: 2, 2094: 2, 2078: 2, 2047: 2, 2034: 2, 2033: 2, 2029: 2, 1999: 2, 1998: 2, 1988: 2, 1984: 2, 1966: 2, 1962: 2, 1961: 2, 1957: 2, 1955: 2, 1928: 2, 1887: 2, 1880: 2, 1868: 2, 1857: 2, 1841: 2, 1839: 2, 1836: 2, 1835: 2, 1833: 2, 1825: 2, 1823: 2, 1817: 2, 1814: 2, 1812: 2, 1806: 2, 1791: 2, 1778: 2, 1775: 2, 1772: 2, 1762: 2, 1758: 2, 1743: 2, 1730: 2, 1727: 2, 1723: 2, 1715: 2, 1701: 2, 1695: 2, 1684: 2, 1661: 2, 1660: 2, 1644: 2, 1636: 2, 1621: 2, 1620: 2, 1619: 2, 1603: 2, 1597: 2, 1594: 2, 1593: 2, 1591: 2, 1585: 2, 1582: 2, 1578: 2, 1572: 2, 1568: 2, 1563: 2, 1561: 2, 1557: 2, 1556: 2, 1552: 2, 1545: 2, 1541: 2, 1540: 2, 1536: 2, 1534: 2, 1525: 2, 1517: 2, 1514: 2, 1511: 2, 1497: 2, 1489: 2, 1487: 2, 1464: 2, 1457: 2, 1435: 2, 1420: 2, 1402: 2, 1398: 2, 1397: 2, 1394: 2, 1388: 2, 1387: 2, 1383: 2, 1382: 2, 1380: 2, 1377: 2, 1373: 2, 1358: 2, 1355: 2, 1354: 2, 1352: 2, 1341: 2, 1338: 2, 1337: 2, 1325: 2, 1324: 2, 1323: 2, 1322: 2, 1320: 2, 1308: 2, 1303: 2, 1298: 2, 1297: 2, 1291: 2, 1276: 2, 1266: 2, 1264: 2, 1260: 2, 1258: 2, 1257: 2, 1255: 2, 1254: 2, 1252: 2, 1247: 2, 1245: 2, 1242: 2, 1240: 2, 1227: 2, 1225: 2, 1215: 2, 1214: 2, 1213: 2, 1209: 2, 1205: 2, 1194: 2, 1192: 2, 1190: 2, 1189: 2, 1187: 2, 1176: 2, 1173: 2, 1169: 2, 1167: 2, 1165: 2, 1162: 2, 1155: 2, 1154: 2, 1152: 2, 1149: 2, 1139: 2, 1123: 2, 1122: 2, 1115: 2, 1091: 2, 1083: 2, 1081: 2, 1080: 2, 1060: 2, 1054: 2, 1045: 2, 1039: 2, 1037: 2, 1035: 2, 1034: 2, 1030: 2, 1025: 2, 1018: 2, 1014: 2, 999: 2, 998: 2, 995: 2, 982: 2, 980: 2, 979: 2, 976: 2, 971: 2, 970: 2, 962: 2, 959: 2, 952: 2, 951: 2, 950: 2, 943: 2, 941: 2, 939: 2, 935: 2, 924: 2, 923: 2, 922: 2, 918: 2, 916: 2, 914: 2, 906: 2, 901: 2, 900: 2, 899: 2, 897: 2, 896: 2, 886: 2, 885: 2, 883: 2, 882: 2, 881: 2, 869: 2, 865: 2, 861: 2, 858: 2, 850: 2, 846: 2, 839: 2, 835: 2, 828: 2, 826: 2, 825: 2, 824: 2, 820: 2, 818: 2, 815: 2, 813: 2, 810: 2, 808: 2, 806: 2, 799: 2, 794: 2, 790: 2, 787: 2, 785: 2, 784: 2, 783: 2, 777: 2, 771: 2, 763: 2, 761: 2, 754: 2, 752: 2, 751: 2, 750: 2, 748: 2, 741: 2, 729: 2, 728: 2, 726: 2, 724: 2, 719: 2, 708: 2, 707: 2, 699: 2, 694: 2, 671: 2, 647: 2, 646: 2, 640: 2, 639: 2, 637: 2, 630: 2, 625: 2, 621: 2, 619: 2, 618: 2, 615: 2, 608: 2, 606: 2, 600: 2, 594: 2, 591: 2, 585: 2, 584: 2, 576: 2, 571: 2, 566: 2, 552: 2, 551: 2, 535: 2, 533: 2, 523: 2, 522: 2, 519: 2, 518: 2, 501: 2, 490: 2, 486: 2, 462: 2, 457: 2, 433: 2, 359: 2, 155534: 1, 118145: 1, 80316: 1, 69361: 1, 66426: 1, 65427: 1, 65270: 1, 63606: 1, 63088: 1, 56101: 1, 54632: 1, 49678: 1, 49138: 1, 46820: 1, 46147: 1, 44598: 1, 42893: 1, 42502: 1, 42208: 1, 41907: 1, 41377: 1, 41098: 1, 40618: 1, 39106: 1, 38430: 1, 37510: 1, 36576: 1, 36316: 1, 36205: 1, 36039: 1, 33936: 1, 33631: 1, 33562: 1, 33533: 1, 32003: 1, 31953: 1, 29475: 1, 28148: 1, 27135: 1, 26444: 1, 26424: 1, 26373: 1, 26186: 1, 26060: 1, 25448: 1, 25226: 1, 24783: 1, 24699: 1, 24417: 1, 24414: 1, 24017: 1, 23841: 1, 23587: 1, 22383: 1, 21966: 1, 21921: 1, 21664: 1, 21541: 1, 21261: 1, 21194: 1, 21084: 1, 20954: 1, 20421: 1, 20255: 1, 19889: 1, 19564: 1, 19471: 1, 19374: 1, 19129: 1, 19073: 1, 19009: 1, 18973: 1, 18869: 1, 18720: 1, 18622: 1, 18393: 1, 18278: 1, 18166: 1, 18000: 1, 17899: 1, 17873: 1, 17705: 1, 17557: 1, 17472: 1, 17399: 1, 17379: 1, 17343: 1, 17299: 1, 17149: 1, 17052: 1, 16948: 1, 16704: 1, 16632: 1, 16614: 1, 16555: 1, 16234: 1, 16090: 1, 16048: 1, 15971: 1, 15837: 1, 15673: 1, 15663: 1, 15631: 1, 15563: 1, 15447: 1, 15391: 1, 15343: 1, 15294: 1, 15116: 1, 15112: 1, 15096: 1, 14792: 1, 14773: 1, 14761: 1, 14693: 1, 14660: 1, 14475: 1, 14389: 1, 14251: 1, 13934: 1, 13797: 1, 13585: 1, 13547: 1, 13536: 1, 13501: 1, 13444: 1, 13347: 1, 13315: 1, 13282: 1, 13064: 1, 13051: 1, 12986: 1, 12942: 1, 12926: 1, 12887: 1, 12819: 1, 12783: 1, 12756: 1, 12749: 1, 12721: 1, 12679: 1, 12623: 1, 12613: 1, 12604: 1, 12590: 1, 12546: 1, 12511: 1, 12493: 1, 12440: 1, 12423: 1, 12354: 1, 12347: 1, 12325: 1, 12322: 1, 12306: 1, 12231: 1, 12155: 1, 12128: 1, 12126: 1, 12112: 1, 12094: 1, 12033: 1, 12016: 1, 11904: 1, 11889: 1, 11719: 1, 11713: 1, 11692: 1, 11668: 1, 11619: 1, 11556: 1, 11547: 1, 11529: 1, 11522: 1, 11358: 1, 11309: 1, 11194: 1, 11163: 1, 11144: 1, 11012: 1, 10943: 1, 10895: 1, 10831: 1, 10734: 1, 10680: 1, 10634: 1, 10625: 1, 10542: 1, 10496: 1, 10462: 1, 10404: 1, 10372: 1, 10332: 1, 10308: 1, 10280: 1, 10259: 1, 10257: 1, 10104: 1, 9942: 1, 9921: 1, 9903: 1, 9899: 1, 9874: 1, 9855: 1, 9841: 1, 9820: 1, 9812: 1, 9666: 1, 9662: 1, 9661: 1, 9636: 1, 9602: 1, 9557: 1, 9542: 1, 9524: 1, 9483: 1, 9474: 1, 9421: 1, 9388: 1, 9386: 1, 9265: 1, 9226: 1, 9205: 1, 9204: 1, 9201: 1, 9174: 1, 9152: 1, 9101: 1, 9064: 1, 9021: 1, 9014: 1, 9003: 1, 8932: 1, 8926: 1, 8910: 1, 8879: 1, 8878: 1, 8857: 1, 8816: 1, 8806: 1, 8753: 1, 8749: 1, 8733: 1, 8657: 1, 8648: 1, 8609: 1, 8562: 1, 8518: 1, 8498: 1, 8485: 1, 8463: 1, 8404: 1, 8395: 1, 8389: 1, 8350: 1, 8344: 1, 8278: 1, 8274: 1, 8270: 1, 8264: 1, 8166: 1, 8165: 1, 8125: 1, 8117: 1, 8114: 1, 8076: 1, 8037: 1, 8011: 1, 8001: 1, 7999: 1, 7980: 1, 7967: 1, 7961: 1, 7957: 1, 7931: 1, 7901: 1, 7889: 1, 7865: 1, 7858: 1, 7836: 1, 7820: 1, 7815: 1, 7798: 1, 7717: 1, 7704: 1, 7701: 1, 7672: 1, 7643: 1, 7629: 1, 7623: 1, 7552: 1, 7520: 1, 7516: 1, 7467: 1, 7456: 1, 7450: 1, 7432: 1, 7431: 1, 7415: 1, 7414: 1, 7411: 1, 7410: 1, 7385: 1, 7366: 1, 7360: 1, 7348: 1, 7332: 1, 7304: 1, 7301: 1, 7299: 1, 7278: 1, 7276: 1, 7271: 1, 7264: 1, 7233: 1, 7196: 1, 7191: 1, 7188: 1, 7129: 1, 7107: 1, 7096: 1, 7073: 1, 7046: 1, 7036: 1, 7006: 1, 6998: 1, 6990: 1, 6966: 1, 6935: 1, 6933: 1, 6905: 1, 6858: 1, 6850: 1, 6839: 1, 6796: 1, 6791: 1, 6780: 1, 6756: 1, 6752: 1, 6721: 1, 6712: 1, 6699: 1, 6695: 1, 6681: 1, 6661: 1, 6646: 1, 6635: 1, 6625: 1, 6621: 1, 6601: 1, 6600: 1, 6568: 1, 6565: 1, 6553: 1, 6537: 1, 6530: 1, 6512: 1, 6476: 1, 6468: 1, 6464: 1, 6453: 1, 6444: 1, 6441: 1, 6412: 1, 6408: 1, 6406: 1, 6405: 1, 6352: 1, 6338: 1, 6327: 1, 6306: 1, 6301: 1, 6282: 1, 6246: 1, 6224: 1, 6219: 1, 6183: 1, 6180: 1, 6178: 1, 6177: 1, 6147: 1, 6139: 1, 6128: 1, 6116: 1, 6093: 1, 6045: 1, 6036: 1, 6034: 1, 6024: 1, 6020: 1, 6019: 1, 6004: 1, 5963: 1, 5958: 1, 5942: 1, 5939: 1, 5891: 1, 5881: 1, 5871: 1, 5870: 1, 5867: 1, 5865: 1, 5862: 1, 5846: 1, 5842: 1, 5833: 1, 5826: 1, 5793: 1, 5751: 1, 5729: 1, 5722: 1, 5718: 1, 5715: 1, 5705: 1, 5702: 1, 5679: 1, 5664: 1, 5659: 1, 5652: 1, 5623: 1, 5612: 1, 5600: 1, 5584: 1, 5577: 1, 5571: 1, 5525: 1, 5523: 1, 5472: 1, 5464: 1, 5451: 1, 5431: 1, 5427: 1, 5423: 1, 5383: 1, 5374: 1, 5371: 1, 5342: 1, 5323: 1, 5307: 1, 5306: 1, 5300: 1, 5297: 1, 5285: 1, 5279: 1, 5233: 1, 5218: 1, 5216: 1, 5213: 1, 5194: 1, 5189: 1, 5187: 1, 5179: 1, 5166: 1, 5148: 1, 5136: 1, 5133: 1, 5111: 1, 5106: 1, 5105: 1, 5082: 1, 5073: 1, 5059: 1, 5056: 1, 5054: 1, 5044: 1, 5037: 1, 5013: 1, 4973: 1, 4972: 1, 4963: 1, 4962: 1, 4959: 1, 4958: 1, 4957: 1, 4954: 1, 4952: 1, 4944: 1, 4934: 1, 4931: 1, 4922: 1, 4897: 1, 4895: 1, 4886: 1, 4869: 1, 4858: 1, 4856: 1, 4846: 1, 4842: 1, 4840: 1, 4837: 1, 4826: 1, 4803: 1, 4792: 1, 4766: 1, 4762: 1, 4750: 1, 4744: 1, 4743: 1, 4738: 1, 4732: 1, 4726: 1, 4722: 1, 4721: 1, 4710: 1, 4705: 1, 4701: 1, 4700: 1, 4684: 1, 4644: 1, 4641: 1, 4623: 1, 4584: 1, 4580: 1, 4577: 1, 4572: 1, 4567: 1, 4563: 1, 4562: 1, 4550: 1, 4534: 1, 4532: 1, 4514: 1, 4510: 1, 4503: 1, 4483: 1, 4479: 1, 4472: 1, 4471: 1, 4468: 1, 4463: 1, 4461: 1, 4460: 1, 4459: 1, 4425: 1, 4417: 1, 4409: 1, 4407: 1, 4396: 1, 4393: 1, 4387: 1, 4385: 1, 4380: 1, 4362: 1, 4361: 1, 4349: 1, 4344: 1, 4329: 1, 4327: 1, 4325: 1, 4319: 1, 4316: 1, 4298: 1, 4278: 1, 4272: 1, 4268: 1, 4265: 1, 4259: 1, 4251: 1, 4249: 1, 4242: 1, 4236: 1, 4230: 1, 4215: 1, 4200: 1, 4199: 1, 4197: 1, 4195: 1, 4177: 1, 4175: 1, 4162: 1, 4158: 1, 4153: 1, 4152: 1, 4151: 1, 4140: 1, 4129: 1, 4124: 1, 4122: 1, 4120: 1, 4099: 1, 4097: 1, 4093: 1, 4073: 1, 4068: 1, 4060: 1, 4058: 1, 4056: 1, 4040: 1, 4039: 1, 4030: 1, 4026: 1, 4021: 1, 4001: 1, 3999: 1, 3983: 1, 3981: 1, 3972: 1, 3969: 1, 3965: 1, 3951: 1, 3939: 1, 3938: 1, 3936: 1, 3922: 1, 3917: 1, 3909: 1, 3905: 1, 3902: 1, 3895: 1, 3894: 1, 3884: 1, 3875: 1, 3872: 1, 3858: 1, 3853: 1, 3848: 1, 3846: 1, 3844: 1, 3842: 1, 3820: 1, 3814: 1, 3806: 1, 3804: 1, 3799: 1, 3795: 1, 3791: 1, 3781: 1, 3779: 1, 3761: 1, 3760: 1, 3754: 1, 3751: 1, 3749: 1, 3748: 1, 3747: 1, 3742: 1, 3734: 1, 3732: 1, 3716: 1, 3715: 1, 3709: 1, 3702: 1, 3699: 1, 3693: 1, 3691: 1, 3690: 1, 3685: 1, 3681: 1, 3680: 1, 3669: 1, 3664: 1, 3662: 1, 3651: 1, 3644: 1, 3639: 1, 3634: 1, 3629: 1, 3626: 1, 3624: 1, 3622: 1, 3614: 1, 3606: 1, 3603: 1, 3602: 1, 3600: 1, 3599: 1, 3598: 1, 3593: 1, 3592: 1, 3591: 1, 3588: 1, 3587: 1, 3586: 1, 3580: 1, 3578: 1, 3572: 1, 3569: 1, 3562: 1, 3558: 1, 3557: 1, 3549: 1, 3548: 1, 3541: 1, 3533: 1, 3528: 1, 3522: 1, 3520: 1, 3517: 1, 3513: 1, 3499: 1, 3493: 1, 3491: 1, 3486: 1, 3484: 1, 3482: 1, 3471: 1, 3469: 1, 3468: 1, 3465: 1, 3462: 1, 3461: 1, 3459: 1, 3453: 1, 3451: 1, 3448: 1, 3430: 1, 3424: 1, 3406: 1, 3403: 1, 3400: 1, 3396: 1, 3388: 1, 3387: 1, 3384: 1, 3378: 1, 3376: 1, 3371: 1, 3369: 1, 3362: 1, 3347: 1, 3345: 1, 3338: 1, 3337: 1, 3325: 1, 3317: 1, 3315: 1, 3314: 1, 3307: 1, 3302: 1, 3299: 1, 3298: 1, 3291: 1, 3285: 1, 3282: 1, 3273: 1, 3271: 1, 3269: 1, 3267: 1, 3264: 1, 3256: 1, 3251: 1, 3248: 1, 3245: 1, 3244: 1, 3243: 1, 3238: 1, 3236: 1, 3228: 1, 3225: 1, 3224: 1, 3219: 1, 3216: 1, 3213: 1, 3212: 1, 3208: 1, 3205: 1, 3203: 1, 3202: 1, 3195: 1, 3187: 1, 3186: 1, 3181: 1, 3174: 1, 3172: 1, 3169: 1, 3162: 1, 3161: 1, 3153: 1, 3149: 1, 3142: 1, 3141: 1, 3135: 1, 3128: 1, 3127: 1, 3124: 1, 3122: 1, 3117: 1, 3116: 1, 3112: 1, 3111: 1, 3110: 1, 3098: 1, 3095: 1, 3087: 1, 3080: 1, 3078: 1, 3077: 1, 3069: 1, 3065: 1, 3062: 1, 3059: 1, 3057: 1, 3054: 1, 3049: 1, 3038: 1, 3025: 1, 3024: 1, 3016: 1, 3013: 1, 3009: 1, 2990: 1, 2979: 1, 2978: 1, 2975: 1, 2971: 1, 2970: 1, 2965: 1, 2960: 1, 2949: 1, 2947: 1, 2943: 1, 2936: 1, 2934: 1, 2933: 1, 2928: 1, 2918: 1, 2915: 1, 2909: 1, 2907: 1, 2895: 1, 2891: 1, 2882: 1, 2880: 1, 2878: 1, 2868: 1, 2867: 1, 2863: 1, 2860: 1, 2845: 1, 2844: 1, 2834: 1, 2833: 1, 2828: 1, 2824: 1, 2820: 1, 2815: 1, 2809: 1, 2808: 1, 2798: 1, 2797: 1, 2796: 1, 2795: 1, 2785: 1, 2772: 1, 2768: 1, 2759: 1, 2758: 1, 2755: 1, 2743: 1, 2729: 1, 2722: 1, 2718: 1, 2715: 1, 2712: 1, 2703: 1, 2694: 1, 2691: 1, 2686: 1, 2684: 1, 2682: 1, 2681: 1, 2679: 1, 2676: 1, 2673: 1, 2671: 1, 2670: 1, 2668: 1, 2662: 1, 2657: 1, 2655: 1, 2654: 1, 2653: 1, 2649: 1, 2640: 1, 2639: 1, 2634: 1, 2626: 1, 2623: 1, 2620: 1, 2618: 1, 2616: 1, 2614: 1, 2611: 1, 2607: 1, 2605: 1, 2601: 1, 2600: 1, 2596: 1, 2594: 1, 2584: 1, 2581: 1, 2577: 1, 2576: 1, 2573: 1, 2571: 1, 2570: 1, 2569: 1, 2568: 1, 2566: 1, 2565: 1, 2564: 1, 2560: 1, 2553: 1, 2550: 1, 2548: 1, 2546: 1, 2545: 1, 2540: 1, 2539: 1, 2536: 1, 2535: 1, 2529: 1, 2521: 1, 2520: 1, 2519: 1, 2514: 1, 2512: 1, 2507: 1, 2503: 1, 2498: 1, 2494: 1, 2487: 1, 2483: 1, 2479: 1, 2478: 1, 2471: 1, 2467: 1, 2453: 1, 2450: 1, 2448: 1, 2444: 1, 2440: 1, 2439: 1, 2438: 1, 2437: 1, 2427: 1, 2426: 1, 2425: 1, 2420: 1, 2419: 1, 2416: 1, 2409: 1, 2408: 1, 2407: 1, 2399: 1, 2396: 1, 2391: 1, 2390: 1, 2388: 1, 2387: 1, 2385: 1, 2383: 1, 2381: 1, 2379: 1, 2376: 1, 2372: 1, 2367: 1, 2365: 1, 2362: 1, 2361: 1, 2360: 1, 2359: 1, 2357: 1, 2353: 1, 2351: 1, 2348: 1, 2347: 1, 2345: 1, 2343: 1, 2340: 1, 2335: 1, 2332: 1, 2331: 1, 2329: 1, 2328: 1, 2327: 1, 2326: 1, 2325: 1, 2321: 1, 2317: 1, 2315: 1, 2313: 1, 2311: 1, 2310: 1, 2307: 1, 2302: 1, 2297: 1, 2292: 1, 2290: 1, 2288: 1, 2285: 1, 2281: 1, 2279: 1, 2277: 1, 2276: 1, 2274: 1, 2273: 1, 2271: 1, 2268: 1, 2265: 1, 2261: 1, 2259: 1, 2258: 1, 2252: 1, 2251: 1, 2248: 1, 2242: 1, 2238: 1, 2237: 1, 2234: 1, 2231: 1, 2230: 1, 2225: 1, 2222: 1, 2221: 1, 2219: 1, 2217: 1, 2207: 1, 2205: 1, 2199: 1, 2197: 1, 2194: 1, 2192: 1, 2191: 1, 2189: 1, 2180: 1, 2179: 1, 2174: 1, 2173: 1, 2172: 1, 2171: 1, 2164: 1, 2163: 1, 2161: 1, 2156: 1, 2155: 1, 2153: 1, 2151: 1, 2147: 1, 2144: 1, 2142: 1, 2141: 1, 2140: 1, 2136: 1, 2131: 1, 2129: 1, 2128: 1, 2127: 1, 2118: 1, 2114: 1, 2108: 1, 2106: 1, 2105: 1, 2103: 1, 2102: 1, 2101: 1, 2099: 1, 2093: 1, 2092: 1, 2085: 1, 2080: 1, 2079: 1, 2074: 1, 2067: 1, 2061: 1, 2060: 1, 2057: 1, 2056: 1, 2053: 1, 2052: 1, 2049: 1, 2048: 1, 2046: 1, 2044: 1, 2043: 1, 2041: 1, 2040: 1, 2039: 1, 2037: 1, 2036: 1, 2035: 1, 2030: 1, 2026: 1, 2025: 1, 2024: 1, 2023: 1, 2022: 1, 2019: 1, 2016: 1, 2013: 1, 2012: 1, 2010: 1, 2009: 1, 2008: 1, 2005: 1, 2003: 1, 2000: 1, 1997: 1, 1996: 1, 1987: 1, 1978: 1, 1976: 1, 1970: 1, 1969: 1, 1965: 1, 1954: 1, 1952: 1, 1951: 1, 1949: 1, 1948: 1, 1947: 1, 1946: 1, 1945: 1, 1944: 1, 1934: 1, 1933: 1, 1932: 1, 1926: 1, 1924: 1, 1923: 1, 1921: 1, 1919: 1, 1917: 1, 1916: 1, 1915: 1, 1911: 1, 1908: 1, 1907: 1, 1906: 1, 1903: 1, 1898: 1, 1889: 1, 1888: 1, 1879: 1, 1878: 1, 1876: 1, 1870: 1, 1869: 1, 1866: 1, 1865: 1, 1864: 1, 1863: 1, 1861: 1, 1860: 1, 1859: 1, 1854: 1, 1852: 1, 1851: 1, 1850: 1, 1845: 1, 1838: 1, 1832: 1, 1831: 1, 1828: 1, 1827: 1, 1822: 1, 1821: 1, 1816: 1, 1813: 1, 1811: 1, 1810: 1, 1809: 1, 1807: 1, 1805: 1, 1804: 1, 1803: 1, 1802: 1, 1800: 1, 1798: 1, 1797: 1, 1794: 1, 1790: 1, 1789: 1, 1787: 1, 1785: 1, 1782: 1, 1779: 1, 1777: 1, 1774: 1, 1773: 1, 1770: 1, 1769: 1, 1768: 1, 1767: 1, 1760: 1, 1759: 1, 1756: 1, 1754: 1, 1751: 1, 1749: 1, 1748: 1, 1747: 1, 1740: 1, 1739: 1, 1738: 1, 1737: 1, 1733: 1, 1726: 1, 1725: 1, 1718: 1, 1713: 1, 1707: 1, 1702: 1, 1700: 1, 1698: 1, 1697: 1, 1694: 1, 1692: 1, 1690: 1, 1686: 1, 1678: 1, 1677: 1, 1674: 1, 1673: 1, 1665: 1, 1662: 1, 1659: 1, 1656: 1, 1655: 1, 1653: 1, 1652: 1, 1650: 1, 1643: 1, 1642: 1, 1641: 1, 1635: 1, 1634: 1, 1631: 1, 1630: 1, 1623: 1, 1622: 1, 1617: 1, 1612: 1, 1610: 1, 1602: 1, 1595: 1, 1590: 1, 1589: 1, 1588: 1, 1586: 1, 1583: 1, 1580: 1, 1577: 1, 1576: 1, 1574: 1, 1571: 1, 1570: 1, 1569: 1, 1567: 1, 1566: 1, 1564: 1, 1560: 1, 1559: 1, 1558: 1, 1553: 1, 1551: 1, 1550: 1, 1549: 1, 1546: 1, 1535: 1, 1533: 1, 1532: 1, 1531: 1, 1530: 1, 1529: 1, 1527: 1, 1526: 1, 1522: 1, 1519: 1, 1518: 1, 1516: 1, 1503: 1, 1502: 1, 1501: 1, 1500: 1, 1496: 1, 1493: 1, 1483: 1, 1479: 1, 1477: 1, 1470: 1, 1469: 1, 1467: 1, 1465: 1, 1463: 1, 1462: 1, 1460: 1, 1458: 1, 1456: 1, 1455: 1, 1449: 1, 1448: 1, 1447: 1, 1443: 1, 1432: 1, 1430: 1, 1428: 1, 1427: 1, 1426: 1, 1424: 1, 1418: 1, 1417: 1, 1414: 1, 1413: 1, 1409: 1, 1408: 1, 1405: 1, 1404: 1, 1401: 1, 1400: 1, 1395: 1, 1390: 1, 1389: 1, 1385: 1, 1379: 1, 1378: 1, 1371: 1, 1369: 1, 1367: 1, 1366: 1, 1364: 1, 1362: 1, 1353: 1, 1351: 1, 1350: 1, 1348: 1, 1346: 1, 1344: 1, 1343: 1, 1340: 1, 1335: 1, 1332: 1, 1331: 1, 1330: 1, 1329: 1, 1328: 1, 1318: 1, 1316: 1, 1314: 1, 1313: 1, 1309: 1, 1307: 1, 1305: 1, 1304: 1, 1302: 1, 1301: 1, 1299: 1, 1296: 1, 1295: 1, 1294: 1, 1293: 1, 1292: 1, 1290: 1, 1286: 1, 1285: 1, 1277: 1, 1275: 1, 1274: 1, 1273: 1, 1271: 1, 1270: 1, 1269: 1, 1267: 1, 1265: 1, 1261: 1, 1259: 1, 1253: 1, 1249: 1, 1246: 1, 1244: 1, 1243: 1, 1241: 1, 1236: 1, 1234: 1, 1231: 1, 1226: 1, 1224: 1, 1223: 1, 1222: 1, 1221: 1, 1219: 1, 1216: 1, 1212: 1, 1208: 1, 1204: 1, 1203: 1, 1199: 1, 1196: 1, 1193: 1, 1191: 1, 1184: 1, 1182: 1, 1178: 1, 1177: 1, 1171: 1, 1170: 1, 1168: 1, 1166: 1, 1156: 1, 1153: 1, 1148: 1, 1147: 1, 1143: 1, 1142: 1, 1140: 1, 1138: 1, 1136: 1, 1134: 1, 1132: 1, 1131: 1, 1130: 1, 1129: 1, 1128: 1, 1126: 1, 1125: 1, 1120: 1, 1118: 1, 1117: 1, 1114: 1, 1113: 1, 1112: 1, 1111: 1, 1109: 1, 1105: 1, 1103: 1, 1102: 1, 1101: 1, 1100: 1, 1099: 1, 1098: 1, 1097: 1, 1096: 1, 1095: 1, 1092: 1, 1090: 1, 1086: 1, 1085: 1, 1079: 1, 1076: 1, 1074: 1, 1073: 1, 1071: 1, 1069: 1, 1067: 1, 1065: 1, 1061: 1, 1056: 1, 1055: 1, 1053: 1, 1047: 1, 1043: 1, 1042: 1, 1033: 1, 1031: 1, 1027: 1, 1021: 1, 1020: 1, 1016: 1, 1011: 1, 1010: 1, 1004: 1, 1003: 1, 1001: 1, 997: 1, 992: 1, 984: 1, 978: 1, 975: 1, 974: 1, 967: 1, 966: 1, 963: 1, 961: 1, 955: 1, 954: 1, 949: 1, 948: 1, 947: 1, 944: 1, 940: 1, 938: 1, 936: 1, 929: 1, 928: 1, 920: 1, 911: 1, 909: 1, 907: 1, 902: 1, 884: 1, 880: 1, 879: 1, 877: 1, 870: 1, 857: 1, 856: 1, 855: 1, 853: 1, 851: 1, 844: 1, 841: 1, 840: 1, 838: 1, 829: 1, 822: 1, 821: 1, 816: 1, 811: 1, 804: 1, 803: 1, 802: 1, 801: 1, 800: 1, 791: 1, 782: 1, 780: 1, 779: 1, 775: 1, 774: 1, 772: 1, 769: 1, 767: 1, 766: 1, 765: 1, 764: 1, 759: 1, 755: 1, 745: 1, 744: 1, 738: 1, 737: 1, 735: 1, 731: 1, 727: 1, 706: 1, 701: 1, 698: 1, 693: 1, 692: 1, 691: 1, 687: 1, 679: 1, 678: 1, 674: 1, 673: 1, 664: 1, 663: 1, 659: 1, 653: 1, 650: 1, 631: 1, 629: 1, 626: 1, 616: 1, 565: 1, 558: 1, 543: 1, 538: 1, 531: 1, 505: 1, 492: 1})\n"
     ]
    }
   ],
   "source": [
    "# Number of words for a given frequency.\n",
    "print(Counter(sorted_text_occur))"
   ]
  },
  {
   "cell_type": "code",
   "execution_count": 174,
   "metadata": {},
   "outputs": [
    {
     "name": "stdout",
     "output_type": "stream",
     "text": [
      "For values of alpha =  1e-05 The log loss is: 1.315419988997579\n",
      "For values of alpha =  0.0001 The log loss is: 1.216199950386511\n",
      "For values of alpha =  0.001 The log loss is: 1.2072842750681791\n",
      "For values of alpha =  0.01 The log loss is: 1.2895575019782577\n",
      "For values of alpha =  0.1 The log loss is: 1.4828389947579785\n",
      "For values of alpha =  1 The log loss is: 1.6669999350742208\n"
     ]
    },
    {
     "data": {
      "image/png": "[encoded data removed]",
      "text/plain": [
       "<Figure size 432x288 with 1 Axes>"
      ]
     },
     "metadata": {
      "needs_background": "light"
     },
     "output_type": "display_data"
    },
    {
     "name": "stdout",
     "output_type": "stream",
     "text": [
      "For values of alpha:: 0.001, the train log loss is:: 0.7112753820445042\n",
      "For values of alpha:: 0.001, the cv log loss is:: 1.2072842750681791\n",
      "For values of alpha:: 0.001, the test log loss is:: 1.1578505082185546\n"
     ]
    }
   ],
   "source": [
    "alpha = [10 ** x for x in range(-5, 1)]\n",
    "\n",
    "cv_log_error = []\n",
    "\n",
    "for i in alpha:\n",
    "    clf = SGDClassifier(alpha=i, penalty=\"l2\", loss=\"log\", random_state=42)\n",
    "    clf.fit(train_text_feature_onehotCoding, y_train)\n",
    "    calib_clf = CalibratedClassifierCV(clf, method='sigmoid')\n",
    "    calib_clf.fit(train_text_feature_onehotCoding, y_train)\n",
    "    predicted_y = calib_clf.predict_proba(cv_text_feature_onehotCoding)\n",
    "    cv_log_error.append(log_loss(y_cv, predicted_y, labels=clf.classes_, eps=1e-15))\n",
    "    print('For values of alpha = ', i, \"The log loss is:\",log_loss(y_cv, predicted_y, labels=clf.classes_, eps=1e-15))\n",
    "\n",
    "fig, ax = plt.subplots()\n",
    "ax.plot(alpha, cv_log_error, c='b')\n",
    "for i, txt in enumerate(np.round(cv_log_error, 3)):\n",
    "    ax.annotate((alpha[i], np.round(txt, 3)), (alpha[i], cv_log_error[i]))\n",
    "plt.grid()\n",
    "plt.title(\"Cross Validation Error for each alpha\")\n",
    "plt.xlabel(\"Alpha i's\")\n",
    "plt.ylabel(\"Error measure\")\n",
    "plt.show()\n",
    "\n",
    "\n",
    "best_alpha = np.argmin(cv_log_error)\n",
    "clf = SGDClassifier(alpha=alpha[best_alpha], penalty=\"l2\", loss=\"log\", random_state=42)\n",
    "clf.fit(train_text_feature_onehotCoding, y_train)\n",
    "calib_clf = CalibratedClassifierCV(clf, method='sigmoid')\n",
    "calib_clf.fit(train_text_feature_onehotCoding, y_train)\n",
    "\n",
    "predicted_y = calib_clf.predict_proba(train_text_feature_onehotCoding)\n",
    "print(f\"For values of alpha:: {alpha[best_alpha]}, the train log loss is:: {log_loss(y_train, predicted_y, labels=clf.classes_, eps=1e-15)}\")\n",
    "predicted_y = calib_clf.predict_proba(cv_text_feature_onehotCoding)\n",
    "print(f\"For values of alpha:: {alpha[best_alpha]}, the cv log loss is:: {log_loss(y_cv, predicted_y, labels=clf.classes_, eps=1e-15)}\")\n",
    "predicted_y = calib_clf.predict_proba(test_text_feature_onehotCoding)\n",
    "print(f\"For values of alpha:: {alpha[best_alpha]}, the test log loss is:: {log_loss(y_test, predicted_y, labels=clf.classes_, eps=1e-15)}\")\n",
    "\n",
    "\n"
   ]
  },
  {
   "cell_type": "markdown",
   "metadata": {},
   "source": [
    "<p style=\"font-size:18px;\"> <b>Q.</b> Is the Text feature stable across all the data sets (Test, Train, Cross validation)?</p>\n",
    "<p style=\"font-size:16px;\"> <b>Ans.</b> Yes, it seems like! </p>"
   ]
  },
  {
   "cell_type": "code",
   "execution_count": 175,
   "metadata": {},
   "outputs": [
    {
     "name": "stdout",
     "output_type": "stream",
     "text": [
      "95.825 % of word of test data appeared in train data\n",
      "97.679 % of word of Cross Validation appeared in train data\n"
     ]
    }
   ],
   "source": [
    "def get_intersec_text(df):\n",
    "    df_text_vec = CountVectorizer(min_df=3)\n",
    "    df_text_fea = df_text_vec.fit_transform(df['TEXT'])\n",
    "    df_text_features = df_text_vec.get_feature_names()\n",
    "\n",
    "    df_text_fea_counts = df_text_fea.sum(axis=0).A1\n",
    "    df_text_fea_dict = dict(zip(list(df_text_features),df_text_fea_counts))\n",
    "    len1 = len(set(df_text_features))\n",
    "    len2 = len(set(train_text_features) & set(df_text_features))\n",
    "    return len1,len2\n",
    "\n",
    "len1,len2 = get_intersec_text(test_df)\n",
    "print(np.round((len2/len1)*100, 3), \"% of word of test data appeared in train data\")\n",
    "len1,len2 = get_intersec_text(cv_df)\n",
    "print(np.round((len2/len1)*100, 3), \"% of word of Cross Validation appeared in train data\")"
   ]
  },
  {
   "cell_type": "markdown",
   "metadata": {},
   "source": [
    "<h1> Machine Learning Models</h1>"
   ]
  },
  {
   "cell_type": "markdown",
   "metadata": {},
   "source": [
    "### Helper: functions for ML models"
   ]
  },
  {
   "cell_type": "code",
   "execution_count": 176,
   "metadata": {},
   "outputs": [],
   "source": [
    "def predict_and_plot_confusion_matrix(train_x, train_y, test_x, test_y, clf):\n",
    "    clf.fit(train_x, train_y)\n",
    "    calib_clf = CalibratedClassifierCV(clf, method='sigmoid')\n",
    "    calib_clf.fit(train_x, train_y)\n",
    "    pred_y = calib_clf.predict(test_x)\n",
    "\n",
    "    print(f\"Log loss:: {log_loss(test_y, calib_clf.predict_proba(test_x), labels=clf.classes_, eps=1e-15)}\")\n",
    "    print(f\"Number of mis-classified points:: {np.count_nonzero((pred_y - test_y)) / test_y.shape[0]}\")\n",
    "\n"
   ]
  },
  {
   "cell_type": "code",
   "execution_count": 177,
   "metadata": {},
   "outputs": [],
   "source": [
    "def report_log_loss(train_x, train_y, test_x, test_y, clf):\n",
    "    clf.fit(train_x, train_y)\n",
    "    calib_clf = CalibratedClassifierCV(clf, method='sigmoid')\n",
    "    calib_clf.fit(train_x, train_y)\n",
    "    predict_prob = calib_clf.predict_proba(test_x)\n",
    "    return log_loss(test_y, sig_clf_probs, eps=1e-15)"
   ]
  },
  {
   "cell_type": "code",
   "execution_count": 191,
   "metadata": {},
   "outputs": [],
   "source": [
    "def get_impfeature_names(indices, text, gene, var, num_features):\n",
    "    gene_count_vec = CountVectorizer()\n",
    "    var_count_vec = CountVectorizer()\n",
    "    text_count_vec = CountVectorizer(min_df=3)\n",
    "    \n",
    "    gene_vec = gene_count_vec.fit(train_df['Gene'])\n",
    "    var_vec  = var_count_vec.fit(train_df['Variation'])\n",
    "    text_vec = text_count_vec.fit(train_df['TEXT'])\n",
    "    \n",
    "    fea1_len = len(gene_vec.get_feature_names())\n",
    "    fea2_len = len(var_count_vec.get_feature_names())\n",
    "    \n",
    "    word_present = 0\n",
    "    for i, v in enumerate(indices):\n",
    "        if v < fea1_len:\n",
    "            word = gene_vec.get_feature_names()[v]\n",
    "            yes_no = True if word == gene else False\n",
    "            if yes_no:\n",
    "                word_present += 1\n",
    "                print(i, \"Gene feature [{}] present in test data point [{}]\".format(word,yes_no))\n",
    "        \n",
    "        elif (v < fea1_len+fea2_len):\n",
    "            word = var_vec.get_feature_names()[v - fea1_len]\n",
    "            yes_no = True if word == var else False\n",
    "            if yes_no:\n",
    "                word_present += 1\n",
    "                print(i, \"variation feature [{}] present in test data point [{}]\".format(word,yes_no))\n",
    "        else:\n",
    "            word = text_vec.get_feature_names()[v - (fea1_len + fea2_len)]\n",
    "            yes_no = True if word in text.split() else False\n",
    "            if yes_no:\n",
    "                word_present += 1\n",
    "                print(i, \"Text feature [{}] present in test data point [{}]\".format(word,yes_no))\n",
    "\n",
    "    print(\"Out of the top \",num_features,\" features \", word_present, \"are present in query point\")\n",
    "    "
   ]
  },
  {
   "cell_type": "markdown",
   "metadata": {},
   "source": [
    "<p style=\"font-size:24px;text-align:Center\"> <b>Stacking the three types of features </b><p>"
   ]
  },
  {
   "cell_type": "code",
   "execution_count": 179,
   "metadata": {},
   "outputs": [],
   "source": [
    "train_gene_var_onehotCoding = hstack((train_gene_feature_onehotCoding,train_variation_feature_onehotCoding))\n",
    "test_gene_var_onehotCoding = hstack((test_gene_feature_onehotCoding,test_variation_feature_onehotCoding))\n",
    "cv_gene_var_onehotCoding = hstack((cv_gene_feature_onehotCoding,cv_variation_feature_onehotCoding))\n",
    "\n",
    "\n",
    "train_x_onehotCoding = hstack((train_gene_var_onehotCoding, train_text_feature_onehotCoding)).tocsr()\n",
    "train_y = np.array(list(train_df['Class']))\n",
    "\n",
    "test_x_onehotCoding = hstack((test_gene_var_onehotCoding, test_text_feature_onehotCoding)).tocsr()\n",
    "test_y = np.array(list(test_df['Class']))\n",
    "\n",
    "cv_x_onehotCoding = hstack((cv_gene_var_onehotCoding, cv_text_feature_onehotCoding)).tocsr()\n",
    "cv_y = np.array(list(cv_df['Class']))\n",
    "\n",
    "\n",
    "train_gene_var_responseCoding = np.hstack((train_gene_feature_responseCoding,train_variation_feature_responseCoding))\n",
    "test_gene_var_responseCoding = np.hstack((test_gene_feature_responseCoding,test_variation_feature_responseCoding))\n",
    "cv_gene_var_responseCoding = np.hstack((cv_gene_feature_responseCoding,cv_variation_feature_responseCoding))\n",
    "\n",
    "train_x_responseCoding = np.hstack((train_gene_var_responseCoding, train_text_feature_responseCoding))\n",
    "test_x_responseCoding = np.hstack((test_gene_var_responseCoding, test_text_feature_responseCoding))\n",
    "cv_x_responseCoding = np.hstack((cv_gene_var_responseCoding, cv_text_feature_responseCoding))\n"
   ]
  },
  {
   "cell_type": "code",
   "execution_count": 181,
   "metadata": {},
   "outputs": [
    {
     "name": "stdout",
     "output_type": "stream",
     "text": [
      "One hot encoding features :\n",
      "(number of data points * number of features) in train data =  (2124, 55452)\n",
      "(number of data points * number of features) in test data =  (665, 55452)\n",
      "(number of data points * number of features) in cross validation data = (532, 55452)\n",
      "\n",
      "\n",
      "====================================================================================================\n",
      " Response encoding features :\n",
      "(number of data points * number of features) in train data =  (2124, 27)\n",
      "(number of data points * number of features) in test data =  (665, 27)\n",
      "(number of data points * number of features) in cross validation data = (532, 27)\n"
     ]
    }
   ],
   "source": [
    "print(\"One hot encoding features :\")\n",
    "print(\"(number of data points * number of features) in train data = \", train_x_onehotCoding.shape)\n",
    "print(\"(number of data points * number of features) in test data = \", test_x_onehotCoding.shape)\n",
    "print(\"(number of data points * number of features) in cross validation data =\", cv_x_onehotCoding.shape)\n",
    "print('\\n')\n",
    "\n",
    "\n",
    "print(\"==\"*50)\n",
    "print(\" Response encoding features :\")\n",
    "print(\"(number of data points * number of features) in train data = \", train_x_responseCoding.shape)\n",
    "print(\"(number of data points * number of features) in test data = \", test_x_responseCoding.shape)\n",
    "print(\"(number of data points * number of features) in cross validation data =\", cv_x_responseCoding.shape)"
   ]
  },
  {
   "cell_type": "markdown",
   "metadata": {},
   "source": [
    "<h2> Base Line Model</h2>"
   ]
  },
  {
   "cell_type": "markdown",
   "metadata": {},
   "source": [
    "<h3> Naive Bayes</h3>"
   ]
  },
  {
   "cell_type": "markdown",
   "metadata": {},
   "source": [
    "<h4> Hyper parameter tuning</h4>"
   ]
  },
  {
   "cell_type": "code",
   "execution_count": 186,
   "metadata": {},
   "outputs": [
    {
     "name": "stdout",
     "output_type": "stream",
     "text": [
      "For values of alpha =  1e-05 The log loss is: 1.3079133113785373\n",
      "For values of alpha =  0.0001 The log loss is: 1.3179840432450027\n",
      "For values of alpha =  0.001 The log loss is: 1.3124285276743701\n",
      "For values of alpha =  0.1 The log loss is: 1.280474755189541\n",
      "For values of alpha =  1 The log loss is: 1.268899848126524\n",
      "For values of alpha =  10 The log loss is: 1.3858274668333188\n",
      "For values of alpha =  100 The log loss is: 1.4139137348416664\n",
      "For values of alpha =  1000 The log loss is: 1.3683781305448146\n"
     ]
    },
    {
     "data": {
      "image/png": "[encoded data removed]",
      "text/plain": [
       "<Figure size 432x288 with 1 Axes>"
      ]
     },
     "metadata": {
      "needs_background": "light"
     },
     "output_type": "display_data"
    },
    {
     "name": "stdout",
     "output_type": "stream",
     "text": [
      "For values of alpha:: 1, the train log loss is:: 0.944989988457461\n",
      "For values of alpha:: 1, the cv log loss is:: 1.268899848126524\n",
      "For values of alpha:: 1, the test log loss is:: 1.2963001465751767\n"
     ]
    }
   ],
   "source": [
    "alpha = [0.00001, 0.0001, 0.001, 0.1, 1, 10, 100,1000]\n",
    "cv_log_error_array = []\n",
    "\n",
    "cv_log_error = []\n",
    "\n",
    "for i in alpha:\n",
    "    clf = MultinomialNB(alpha=i)\n",
    "    clf.fit(train_x_onehotCoding, train_y)\n",
    "    calib_clf = CalibratedClassifierCV(clf, method='sigmoid')\n",
    "    calib_clf.fit(train_x_onehotCoding, train_y)\n",
    "    y_proba = calib_clf.predict_proba(cv_x_onehotCoding)\n",
    "    loss = log_loss(cv_y, y_proba, labels=clf.classes_, eps=1e-15)\n",
    "    cv_log_error.append(loss)\n",
    "    print('For values of alpha = ', i, \"The log loss is:\",loss)\n",
    "\n",
    "fig, ax = plt.subplots()\n",
    "ax.plot(np.log10(alpha), cv_log_error, c='b')\n",
    "for i, txt in enumerate(np.round(cv_log_error, 3)):\n",
    "    ax.annotate((alpha[i], np.round(txt, 3)), (np.log10(alpha[i]), cv_log_error[i]))\n",
    "plt.grid()\n",
    "plt.xticks(np.log10(alpha))\n",
    "plt.title(\"Cross Validation Error for each alpha\")\n",
    "plt.xlabel(\"Alpha i's\")\n",
    "plt.ylabel(\"Error measure\")\n",
    "plt.show()\n",
    "\n",
    "\n",
    "best_alpha = np.argmin(cv_log_error)\n",
    "clf = MultinomialNB(alpha=alpha[best_alpha])\n",
    "clf.fit(train_x_onehotCoding, train_y)\n",
    "calib_clf = CalibratedClassifierCV(clf, method='sigmoid')\n",
    "calib_clf.fit(train_x_onehotCoding, train_y)\n",
    "\n",
    "predicted_y = calib_clf.predict_proba(train_x_onehotCoding)\n",
    "print(f\"For values of alpha:: {alpha[best_alpha]}, the train log loss is:: {log_loss(train_y, predicted_y, labels=clf.classes_, eps=1e-15)}\")\n",
    "predicted_y = calib_clf.predict_proba(cv_x_onehotCoding)\n",
    "print(f\"For values of alpha:: {alpha[best_alpha]}, the cv log loss is:: {log_loss(cv_y, predicted_y, labels=clf.classes_, eps=1e-15)}\")\n",
    "predicted_y = calib_clf.predict_proba(test_x_onehotCoding)\n",
    "print(f\"For values of alpha:: {alpha[best_alpha]}, the test log loss is:: {log_loss(test_y, predicted_y, labels=clf.classes_, eps=1e-15)}\")\n",
    "   "
   ]
  },
  {
   "cell_type": "markdown",
   "metadata": {},
   "source": [
    "<h4> Testing the model with best hyper paramters</h4>"
   ]
  },
  {
   "cell_type": "code",
   "execution_count": 188,
   "metadata": {},
   "outputs": [
    {
     "name": "stdout",
     "output_type": "stream",
     "text": [
      "Log Loss : 1.268899848126524\n",
      "Number of missclassified point : 0.38721804511278196\n",
      ":::::::::::::::::::: Confusion matrix ::::::::::::::::::::\n"
     ]
    },
    {
     "data": {
      "image/png": "[encoded data removed]",
      "text/plain": [
       "<Figure size 1440x504 with 2 Axes>"
      ]
     },
     "metadata": {
      "needs_background": "light"
     },
     "output_type": "display_data"
    },
    {
     "name": "stdout",
     "output_type": "stream",
     "text": [
      ":::::::::::::::::::: Precision matrix ::::::::::::::::::::\n"
     ]
    },
    {
     "data": {
      "image/png": "[encoded data removed]",
      "text/plain": [
       "<Figure size 1440x504 with 2 Axes>"
      ]
     },
     "metadata": {
      "needs_background": "light"
     },
     "output_type": "display_data"
    },
    {
     "name": "stdout",
     "output_type": "stream",
     "text": [
      ":::::::::::::::::::: Recall matrix ::::::::::::::::::::\n"
     ]
    },
    {
     "data": {
      "image/png": "[encoded data removed]",
      "text/plain": [
       "<Figure size 1440x504 with 2 Axes>"
      ]
     },
     "metadata": {
      "needs_background": "light"
     },
     "output_type": "display_data"
    }
   ],
   "source": [
    "clf = MultinomialNB(alpha=alpha[best_alpha])\n",
    "clf.fit(train_x_onehotCoding, train_y)\n",
    "calib_clf = CalibratedClassifierCV(clf, method=\"sigmoid\")\n",
    "calib_clf.fit(train_x_onehotCoding, train_y)\n",
    "cv_y_probs = calib_clf.predict_proba(cv_x_onehotCoding)\n",
    "print(\"Log Loss :\",log_loss(cv_y, cv_y_probs))\n",
    "print(\"Number of missclassified point :\", np.count_nonzero((calib_clf.predict(cv_x_onehotCoding)- cv_y))/cv_y.shape[0])\n",
    "plot_confusion_matrix(cv_y, calib_clf.predict(cv_x_onehotCoding.toarray()))\n"
   ]
  },
  {
   "cell_type": "markdown",
   "metadata": {},
   "source": [
    "<h4> Feature Importance, Correctly classified point</h4>"
   ]
  },
  {
   "cell_type": "code",
   "execution_count": 192,
   "metadata": {},
   "outputs": [
    {
     "name": "stdout",
     "output_type": "stream",
     "text": [
      "Predicted Class:: 7\n",
      "Predicted Class Probabilities: [[0.0685 0.0875 0.0247 0.0951 0.0532 0.0353 0.6242 0.0057 0.0057]]\n",
      "Actual Class : 7\n",
      "--------------------------------------------------\n",
      "19 Text feature [presence] present in test data point [True]\n",
      "20 Text feature [kinase] present in test data point [True]\n",
      "27 Text feature [well] present in test data point [True]\n",
      "28 Text feature [activation] present in test data point [True]\n",
      "29 Text feature [activating] present in test data point [True]\n",
      "30 Text feature [cell] present in test data point [True]\n",
      "31 Text feature [independent] present in test data point [True]\n",
      "32 Text feature [also] present in test data point [True]\n",
      "34 Text feature [growth] present in test data point [True]\n",
      "36 Text feature [cells] present in test data point [True]\n",
      "37 Text feature [suggest] present in test data point [True]\n",
      "38 Text feature [previously] present in test data point [True]\n",
      "39 Text feature [showed] present in test data point [True]\n",
      "40 Text feature [obtained] present in test data point [True]\n",
      "42 Text feature [potential] present in test data point [True]\n",
      "43 Text feature [shown] present in test data point [True]\n",
      "46 Text feature [however] present in test data point [True]\n",
      "47 Text feature [factor] present in test data point [True]\n",
      "48 Text feature [similar] present in test data point [True]\n",
      "49 Text feature [10] present in test data point [True]\n",
      "50 Text feature [mutations] present in test data point [True]\n",
      "52 Text feature [treated] present in test data point [True]\n",
      "53 Text feature [described] present in test data point [True]\n",
      "56 Text feature [activated] present in test data point [True]\n",
      "57 Text feature [studies] present in test data point [True]\n",
      "60 Text feature [total] present in test data point [True]\n",
      "61 Text feature [observed] present in test data point [True]\n",
      "62 Text feature [interestingly] present in test data point [True]\n",
      "63 Text feature [reported] present in test data point [True]\n",
      "64 Text feature [molecular] present in test data point [True]\n",
      "65 Text feature [respectively] present in test data point [True]\n",
      "70 Text feature [although] present in test data point [True]\n",
      "74 Text feature [report] present in test data point [True]\n",
      "75 Text feature [12] present in test data point [True]\n",
      "79 Text feature [new] present in test data point [True]\n",
      "81 Text feature [mutation] present in test data point [True]\n",
      "85 Text feature [mutant] present in test data point [True]\n",
      "86 Text feature [using] present in test data point [True]\n",
      "87 Text feature [three] present in test data point [True]\n",
      "90 Text feature [15] present in test data point [True]\n",
      "97 Text feature [small] present in test data point [True]\n",
      "98 Text feature [leading] present in test data point [True]\n",
      "Out of the top  100  features  42 are present in query point\n"
     ]
    }
   ],
   "source": [
    "test_point_index = 1\n",
    "num_feature = 100\n",
    "predicted_cls = calib_clf.predict(test_x_onehotCoding[test_point_index])\n",
    "print(f\"Predicted Class:: {predicted_cls[0]}\",)\n",
    "print(\"Predicted Class Probabilities:\", np.round(calib_clf.predict_proba(test_x_onehotCoding[test_point_index]),4))\n",
    "print(\"Actual Class :\", test_y[test_point_index])\n",
    "indices = np.argsort(-clf.coef_)[predicted_cls - 1][:,:num_feature]\n",
    "print(\"-\"*50)\n",
    "get_impfeature_names(indices[0], test_df['TEXT'].iloc[test_point_index],test_df['Gene'].iloc[test_point_index],test_df['Variation'].iloc[test_point_index], num_feature)\n",
    "\n"
   ]
  },
  {
   "cell_type": "markdown",
   "metadata": {},
   "source": [
    "<h4> Feature Importance, Incorrectly classified point</h4>"
   ]
  },
  {
   "cell_type": "code",
   "execution_count": 231,
   "metadata": {},
   "outputs": [],
   "source": [
    "# num_feature = 100\n",
    "# predicted_y = calib_clf.predict(test_x_onehotCoding)\n",
    "# test_point_index = np.where(predicted_y != test_y)[0][0]\n",
    "# predicted_cls = predicted_y[test_point_index]\n",
    "# print(f\"Predicted Class:: {predicted_cls}\",)\n",
    "# print(\"Predicted Class Probabilities:\", np.round(calib_clf.predict_proba(test_x_onehotCoding[test_point_index]),4))\n",
    "# print(\"Actual Class :\", test_y[test_point_index])\n",
    "# indices = np.argsort(-clf.coef_)[predicted_cls][:num_feature]\n",
    "# print(\"-\"*50)\n",
    "# get_impfeature_names(indices[0], test_df['TEXT'].iloc[test_point_index],test_df['Gene'].iloc[test_point_index],test_df['Variation'].iloc[test_point_index], num_feature)\n",
    "\n"
   ]
  },
  {
   "cell_type": "code",
   "execution_count": 232,
   "metadata": {},
   "outputs": [
    {
     "name": "stdout",
     "output_type": "stream",
     "text": [
      "Predicted Class:: 7\n",
      "Predicted Class Probabilities: [[0.0681 0.0859 0.0246 0.0939 0.053  0.0351 0.628  0.0057 0.0057]]\n",
      "Actual Class : 2\n",
      "--------------------------------------------------\n",
      "18 Text feature [downstream] present in test data point [True]\n",
      "19 Text feature [presence] present in test data point [True]\n",
      "20 Text feature [kinase] present in test data point [True]\n",
      "21 Text feature [inhibitor] present in test data point [True]\n",
      "27 Text feature [well] present in test data point [True]\n",
      "28 Text feature [activation] present in test data point [True]\n",
      "30 Text feature [cell] present in test data point [True]\n",
      "31 Text feature [independent] present in test data point [True]\n",
      "32 Text feature [also] present in test data point [True]\n",
      "34 Text feature [growth] present in test data point [True]\n",
      "35 Text feature [higher] present in test data point [True]\n",
      "36 Text feature [cells] present in test data point [True]\n",
      "37 Text feature [suggest] present in test data point [True]\n",
      "38 Text feature [previously] present in test data point [True]\n",
      "39 Text feature [showed] present in test data point [True]\n",
      "40 Text feature [obtained] present in test data point [True]\n",
      "41 Text feature [found] present in test data point [True]\n",
      "42 Text feature [potential] present in test data point [True]\n",
      "43 Text feature [shown] present in test data point [True]\n",
      "44 Text feature [recently] present in test data point [True]\n",
      "45 Text feature [addition] present in test data point [True]\n",
      "46 Text feature [however] present in test data point [True]\n",
      "47 Text feature [factor] present in test data point [True]\n",
      "48 Text feature [similar] present in test data point [True]\n",
      "49 Text feature [10] present in test data point [True]\n",
      "50 Text feature [mutations] present in test data point [True]\n",
      "51 Text feature [compared] present in test data point [True]\n",
      "52 Text feature [treated] present in test data point [True]\n",
      "53 Text feature [described] present in test data point [True]\n",
      "54 Text feature [may] present in test data point [True]\n",
      "55 Text feature [inhibition] present in test data point [True]\n",
      "56 Text feature [activated] present in test data point [True]\n",
      "57 Text feature [studies] present in test data point [True]\n",
      "59 Text feature [without] present in test data point [True]\n",
      "60 Text feature [total] present in test data point [True]\n",
      "61 Text feature [observed] present in test data point [True]\n",
      "62 Text feature [interestingly] present in test data point [True]\n",
      "63 Text feature [reported] present in test data point [True]\n",
      "65 Text feature [respectively] present in test data point [True]\n",
      "69 Text feature [measured] present in test data point [True]\n",
      "70 Text feature [although] present in test data point [True]\n",
      "72 Text feature [various] present in test data point [True]\n",
      "73 Text feature [suggests] present in test data point [True]\n",
      "75 Text feature [12] present in test data point [True]\n",
      "76 Text feature [fig] present in test data point [True]\n",
      "77 Text feature [different] present in test data point [True]\n",
      "79 Text feature [new] present in test data point [True]\n",
      "80 Text feature [including] present in test data point [True]\n",
      "81 Text feature [mutation] present in test data point [True]\n",
      "84 Text feature [3b] present in test data point [True]\n",
      "85 Text feature [mutant] present in test data point [True]\n",
      "86 Text feature [using] present in test data point [True]\n",
      "87 Text feature [three] present in test data point [True]\n",
      "88 Text feature [consistent] present in test data point [True]\n",
      "90 Text feature [15] present in test data point [True]\n",
      "91 Text feature [identified] present in test data point [True]\n",
      "92 Text feature [inhibitors] present in test data point [True]\n",
      "93 Text feature [others] present in test data point [True]\n",
      "94 Text feature [confirmed] present in test data point [True]\n",
      "95 Text feature [3a] present in test data point [True]\n",
      "97 Text feature [small] present in test data point [True]\n",
      "99 Text feature [due] present in test data point [True]\n",
      "Out of the top  100  features  62 are present in query point\n"
     ]
    }
   ],
   "source": [
    "test_point_index = 6\n",
    "num_feature = 100\n",
    "predicted_cls = calib_clf.predict(test_x_onehotCoding[test_point_index])\n",
    "print(f\"Predicted Class:: {predicted_cls[0]}\",)\n",
    "print(\"Predicted Class Probabilities:\", np.round(calib_clf.predict_proba(test_x_onehotCoding[test_point_index]),4))\n",
    "print(\"Actual Class :\", test_y[test_point_index])\n",
    "indices = np.argsort(-clf.coef_)[predicted_cls - 1][:,:num_feature]\n",
    "print(\"-\"*50)\n",
    "get_impfeature_names(indices[0], test_df['TEXT'].iloc[test_point_index],test_df['Gene'].iloc[test_point_index],test_df['Variation'].iloc[test_point_index], num_feature)\n",
    "\n"
   ]
  },
  {
   "cell_type": "code",
   "execution_count": null,
   "metadata": {},
   "outputs": [],
   "source": []
  }
 ],
 "metadata": {
  "kernelspec": {
   "display_name": "Python 3",
   "language": "python",
   "name": "python3"
  },
  "language_info": {
   "codemirror_mode": {
    "name": "ipython",
    "version": 3
   },
   "file_extension": ".py",
   "mimetype": "text/x-python",
   "name": "python",
   "nbconvert_exporter": "python",
   "pygments_lexer": "ipython3",
   "version": "3.7.1"
  }
 },
 "nbformat": 4,
 "nbformat_minor": 2
}
