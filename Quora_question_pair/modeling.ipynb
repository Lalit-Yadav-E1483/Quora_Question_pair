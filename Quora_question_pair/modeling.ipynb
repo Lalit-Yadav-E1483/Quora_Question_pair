{
 "cells": [
  {
   "cell_type": "code",
   "execution_count": 67,
   "metadata": {},
   "outputs": [],
   "source": [
    "import pandas as pd\n",
    "import matplotlib.pyplot as plt\n",
    "import re\n",
    "import time\n",
    "import warnings\n",
    "import sqlite3\n",
    "from sqlalchemy import create_engine # database connection\n",
    "import csv\n",
    "import os\n",
    "warnings.filterwarnings(\"ignore\")\n",
    "import datetime as dt\n",
    "import numpy as np\n",
    "from nltk.corpus import stopwords\n",
    "from sklearn.decomposition import TruncatedSVD\n",
    "from sklearn.preprocessing import normalize\n",
    "from sklearn.feature_extraction.text import CountVectorizer\n",
    "from sklearn.manifold import TSNE\n",
    "import seaborn as sns\n",
    "from sklearn.neighbors import KNeighborsClassifier\n",
    "from sklearn.metrics import confusion_matrix\n",
    "from sklearn.metrics.classification import accuracy_score, log_loss\n",
    "from sklearn.feature_extraction.text import TfidfVectorizer\n",
    "from collections import Counter\n",
    "from scipy.sparse import hstack\n",
    "from sklearn.multiclass import OneVsRestClassifier\n",
    "from sklearn.svm import SVC\n",
    "from sklearn.model_selection import StratifiedKFold \n",
    "from collections import Counter, defaultdict\n",
    "from sklearn.calibration import CalibratedClassifierCV\n",
    "from sklearn.naive_bayes import MultinomialNB\n",
    "from sklearn.naive_bayes import GaussianNB\n",
    "from sklearn.model_selection import train_test_split\n",
    "from sklearn.model_selection import GridSearchCV\n",
    "import math\n",
    "from sklearn.metrics import normalized_mutual_info_score\n",
    "from sklearn.ensemble import RandomForestClassifier\n",
    "import xgboost as xgb\n",
    "import lightgbm as lgb\n",
    "\n",
    "\n",
    "from sklearn.model_selection import cross_val_score\n",
    "from sklearn.linear_model import SGDClassifier\n",
    "from mlxtend.classifier import StackingClassifier\n",
    "\n",
    "from sklearn import model_selection\n",
    "from sklearn.linear_model import LogisticRegression\n",
    "from sklearn.metrics import precision_recall_curve, auc, roc_curve\n",
    "from pathlib import Path\n",
    "import gc"
   ]
  },
  {
   "cell_type": "markdown",
   "metadata": {},
   "source": [
    "<h1> Machine Learning Models </h1>"
   ]
  },
  {
   "cell_type": "code",
   "execution_count": 2,
   "metadata": {},
   "outputs": [
    {
     "data": {
      "text/plain": [
       "[PosixPath('../data/quora/df_fe_without_preprocessing_train.csv'),\n",
       " PosixPath('../data/quora/final_features.csv'),\n",
       " PosixPath('../data/quora/final_features_fth'),\n",
       " PosixPath('../data/quora/nlp_features_train.csv'),\n",
       " PosixPath('../data/quora/quora-question-pairs.zip'),\n",
       " PosixPath('../data/quora/sample_submission.csv'),\n",
       " PosixPath('../data/quora/train.csv'),\n",
       " PosixPath('../data/quora/train_n.txt'),\n",
       " PosixPath('../data/quora/train_p.txt')]"
      ]
     },
     "execution_count": 2,
     "metadata": {},
     "output_type": "execute_result"
    }
   ],
   "source": [
    "path = Path('../data/quora')\n",
    "list(path.iterdir())"
   ]
  },
  {
   "cell_type": "code",
   "execution_count": 6,
   "metadata": {},
   "outputs": [
    {
     "data": {
      "text/html": [
       "<div>\n",
       "<style scoped>\n",
       "    .dataframe tbody tr th:only-of-type {\n",
       "        vertical-align: middle;\n",
       "    }\n",
       "\n",
       "    .dataframe tbody tr th {\n",
       "        vertical-align: top;\n",
       "    }\n",
       "\n",
       "    .dataframe thead th {\n",
       "        text-align: right;\n",
       "    }\n",
       "</style>\n",
       "<table border=\"1\" class=\"dataframe\">\n",
       "  <thead>\n",
       "    <tr style=\"text-align: right;\">\n",
       "      <th></th>\n",
       "      <th>Unnamed: 0</th>\n",
       "      <th>id</th>\n",
       "      <th>is_duplicate</th>\n",
       "      <th>cwc_min</th>\n",
       "      <th>cwc_max</th>\n",
       "      <th>csc_min</th>\n",
       "      <th>csc_max</th>\n",
       "      <th>ctc_min</th>\n",
       "      <th>ctc_max</th>\n",
       "      <th>last_word_eq</th>\n",
       "      <th>...</th>\n",
       "      <th>374_y</th>\n",
       "      <th>375_y</th>\n",
       "      <th>376_y</th>\n",
       "      <th>377_y</th>\n",
       "      <th>378_y</th>\n",
       "      <th>379_y</th>\n",
       "      <th>380_y</th>\n",
       "      <th>381_y</th>\n",
       "      <th>382_y</th>\n",
       "      <th>383_y</th>\n",
       "    </tr>\n",
       "  </thead>\n",
       "  <tbody>\n",
       "    <tr>\n",
       "      <td>0</td>\n",
       "      <td>0</td>\n",
       "      <td>0</td>\n",
       "      <td>0</td>\n",
       "      <td>0.999980</td>\n",
       "      <td>0.833319</td>\n",
       "      <td>0.999983</td>\n",
       "      <td>0.999983</td>\n",
       "      <td>0.916659</td>\n",
       "      <td>0.785709</td>\n",
       "      <td>0.0</td>\n",
       "      <td>...</td>\n",
       "      <td>16.165592</td>\n",
       "      <td>33.030668</td>\n",
       "      <td>7.019996</td>\n",
       "      <td>-14.793959</td>\n",
       "      <td>15.437511</td>\n",
       "      <td>8.199658</td>\n",
       "      <td>-25.070834</td>\n",
       "      <td>1.571619</td>\n",
       "      <td>1.603738</td>\n",
       "      <td>0.305645</td>\n",
       "    </tr>\n",
       "    <tr>\n",
       "      <td>1</td>\n",
       "      <td>1</td>\n",
       "      <td>1</td>\n",
       "      <td>0</td>\n",
       "      <td>0.799984</td>\n",
       "      <td>0.399996</td>\n",
       "      <td>0.749981</td>\n",
       "      <td>0.599988</td>\n",
       "      <td>0.699993</td>\n",
       "      <td>0.466664</td>\n",
       "      <td>0.0</td>\n",
       "      <td>...</td>\n",
       "      <td>-4.901128</td>\n",
       "      <td>-4.565393</td>\n",
       "      <td>41.520751</td>\n",
       "      <td>-0.727564</td>\n",
       "      <td>-16.413776</td>\n",
       "      <td>-7.373778</td>\n",
       "      <td>2.638877</td>\n",
       "      <td>-7.403457</td>\n",
       "      <td>2.703070</td>\n",
       "      <td>0.408040</td>\n",
       "    </tr>\n",
       "    <tr>\n",
       "      <td>2</td>\n",
       "      <td>2</td>\n",
       "      <td>2</td>\n",
       "      <td>0</td>\n",
       "      <td>0.399992</td>\n",
       "      <td>0.333328</td>\n",
       "      <td>0.399992</td>\n",
       "      <td>0.249997</td>\n",
       "      <td>0.399996</td>\n",
       "      <td>0.285712</td>\n",
       "      <td>0.0</td>\n",
       "      <td>...</td>\n",
       "      <td>8.359966</td>\n",
       "      <td>-2.165985</td>\n",
       "      <td>10.936580</td>\n",
       "      <td>-16.531660</td>\n",
       "      <td>14.681230</td>\n",
       "      <td>15.633759</td>\n",
       "      <td>-1.210901</td>\n",
       "      <td>14.183826</td>\n",
       "      <td>11.703135</td>\n",
       "      <td>10.148075</td>\n",
       "    </tr>\n",
       "    <tr>\n",
       "      <td>3</td>\n",
       "      <td>3</td>\n",
       "      <td>3</td>\n",
       "      <td>0</td>\n",
       "      <td>0.000000</td>\n",
       "      <td>0.000000</td>\n",
       "      <td>0.000000</td>\n",
       "      <td>0.000000</td>\n",
       "      <td>0.000000</td>\n",
       "      <td>0.000000</td>\n",
       "      <td>0.0</td>\n",
       "      <td>...</td>\n",
       "      <td>3.311411</td>\n",
       "      <td>3.788879</td>\n",
       "      <td>13.398598</td>\n",
       "      <td>-6.592596</td>\n",
       "      <td>6.437365</td>\n",
       "      <td>5.993293</td>\n",
       "      <td>2.732392</td>\n",
       "      <td>-3.727647</td>\n",
       "      <td>5.614115</td>\n",
       "      <td>6.023693</td>\n",
       "    </tr>\n",
       "    <tr>\n",
       "      <td>4</td>\n",
       "      <td>4</td>\n",
       "      <td>4</td>\n",
       "      <td>0</td>\n",
       "      <td>0.399992</td>\n",
       "      <td>0.199998</td>\n",
       "      <td>0.999950</td>\n",
       "      <td>0.666644</td>\n",
       "      <td>0.571420</td>\n",
       "      <td>0.307690</td>\n",
       "      <td>0.0</td>\n",
       "      <td>...</td>\n",
       "      <td>-2.403870</td>\n",
       "      <td>11.991204</td>\n",
       "      <td>8.088483</td>\n",
       "      <td>-15.090201</td>\n",
       "      <td>8.375166</td>\n",
       "      <td>1.727225</td>\n",
       "      <td>-6.601129</td>\n",
       "      <td>11.317413</td>\n",
       "      <td>11.544603</td>\n",
       "      <td>2.478689</td>\n",
       "    </tr>\n",
       "  </tbody>\n",
       "</table>\n",
       "<p>5 rows × 797 columns</p>\n",
       "</div>"
      ],
      "text/plain": [
       "   Unnamed: 0  id  is_duplicate   cwc_min   cwc_max   csc_min   csc_max  \\\n",
       "0           0   0             0  0.999980  0.833319  0.999983  0.999983   \n",
       "1           1   1             0  0.799984  0.399996  0.749981  0.599988   \n",
       "2           2   2             0  0.399992  0.333328  0.399992  0.249997   \n",
       "3           3   3             0  0.000000  0.000000  0.000000  0.000000   \n",
       "4           4   4             0  0.399992  0.199998  0.999950  0.666644   \n",
       "\n",
       "    ctc_min   ctc_max  last_word_eq  ...      374_y      375_y      376_y  \\\n",
       "0  0.916659  0.785709           0.0  ...  16.165592  33.030668   7.019996   \n",
       "1  0.699993  0.466664           0.0  ...  -4.901128  -4.565393  41.520751   \n",
       "2  0.399996  0.285712           0.0  ...   8.359966  -2.165985  10.936580   \n",
       "3  0.000000  0.000000           0.0  ...   3.311411   3.788879  13.398598   \n",
       "4  0.571420  0.307690           0.0  ...  -2.403870  11.991204   8.088483   \n",
       "\n",
       "       377_y      378_y      379_y      380_y      381_y      382_y      383_y  \n",
       "0 -14.793959  15.437511   8.199658 -25.070834   1.571619   1.603738   0.305645  \n",
       "1  -0.727564 -16.413776  -7.373778   2.638877  -7.403457   2.703070   0.408040  \n",
       "2 -16.531660  14.681230  15.633759  -1.210901  14.183826  11.703135  10.148075  \n",
       "3  -6.592596   6.437365   5.993293   2.732392  -3.727647   5.614115   6.023693  \n",
       "4 -15.090201   8.375166   1.727225  -6.601129  11.317413  11.544603   2.478689  \n",
       "\n",
       "[5 rows x 797 columns]"
      ]
     },
     "execution_count": 6,
     "metadata": {},
     "output_type": "execute_result"
    }
   ],
   "source": [
    "data = pd.read_csv(path/'final_features.csv')\n",
    "data.head()"
   ]
  },
  {
   "cell_type": "code",
   "execution_count": 7,
   "metadata": {},
   "outputs": [],
   "source": [
    "data.to_feather(path/'final_features_fth')"
   ]
  },
  {
   "cell_type": "code",
   "execution_count": 20,
   "metadata": {},
   "outputs": [],
   "source": [
    "data = pd.read_feather(path/'final_features_fth')"
   ]
  },
  {
   "cell_type": "code",
   "execution_count": 11,
   "metadata": {},
   "outputs": [
    {
     "data": {
      "text/plain": [
       "15"
      ]
     },
     "execution_count": 11,
     "metadata": {},
     "output_type": "execute_result"
    }
   ],
   "source": [
    "gc.collect()"
   ]
  },
  {
   "cell_type": "code",
   "execution_count": 21,
   "metadata": {},
   "outputs": [],
   "source": [
    "data.drop(['Unnamed: 0', 'id'], axis=1, inplace=True)"
   ]
  },
  {
   "cell_type": "code",
   "execution_count": 22,
   "metadata": {},
   "outputs": [
    {
     "data": {
      "text/html": [
       "<div>\n",
       "<style scoped>\n",
       "    .dataframe tbody tr th:only-of-type {\n",
       "        vertical-align: middle;\n",
       "    }\n",
       "\n",
       "    .dataframe tbody tr th {\n",
       "        vertical-align: top;\n",
       "    }\n",
       "\n",
       "    .dataframe thead th {\n",
       "        text-align: right;\n",
       "    }\n",
       "</style>\n",
       "<table border=\"1\" class=\"dataframe\">\n",
       "  <thead>\n",
       "    <tr style=\"text-align: right;\">\n",
       "      <th></th>\n",
       "      <th>is_duplicate</th>\n",
       "      <th>cwc_min</th>\n",
       "      <th>cwc_max</th>\n",
       "      <th>csc_min</th>\n",
       "      <th>csc_max</th>\n",
       "      <th>ctc_min</th>\n",
       "      <th>ctc_max</th>\n",
       "      <th>last_word_eq</th>\n",
       "      <th>first_word_eq</th>\n",
       "      <th>abs_len_diff</th>\n",
       "      <th>...</th>\n",
       "      <th>374_y</th>\n",
       "      <th>375_y</th>\n",
       "      <th>376_y</th>\n",
       "      <th>377_y</th>\n",
       "      <th>378_y</th>\n",
       "      <th>379_y</th>\n",
       "      <th>380_y</th>\n",
       "      <th>381_y</th>\n",
       "      <th>382_y</th>\n",
       "      <th>383_y</th>\n",
       "    </tr>\n",
       "  </thead>\n",
       "  <tbody>\n",
       "    <tr>\n",
       "      <td>0</td>\n",
       "      <td>0</td>\n",
       "      <td>0.999980</td>\n",
       "      <td>0.833319</td>\n",
       "      <td>0.999983</td>\n",
       "      <td>0.999983</td>\n",
       "      <td>0.916659</td>\n",
       "      <td>0.785709</td>\n",
       "      <td>0.0</td>\n",
       "      <td>1.0</td>\n",
       "      <td>2.0</td>\n",
       "      <td>...</td>\n",
       "      <td>16.165592</td>\n",
       "      <td>33.030668</td>\n",
       "      <td>7.019996</td>\n",
       "      <td>-14.793959</td>\n",
       "      <td>15.437511</td>\n",
       "      <td>8.199658</td>\n",
       "      <td>-25.070834</td>\n",
       "      <td>1.571619</td>\n",
       "      <td>1.603738</td>\n",
       "      <td>0.305645</td>\n",
       "    </tr>\n",
       "    <tr>\n",
       "      <td>1</td>\n",
       "      <td>0</td>\n",
       "      <td>0.799984</td>\n",
       "      <td>0.399996</td>\n",
       "      <td>0.749981</td>\n",
       "      <td>0.599988</td>\n",
       "      <td>0.699993</td>\n",
       "      <td>0.466664</td>\n",
       "      <td>0.0</td>\n",
       "      <td>1.0</td>\n",
       "      <td>5.0</td>\n",
       "      <td>...</td>\n",
       "      <td>-4.901128</td>\n",
       "      <td>-4.565393</td>\n",
       "      <td>41.520751</td>\n",
       "      <td>-0.727564</td>\n",
       "      <td>-16.413776</td>\n",
       "      <td>-7.373778</td>\n",
       "      <td>2.638877</td>\n",
       "      <td>-7.403457</td>\n",
       "      <td>2.703070</td>\n",
       "      <td>0.408040</td>\n",
       "    </tr>\n",
       "    <tr>\n",
       "      <td>2</td>\n",
       "      <td>0</td>\n",
       "      <td>0.399992</td>\n",
       "      <td>0.333328</td>\n",
       "      <td>0.399992</td>\n",
       "      <td>0.249997</td>\n",
       "      <td>0.399996</td>\n",
       "      <td>0.285712</td>\n",
       "      <td>0.0</td>\n",
       "      <td>1.0</td>\n",
       "      <td>4.0</td>\n",
       "      <td>...</td>\n",
       "      <td>8.359966</td>\n",
       "      <td>-2.165985</td>\n",
       "      <td>10.936580</td>\n",
       "      <td>-16.531660</td>\n",
       "      <td>14.681230</td>\n",
       "      <td>15.633759</td>\n",
       "      <td>-1.210901</td>\n",
       "      <td>14.183826</td>\n",
       "      <td>11.703135</td>\n",
       "      <td>10.148075</td>\n",
       "    </tr>\n",
       "    <tr>\n",
       "      <td>3</td>\n",
       "      <td>0</td>\n",
       "      <td>0.000000</td>\n",
       "      <td>0.000000</td>\n",
       "      <td>0.000000</td>\n",
       "      <td>0.000000</td>\n",
       "      <td>0.000000</td>\n",
       "      <td>0.000000</td>\n",
       "      <td>0.0</td>\n",
       "      <td>0.0</td>\n",
       "      <td>2.0</td>\n",
       "      <td>...</td>\n",
       "      <td>3.311411</td>\n",
       "      <td>3.788879</td>\n",
       "      <td>13.398598</td>\n",
       "      <td>-6.592596</td>\n",
       "      <td>6.437365</td>\n",
       "      <td>5.993293</td>\n",
       "      <td>2.732392</td>\n",
       "      <td>-3.727647</td>\n",
       "      <td>5.614115</td>\n",
       "      <td>6.023693</td>\n",
       "    </tr>\n",
       "    <tr>\n",
       "      <td>4</td>\n",
       "      <td>0</td>\n",
       "      <td>0.399992</td>\n",
       "      <td>0.199998</td>\n",
       "      <td>0.999950</td>\n",
       "      <td>0.666644</td>\n",
       "      <td>0.571420</td>\n",
       "      <td>0.307690</td>\n",
       "      <td>0.0</td>\n",
       "      <td>1.0</td>\n",
       "      <td>6.0</td>\n",
       "      <td>...</td>\n",
       "      <td>-2.403870</td>\n",
       "      <td>11.991204</td>\n",
       "      <td>8.088483</td>\n",
       "      <td>-15.090201</td>\n",
       "      <td>8.375166</td>\n",
       "      <td>1.727225</td>\n",
       "      <td>-6.601129</td>\n",
       "      <td>11.317413</td>\n",
       "      <td>11.544603</td>\n",
       "      <td>2.478689</td>\n",
       "    </tr>\n",
       "  </tbody>\n",
       "</table>\n",
       "<p>5 rows × 795 columns</p>\n",
       "</div>"
      ],
      "text/plain": [
       "   is_duplicate   cwc_min   cwc_max   csc_min   csc_max   ctc_min   ctc_max  \\\n",
       "0             0  0.999980  0.833319  0.999983  0.999983  0.916659  0.785709   \n",
       "1             0  0.799984  0.399996  0.749981  0.599988  0.699993  0.466664   \n",
       "2             0  0.399992  0.333328  0.399992  0.249997  0.399996  0.285712   \n",
       "3             0  0.000000  0.000000  0.000000  0.000000  0.000000  0.000000   \n",
       "4             0  0.399992  0.199998  0.999950  0.666644  0.571420  0.307690   \n",
       "\n",
       "   last_word_eq  first_word_eq  abs_len_diff  ...      374_y      375_y  \\\n",
       "0           0.0            1.0           2.0  ...  16.165592  33.030668   \n",
       "1           0.0            1.0           5.0  ...  -4.901128  -4.565393   \n",
       "2           0.0            1.0           4.0  ...   8.359966  -2.165985   \n",
       "3           0.0            0.0           2.0  ...   3.311411   3.788879   \n",
       "4           0.0            1.0           6.0  ...  -2.403870  11.991204   \n",
       "\n",
       "       376_y      377_y      378_y      379_y      380_y      381_y  \\\n",
       "0   7.019996 -14.793959  15.437511   8.199658 -25.070834   1.571619   \n",
       "1  41.520751  -0.727564 -16.413776  -7.373778   2.638877  -7.403457   \n",
       "2  10.936580 -16.531660  14.681230  15.633759  -1.210901  14.183826   \n",
       "3  13.398598  -6.592596   6.437365   5.993293   2.732392  -3.727647   \n",
       "4   8.088483 -15.090201   8.375166   1.727225  -6.601129  11.317413   \n",
       "\n",
       "       382_y      383_y  \n",
       "0   1.603738   0.305645  \n",
       "1   2.703070   0.408040  \n",
       "2  11.703135  10.148075  \n",
       "3   5.614115   6.023693  \n",
       "4  11.544603   2.478689  \n",
       "\n",
       "[5 rows x 795 columns]"
      ]
     },
     "execution_count": 22,
     "metadata": {},
     "output_type": "execute_result"
    }
   ],
   "source": [
    "data.head()"
   ]
  },
  {
   "cell_type": "markdown",
   "metadata": {},
   "source": [
    "<h2> Random train test split( 70:30) </h2>"
   ]
  },
  {
   "cell_type": "code",
   "execution_count": 23,
   "metadata": {},
   "outputs": [],
   "source": [
    "def get_sample(df, n):\n",
    "    idxs = sorted(np.random.permutation(len(df))[:n])\n",
    "    return df.iloc[idxs].copy()"
   ]
  },
  {
   "cell_type": "code",
   "execution_count": 50,
   "metadata": {},
   "outputs": [],
   "source": [
    "df = get_sample(data, 10000)"
   ]
  },
  {
   "cell_type": "code",
   "execution_count": 51,
   "metadata": {},
   "outputs": [],
   "source": [
    "y_true = df['is_duplicate']\n",
    "df.drop(['is_duplicate'], axis=1, inplace=True)"
   ]
  },
  {
   "cell_type": "code",
   "execution_count": 52,
   "metadata": {},
   "outputs": [],
   "source": [
    "X_train, X_test, y_train, y_test = train_test_split(df, y_true, stratify=y_true, test_size=0.2)\n",
    "X_train, X_cv, y_train, y_cv = train_test_split(X_train, y_train, stratify=y_train, test_size=0.2)\n",
    "\n"
   ]
  },
  {
   "cell_type": "code",
   "execution_count": 53,
   "metadata": {},
   "outputs": [
    {
     "name": "stdout",
     "output_type": "stream",
     "text": [
      "Number of data points in train data : (6400, 794)\n",
      "Number of data points in test data : (2000, 794)\n",
      "Number of data points in test data : (1600, 794)\n"
     ]
    }
   ],
   "source": [
    "print(\"Number of data points in train data :\",X_train.shape)\n",
    "print(\"Number of data points in test data :\",X_test.shape)\n",
    "print(\"Number of data points in test data :\",X_cv.shape)"
   ]
  },
  {
   "cell_type": "code",
   "execution_count": 54,
   "metadata": {},
   "outputs": [
    {
     "name": "stdout",
     "output_type": "stream",
     "text": [
      "---------- Distribution of output variable in train data ----------\n",
      "Class 0:  0.63015625 Class 1:  0.36984375\n",
      "---------- Distribution of output variable in test data ----------\n",
      "Class 0:  0.63 Class 1:  0.37\n",
      "---------- Distribution of output variable in cv data ----------\n",
      "Class 0:  0.63 Class 1:  0.37\n"
     ]
    }
   ],
   "source": [
    "print(\"-\"*10, \"Distribution of output variable in train data\", \"-\"*10)\n",
    "train_distr = Counter(y_train)\n",
    "train_len = len(y_train)\n",
    "print(\"Class 0: \",int(train_distr[0])/train_len,\"Class 1: \", int(train_distr[1])/train_len)\n",
    "\n",
    "print(\"-\"*10, \"Distribution of output variable in test data\", \"-\"*10)\n",
    "test_distr = Counter(y_test)\n",
    "test_len = len(y_test)\n",
    "print(\"Class 0: \",int(test_distr[0])/test_len, \"Class 1: \",int(test_distr[1])/test_len)\n",
    "\n",
    "print(\"-\"*10, \"Distribution of output variable in cv data\", \"-\"*10)\n",
    "cv_distr = Counter(y_cv)\n",
    "cv_len = len(y_cv)\n",
    "print(\"Class 0: \",int(cv_distr[0])/cv_len, \"Class 1: \",int(cv_distr[1])/cv_len)"
   ]
  },
  {
   "cell_type": "code",
   "execution_count": 37,
   "metadata": {},
   "outputs": [],
   "source": [
    "def plot_confusion_matrix(test_y, predict_y):\n",
    "    C = confusion_matrix(test_y, predict_y)\n",
    "    A =(((C.T)/(C.sum(axis=1))).T)\n",
    "    B =(C/C.sum(axis=0))\n",
    "    \n",
    "    plt.figure(figsize=(20,4))\n",
    "    \n",
    "    labels = [1,2]\n",
    "    # representing A in heatmap format\n",
    "    cmap=sns.light_palette(\"blue\")\n",
    "    plt.subplot(1, 3, 1)\n",
    "    sns.heatmap(C, annot=True, cmap=cmap, fmt=\".3f\", xticklabels=labels, yticklabels=labels)\n",
    "    plt.xlabel('Predicted Class')\n",
    "    plt.ylabel('Original Class')\n",
    "    plt.title(\"Confusion matrix\")\n",
    "    \n",
    "    plt.subplot(1, 3, 2)\n",
    "    sns.heatmap(B, annot=True, cmap=cmap, fmt=\".3f\", xticklabels=labels, yticklabels=labels)\n",
    "    plt.xlabel('Predicted Class')\n",
    "    plt.ylabel('Original Class')\n",
    "    plt.title(\"Precision matrix\")\n",
    "    \n",
    "    plt.subplot(1, 3, 3)\n",
    "    # representing B in heatmap format\n",
    "    sns.heatmap(A, annot=True, cmap=cmap, fmt=\".3f\", xticklabels=labels, yticklabels=labels)\n",
    "    plt.xlabel('Predicted Class')\n",
    "    plt.ylabel('Original Class')\n",
    "    plt.title(\"Recall matrix\")\n",
    "    \n",
    "    plt.show()\n",
    "    \n",
    "    "
   ]
  },
  {
   "cell_type": "code",
   "execution_count": 38,
   "metadata": {},
   "outputs": [
    {
     "name": "stdout",
     "output_type": "stream",
     "text": [
      "Log loss on Test Data using Random Model 0.8887140524529333\n"
     ]
    },
    {
     "data": {
      "image/png": "[encoded data removed]",
      "text/plain": [
       "<Figure size 1440x288 with 6 Axes>"
      ]
     },
     "metadata": {
      "needs_background": "light"
     },
     "output_type": "display_data"
    }
   ],
   "source": [
    "predicted_y = np.zeros((test_len,2))\n",
    "for i in range(test_len):\n",
    "    rand_probs = np.random.rand(1,2)\n",
    "    predicted_y[i] = ((rand_probs/sum(sum(rand_probs)))[0])\n",
    "print(\"Log loss on Test Data using Random Model\",log_loss(y_test, predicted_y, eps=1e-15))\n",
    "\n",
    "predicted_y =np.argmax(predicted_y, axis=1)\n",
    "plot_confusion_matrix(y_test, predicted_y)"
   ]
  },
  {
   "cell_type": "markdown",
   "metadata": {},
   "source": [
    "<h2> Logistic Regression with hyperparameter tuning </h2>"
   ]
  },
  {
   "cell_type": "code",
   "execution_count": 40,
   "metadata": {},
   "outputs": [
    {
     "name": "stdout",
     "output_type": "stream",
     "text": [
      "For values of alpha = 1e-05, The log loss is:: 0.6599460554236883\n",
      "For values of alpha = 0.0001, The log loss is:: 0.4526094862747391\n",
      "For values of alpha = 0.001, The log loss is:: 0.4543383971986447\n",
      "For values of alpha = 0.01, The log loss is:: 0.4514883067902497\n",
      "For values of alpha = 0.1, The log loss is:: 0.46721612784870054\n",
      "For values of alpha = 1, The log loss is:: 0.4704843311109969\n",
      "For values of alpha = 10, The log loss is:: 0.5087046919932283\n"
     ]
    }
   ],
   "source": [
    "alphas = [10 ** x for x in range(-5, 2)] # hyperparam for SGD classifier.\n",
    "log_error = []\n",
    "for alpha in alphas:\n",
    "    clf = SGDClassifier(alpha=alpha, penalty='l2', loss='log', random_state=42)\n",
    "    clf.fit(X_train, y_train)\n",
    "    clf_clb = CalibratedClassifierCV(clf, method=\"sigmoid\")\n",
    "    clf_clb.fit(X_train, y_train)\n",
    "    predict_y = clf_clb.predict_proba(X_cv)\n",
    "    loss = log_loss(y_cv, predict_y, labels=clf.classes_, eps=1e-15)\n",
    "    log_error.append(loss)\n",
    "    print(f'For values of alpha = {alpha}, The log loss is:: {loss}')\n"
   ]
  },
  {
   "cell_type": "code",
   "execution_count": 41,
   "metadata": {},
   "outputs": [
    {
     "data": {
      "image/png": "[encoded data removed]",
      "text/plain": [
       "<Figure size 432x288 with 1 Axes>"
      ]
     },
     "metadata": {
      "needs_background": "light"
     },
     "output_type": "display_data"
    }
   ],
   "source": [
    "fig, ax = plt.subplots()\n",
    "ax.plot(alphas, log_error, c='g')\n",
    "for i, txt in enumerate(np.round(log_error, 3)):\n",
    "    ax.annotate((alphas[i], np.round(txt, 3)), (alphas[i], log_error[i]))\n",
    "\n",
    "plt.grid()\n",
    "plt.title(\"Cross Validation Error for each alpha\")\n",
    "plt.xlabel(\"Alpha i's\")\n",
    "plt.ylabel(\"Error measure\")\n",
    "plt.show()"
   ]
  },
  {
   "cell_type": "code",
   "execution_count": 44,
   "metadata": {},
   "outputs": [
    {
     "name": "stdout",
     "output_type": "stream",
     "text": [
      "For values of best alpha =  0.01 The train log loss is: 0.44831539810890053\n",
      "For values of best alpha =  0.01 The test log loss is: 0.4515969391564091\n",
      "Total number of data points : 20000\n"
     ]
    },
    {
     "data": {
      "image/png": "[encoded data removed]",
      "text/plain": [
       "<Figure size 1440x288 with 6 Axes>"
      ]
     },
     "metadata": {
      "needs_background": "light"
     },
     "output_type": "display_data"
    }
   ],
   "source": [
    "best_alpha = np.argmin(log_error)\n",
    "clf = SGDClassifier(alpha=alphas[best_alpha], penalty='l2', loss='log', random_state=42)\n",
    "clf.fit(X_train, y_train)\n",
    "clf_clb = CalibratedClassifierCV(clf, method=\"sigmoid\")\n",
    "clf_clb.fit(X_train, y_train)\n",
    "\n",
    "predict_y = clf_clb.predict_proba(X_train)\n",
    "print('For values of best alpha = ', alphas[best_alpha], \"The train log loss is:\",log_loss(y_train, predict_y, labels=clf.classes_, eps=1e-15))\n",
    "predict_y = clf_clb.predict_proba(X_test)\n",
    "print('For values of best alpha = ', alphas[best_alpha], \"The test log loss is:\",log_loss(y_test, predict_y, labels=clf.classes_, eps=1e-15))\n",
    "predicted_y =np.argmax(predict_y,axis=1)\n",
    "print(\"Total number of data points :\", len(predicted_y))\n",
    "plot_confusion_matrix(y_test, predicted_y)"
   ]
  },
  {
   "cell_type": "markdown",
   "metadata": {},
   "source": [
    "<h2> Linear SVM with hyperparameter tuning </h2>"
   ]
  },
  {
   "cell_type": "code",
   "execution_count": 46,
   "metadata": {},
   "outputs": [],
   "source": [
    "# alphas = [10 ** x for x in range(-5, 2)] # hyperparam for SGD classifier.\n",
    "# log_error = []\n",
    "# for alpha in alphas:\n",
    "#     clf = SGDClassifier(alpha=alpha, penalty='l1', loss='hinge', random_state=42)\n",
    "#     clf.fit(X_train, y_train)\n",
    "#     clf_clb = CalibratedClassifierCV(clf, method=\"sigmoid\")\n",
    "#     clf_clb.fit(X_train, y_train)\n",
    "#     predict_y = clf_clb.predict_proba(X_cv)\n",
    "#     loss = log_loss(y_cv, predict_y, labels=clf.classes_, eps=1e-15)\n",
    "#     log_error.append(loss)\n",
    "#     print(f'For values of alpha = {alpha}, The log loss is:: {loss}')\n",
    "\n",
    "# fig, ax = plt.subplots()\n",
    "# ax.plot(alphas, log_error, c='g')\n",
    "# for i, txt in enumerate(np.round(log_error, 3)):\n",
    "#     ax.annotate((alphas[i], np.round(txt, 3)), (alphas[i], log_error[i]))\n",
    "\n",
    "# plt.grid()\n",
    "# plt.title(\"Cross Validation Error for each alpha\")\n",
    "# plt.xlabel(\"Alpha i's\")\n",
    "# plt.ylabel(\"Error measure\")\n",
    "# plt.show()\n",
    "\n",
    "\n",
    "# best_alpha = np.argmin(log_error)\n",
    "# clf = SGDClassifier(alpha=alphas[best_alpha], penalty='l1', loss='hinge', random_state=42)\n",
    "# clf.fit(X_train, y_train)\n",
    "# clf_clb = CalibratedClassifierCV(clf, method=\"sigmoid\")\n",
    "# clf_clb.fit(X_train, y_train)\n",
    "\n",
    "# predict_y = clf_clb.predict_proba(X_train)\n",
    "# print('For values of best alpha = ', alphas[best_alpha], \"The train log loss is:\",log_loss(y_train, predict_y, labels=clf.classes_, eps=1e-15))\n",
    "# predict_y = clf_clb.predict_proba(X_test)\n",
    "# print('For values of best alpha = ', alphas[best_alpha], \"The test log loss is:\",log_loss(y_test, predict_y, labels=clf.classes_, eps=1e-15))\n",
    "# predicted_y =np.argmax(predict_y,axis=1)\n",
    "# print(\"Total number of data points :\", len(predicted_y))\n",
    "# plot_confusion_matrix(y_test, predicted_y)"
   ]
  },
  {
   "cell_type": "markdown",
   "metadata": {},
   "source": [
    "<h2> Random Forest </h2>"
   ]
  },
  {
   "cell_type": "code",
   "execution_count": 64,
   "metadata": {},
   "outputs": [
    {
     "name": "stdout",
     "output_type": "stream",
     "text": [
      "For values of alpha = 100 and value for depth = 5, The log loss is:: 0.45801719950749925\n",
      "For values of alpha = 100 and value for depth = 10, The log loss is:: 0.43113160999550376\n",
      "For values of alpha = 200 and value for depth = 5, The log loss is:: 0.4525609516872848\n",
      "For values of alpha = 200 and value for depth = 10, The log loss is:: 0.4279104632153927\n"
     ]
    },
    {
     "data": {
      "image/png": "[encoded data removed]",
      "text/plain": [
       "<Figure size 432x288 with 2 Axes>"
      ]
     },
     "metadata": {
      "needs_background": "light"
     },
     "output_type": "display_data"
    },
    {
     "name": "stdout",
     "output_type": "stream",
     "text": [
      "For values of best alpha =  0.01 The train log loss is: 0.2100410184595701\n",
      "For values of best alpha =  0.01 The test log loss is: 0.4464192248116011\n",
      "Total number of data points : 2000\n"
     ]
    },
    {
     "data": {
      "image/png": "[encoded data removed]",
      "text/plain": [
       "<Figure size 1440x288 with 6 Axes>"
      ]
     },
     "metadata": {
      "needs_background": "light"
     },
     "output_type": "display_data"
    }
   ],
   "source": [
    "estimators = [100,200]\n",
    "depths = [5, 10]\n",
    "\n",
    "log_error = []\n",
    "for estimator in estimators:\n",
    "    cv_error = []\n",
    "    for depth in depths:\n",
    "        clf = RandomForestClassifier(n_estimators=estimator, criterion='gini', max_depth=depth, random_state=42, n_jobs=-1)\n",
    "        clf.fit(X_train, y_train)\n",
    "        clf_clb = CalibratedClassifierCV(clf, method=\"sigmoid\")\n",
    "        clf_clb.fit(X_train, y_train)\n",
    "        predict_y = clf_clb.predict_proba(X_cv)\n",
    "        loss = log_loss(y_cv, predict_y, labels=clf.classes_, eps=1e-15)\n",
    "        print(f'For values of alpha = {estimator} and value for depth = {depth}, The log loss is:: {loss}')\n",
    "        cv_error.append(loss)\n",
    "    log_error.append(cv_error)\n",
    "log_error=np.array(log_error)\n",
    "\n",
    "n = len(estimators)\n",
    "m = len(depths)\n",
    "df_plot = pd.DataFrame(data=log_error, index=estimators, columns=depths)\n",
    "sns.heatmap(df_plot, annot = True, fmt='.4g')\n",
    "plt.title(\"Cross Validation Error for RF\")\n",
    "plt.xlabel(\"max_depth\")\n",
    "plt.ylabel(\"n_estimators\")\n",
    "plt.show()\n",
    "\n",
    "\n",
    "indx = np.unravel_index(np.argmin(log_error, axis=None), log_error.shape)\n",
    "best_estimator = estimators[indx[0]]\n",
    "best_depth = depths[indx[1]]\n",
    "\n",
    "clf = RandomForestClassifier(n_estimators=best_estimator, criterion='gini', max_depth=best_depth, random_state=42, n_jobs=-1)\n",
    "clf.fit(X_train, y_train)\n",
    "clf_clb = CalibratedClassifierCV(clf, method=\"sigmoid\")\n",
    "clf_clb.fit(X_train, y_train)\n",
    "\n",
    "predict_y = clf_clb.predict_proba(X_train)\n",
    "print('For values of best alpha = ', alphas[best_alpha], \"The train log loss is:\",log_loss(y_train, predict_y, labels=clf.classes_, eps=1e-15))\n",
    "predict_y = clf_clb.predict_proba(X_test)\n",
    "print('For values of best alpha = ', alphas[best_alpha], \"The test log loss is:\",log_loss(y_test, predict_y, labels=clf.classes_, eps=1e-15))\n",
    "predicted_y =np.argmax(predict_y,axis=1)\n",
    "print(\"Total number of data points :\", len(predicted_y))\n",
    "plot_confusion_matrix(y_test, predicted_y)"
   ]
  },
  {
   "cell_type": "code",
   "execution_count": 63,
   "metadata": {},
   "outputs": [
    {
     "data": {
      "text/plain": [
       "[0.4580171995074994,\n",
       " 0.43113160999550376,\n",
       " [0.4580171995074994, 0.43113160999550376],\n",
       " 0.4525609516872848,\n",
       " 0.4279104632153926,\n",
       " [0.4525609516872848, 0.4279104632153926]]"
      ]
     },
     "execution_count": 63,
     "metadata": {},
     "output_type": "execute_result"
    }
   ],
   "source": [
    "\n",
    "log_error"
   ]
  },
  {
   "cell_type": "markdown",
   "metadata": {},
   "source": [
    "<h2> XGBoost Classifier </h2>"
   ]
  },
  {
   "cell_type": "code",
   "execution_count": 68,
   "metadata": {},
   "outputs": [
    {
     "name": "stdout",
     "output_type": "stream",
     "text": [
      "For values of alpha = 100 and value for depth = 5, The log loss is:: 0.38454353225840665\n",
      "For values of alpha = 100 and value for depth = 10, The log loss is:: 0.38454353225840665\n",
      "For values of alpha = 200 and value for depth = 5, The log loss is:: 0.38454353225840665\n",
      "For values of alpha = 200 and value for depth = 10, The log loss is:: 0.38454353225840665\n"
     ]
    },
    {
     "data": {
      "image/png": "[encoded data removed]",
      "text/plain": [
       "<Figure size 432x288 with 2 Axes>"
      ]
     },
     "metadata": {
      "needs_background": "light"
     },
     "output_type": "display_data"
    },
    {
     "name": "stdout",
     "output_type": "stream",
     "text": [
      "For values of best alpha =  0.01 The train log loss is: 0.19163324224589595\n",
      "For values of best alpha =  0.01 The test log loss is: 0.4165728940051301\n",
      "Total number of data points : 2000\n"
     ]
    },
    {
     "data": {
      "image/png": "[encoded data removed]",
      "text/plain": [
       "<Figure size 1440x288 with 6 Axes>"
      ]
     },
     "metadata": {
      "needs_background": "light"
     },
     "output_type": "display_data"
    }
   ],
   "source": [
    "estimators = [100,200]\n",
    "depths = [5, 10]\n",
    "\n",
    "log_error = []\n",
    "for estimator in estimators:\n",
    "    cv_error = []\n",
    "    for depth in depths:\n",
    "        clf = xgb.XGBClassifier(scale_pos_weight=float(np.sum(y_train == 0) / np.sum(y_train == 1)))\n",
    "        clf.fit(X_train, y_train)\n",
    "        clf_clb = CalibratedClassifierCV(clf, method=\"sigmoid\")\n",
    "        clf_clb.fit(X_train, y_train)\n",
    "        predict_y = clf_clb.predict_proba(X_cv)\n",
    "        loss = log_loss(y_cv, predict_y, labels=clf.classes_, eps=1e-15)\n",
    "        print(f'For values of alpha = {estimator} and value for depth = {depth}, The log loss is:: {loss}')\n",
    "        cv_error.append(loss)\n",
    "    log_error.append(cv_error)\n",
    "log_error=np.array(log_error)\n",
    "\n",
    "n = len(estimators)\n",
    "m = len(depths)\n",
    "df_plot = pd.DataFrame(data=log_error, index=estimators, columns=depths)\n",
    "sns.heatmap(df_plot, annot = True, fmt='.4g')\n",
    "plt.title(\"Cross Validation Error for RF\")\n",
    "plt.xlabel(\"max_depth\")\n",
    "plt.ylabel(\"n_estimators\")\n",
    "plt.show()\n",
    "\n",
    "\n",
    "indx = np.unravel_index(np.argmin(log_error, axis=None), log_error.shape)\n",
    "best_estimator = estimators[indx[0]]\n",
    "best_depth = depths[indx[1]]\n",
    "\n",
    "clf = xgb.XGBClassifier(max_depth=best_depth, n_estimators=best_estimator, scale_pos_weight=float(np.sum(y_train == 0) / np.sum(y_train == 1)))\n",
    "clf.fit(X_train, y_train)\n",
    "clf_clb = CalibratedClassifierCV(clf, method=\"sigmoid\")\n",
    "clf_clb.fit(X_train, y_train)\n",
    "\n",
    "predict_y = clf_clb.predict_proba(X_train)\n",
    "print('For values of best alpha = ', alphas[best_alpha], \"The train log loss is:\",log_loss(y_train, predict_y, labels=clf.classes_, eps=1e-15))\n",
    "predict_y = clf_clb.predict_proba(X_test)\n",
    "print('For values of best alpha = ', alphas[best_alpha], \"The test log loss is:\",log_loss(y_test, predict_y, labels=clf.classes_, eps=1e-15))\n",
    "predicted_y =np.argmax(predict_y,axis=1)\n",
    "print(\"Total number of data points :\", len(predicted_y))\n",
    "plot_confusion_matrix(y_test, predicted_y)"
   ]
  },
  {
   "cell_type": "markdown",
   "metadata": {},
   "source": [
    "<h2> Light GBM </h2>"
   ]
  },
  {
   "cell_type": "code",
   "execution_count": null,
   "metadata": {},
   "outputs": [],
   "source": [
    "estimators = [100,200]\n",
    "depths = [5, 10]\n",
    "\n",
    "log_error = []\n",
    "for estimator in estimators:\n",
    "    cv_error = []\n",
    "    for depth in depths:\n",
    "        clf = xgb.XGBClassifier(scale_pos_weight=float(np.sum(y_train == 0) / np.sum(y_train == 1)))\n",
    "        clf.fit(X_train, y_train)\n",
    "        clf_clb = CalibratedClassifierCV(clf, method=\"sigmoid\")\n",
    "        clf_clb.fit(X_train, y_train)\n",
    "        predict_y = clf_clb.predict_proba(X_cv)\n",
    "        loss = log_loss(y_cv, predict_y, labels=clf.classes_, eps=1e-15)\n",
    "        print(f'For values of alpha = {estimator} and value for depth = {depth}, The log loss is:: {loss}')\n",
    "        cv_error.append(loss)\n",
    "    log_error.append(cv_error)\n",
    "log_error=np.array(log_error)\n",
    "\n",
    "n = len(estimators)\n",
    "m = len(depths)\n",
    "df_plot = pd.DataFrame(data=log_error, index=estimators, columns=depths)\n",
    "sns.heatmap(df_plot, annot = True, fmt='.4g')\n",
    "plt.title(\"Cross Validation Error for RF\")\n",
    "plt.xlabel(\"max_depth\")\n",
    "plt.ylabel(\"n_estimators\")\n",
    "plt.show()\n",
    "\n",
    "\n",
    "indx = np.unravel_index(np.argmin(log_error, axis=None), log_error.shape)\n",
    "best_estimator = estimators[indx[0]]\n",
    "best_depth = depths[indx[1]]\n",
    "\n",
    "clf = xgb.XGBClassifier(max_depth=best_depth, n_estimators=best_estimator, scale_pos_weight=float(np.sum(y_train == 0) / np.sum(y_train == 1)))\n",
    "clf.fit(X_train, y_train)\n",
    "clf_clb = CalibratedClassifierCV(clf, method=\"sigmoid\")\n",
    "clf_clb.fit(X_train, y_train)\n",
    "\n",
    "predict_y = clf_clb.predict_proba(X_train)\n",
    "print('For values of best alpha = ', alphas[best_alpha], \"The train log loss is:\",log_loss(y_train, predict_y, labels=clf.classes_, eps=1e-15))\n",
    "predict_y = clf_clb.predict_proba(X_test)\n",
    "print('For values of best alpha = ', alphas[best_alpha], \"The test log loss is:\",log_loss(y_test, predict_y, labels=clf.classes_, eps=1e-15))\n",
    "predicted_y =np.argmax(predict_y,axis=1)\n",
    "print(\"Total number of data points :\", len(predicted_y))\n",
    "plot_confusion_matrix(y_test, predicted_y)"
   ]
  },
  {
   "cell_type": "markdown",
   "metadata": {},
   "source": [
    "<h2> Stack the models </h2>"
   ]
  },
  {
   "cell_type": "code",
   "execution_count": null,
   "metadata": {},
   "outputs": [],
   "source": [
    "clf1 = SGDClassifier(alpha=0.001, penalty='l2', loss='log', class_weight='balanced', random_state=0)\n",
    "clf1.fit(train_x_onehotCoding, train_y)\n",
    "clf1_calib = CalibratedClassifierCV(clf1, method=\"sigmoid\")\n",
    "clf1_calib.fit(X_train, y_train)\n",
    "\n",
    "clf2 = RandomForestClassifier(n_estimators=best_estimator, criterion='gini', max_depth=best_depth, random_state=0)\n",
    "clf2.fit(train_x_onehotCoding, train_y)\n",
    "clf2_calib = CalibratedClassifierCV(clf2, method=\"sigmoid\")\n",
    "clf2_calib.fit(X_train, y_train)\n",
    "\n",
    "clf3 = xgb.XGBClassifier(max_depth=best_depth, n_estimators=best_estimator, scale_pos_weight=float(np.sum(y_train == 0) / np.sum(y_train == 1)))\n",
    "clf3.fit(train_x_onehotCoding, train_y)\n",
    "clf3_calib = CalibratedClassifierCV(clf3, method=\"sigmoid\")\n",
    "clf3_calib.fit(X_train, y_train)\n",
    "         \n",
    "    \n",
    "print(\"Logistic Regression :  Log Loss: %0.2f\" % (log_loss(cv_y, sig_clf1.predict_proba(X_test))))\n",
    "\n",
    "print(\"Random Forest : Log Loss: %0.2f\" % (log_loss(cv_y, sig_clf2.predict_proba(X_test))))\n",
    "\n",
    "print(\"XG Boost : Log Loss: %0.2f\" % (log_loss(cv_y, sig_clf3.predict_proba(X_tes))))\n",
    "print(\"=\"*50)\n",
    "\n",
    "\n",
    "alpha = [0.0001,0.001,0.01,0.1,1,10]\n",
    "for i in alpha:\n",
    "    lr = LogisticRegression(C=i)\n",
    "    sclf = StackingClassifier(classifiers=[sig_clf1, sig_clf2, sig_clf3], meta_classifier=lr, use_probas=True)\n",
    "    sclf.fit(X_train, train_y)\n",
    "    log_error = log_loss(y_cv, sclf.predict_proba(X_cv))\n",
    "    print(\"Stacking Classifer : for the value of alpha: %f Log Loss: %0.3f\" % (i, log_error))\n",
    "    if best_alpha > log_error:\n",
    "        best_alpha = log_error\n",
    "                              "
   ]
  }
 ],
 "metadata": {
  "kernelspec": {
   "display_name": "Python 3",
   "language": "python",
   "name": "python3"
  },
  "language_info": {
   "codemirror_mode": {
    "name": "ipython",
    "version": 3
   },
   "file_extension": ".py",
   "mimetype": "text/x-python",
   "name": "python",
   "nbconvert_exporter": "python",
   "pygments_lexer": "ipython3",
   "version": "3.7.1"
  }
 },
 "nbformat": 4,
 "nbformat_minor": 2
}
